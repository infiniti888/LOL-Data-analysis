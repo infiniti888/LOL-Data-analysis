{
 "cells": [
  {
   "cell_type": "code",
   "execution_count": 1,
   "metadata": {},
   "outputs": [
    {
     "data": {
      "text/html": [
       "        <script type=\"text/javascript\">\n",
       "        window.PlotlyConfig = {MathJaxConfig: 'local'};\n",
       "        if (window.MathJax) {MathJax.Hub.Config({SVG: {font: \"STIX-Web\"}});}\n",
       "        if (typeof require !== 'undefined') {\n",
       "        require.undef(\"plotly\");\n",
       "        requirejs.config({\n",
       "            paths: {\n",
       "                'plotly': ['https://cdn.plot.ly/plotly-latest.min']\n",
       "            }\n",
       "        });\n",
       "        require(['plotly'], function(Plotly) {\n",
       "            window._Plotly = Plotly;\n",
       "        });\n",
       "        }\n",
       "        </script>\n",
       "        "
      ]
     },
     "metadata": {},
     "output_type": "display_data"
    },
    {
     "data": {
      "text/plain": [
       "Index(['gameid', 'url', 'league', 'split', 'date', 'game', 'patch', 'playerid',\n",
       "       'side', 'position', 'player', 'team', 'champion', 'ban1', 'ban2',\n",
       "       'ban3', 'ban4', 'ban5', 'gamelength', 'result', 'kills', 'deaths',\n",
       "       'assists', 'teamkills', 'teamdeaths', 'doublekills', 'triplekills',\n",
       "       'quadrakills', 'pentakills', 'firstblood', 'firstbloodkill',\n",
       "       'firstbloodassist', 'firstbloodvictim', 'team kpm', 'ckpm',\n",
       "       'firstdragon', 'dragons', 'opp_dragons', 'elementaldrakes',\n",
       "       'opp_elementaldrakes', 'infernals', 'mountains', 'clouds', 'oceans',\n",
       "       'dragons (type unknown)', 'elders', 'opp_elders', 'heralds',\n",
       "       'opp_heralds', 'firstbaron', 'barons', 'opp_barons', 'firsttower',\n",
       "       'towers', 'opp_towers', 'firstmidtower', 'firsttothreetowers',\n",
       "       'inhibitors', 'opp_inhibitors', 'damagetochampions', 'dpm',\n",
       "       'damageshare', 'wardsplaced', 'wpm', 'wardskilled', 'wcpm',\n",
       "       'controlwardsbought', 'visionscore', 'vspm', 'totalgold', 'earnedgold',\n",
       "       'earned gpm', 'earnedgoldshare', 'goldspent', 'gspd', 'total cs',\n",
       "       'minionkills', 'monsterkills', 'monsterkillsownjungle',\n",
       "       'monsterkillsenemyjungle', 'cspm', 'goldat10', 'xpat10', 'csat10',\n",
       "       'opp_goldat10', 'opp_xpat10', 'opp_csat10', 'golddiffat10',\n",
       "       'xpdiffat10', 'csdiffat10', 'goldat15', 'xpat15', 'csat15',\n",
       "       'opp_goldat15', 'opp_xpat15', 'opp_csat15', 'golddiffat15',\n",
       "       'xpdiffat15', 'csdiffat15'],\n",
       "      dtype='object')"
      ]
     },
     "execution_count": 1,
     "metadata": {},
     "output_type": "execute_result"
    }
   ],
   "source": [
    "import numpy as np \n",
    "import pandas as pd\n",
    "import matplotlib.pyplot as plt\n",
    "#import plotly.plotly as py\n",
    "import plotly as py\n",
    "import plotly.graph_objs as go\n",
    "import plotly.figure_factory as ff\n",
    "from plotly.offline import init_notebook_mode, iplot\n",
    "import seaborn as sns\n",
    "import warnings\n",
    "# fuente original https://www.kaggle.com/mdolres/league-of-legends-2018-world-championiship/comments\n",
    "warnings.filterwarnings('ignore')\n",
    "\n",
    "plt.style.use('bmh')\n",
    "%matplotlib inline\n",
    "plt.rcParams['figure.dpi'] = 100\n",
    "init_notebook_mode(connected=True) \n",
    "\n",
    "data = pd.read_csv('LECspring2020.csv', delimiter = ',')\n",
    "\n",
    "#def comma_to_point(x):\n",
    "#    return x.replace(',','.')\n",
    "#data['gamelength'] = data['gamelength'].apply(comma_to_point).astype('float64')\n",
    "#data['fttime'] = data['fttime'].apply(comma_to_point).astype('float64')\n",
    "columns= data.columns\n",
    "columns"
   ]
  },
  {
   "cell_type": "code",
   "execution_count": 2,
   "metadata": {},
   "outputs": [
    {
     "data": {
      "text/html": [
       "<div>\n",
       "<style scoped>\n",
       "    .dataframe tbody tr th:only-of-type {\n",
       "        vertical-align: middle;\n",
       "    }\n",
       "\n",
       "    .dataframe tbody tr th {\n",
       "        vertical-align: top;\n",
       "    }\n",
       "\n",
       "    .dataframe thead th {\n",
       "        text-align: right;\n",
       "    }\n",
       "</style>\n",
       "<table border=\"1\" class=\"dataframe\">\n",
       "  <thead>\n",
       "    <tr style=\"text-align: right;\">\n",
       "      <th></th>\n",
       "      <th>gameid</th>\n",
       "      <th>url</th>\n",
       "      <th>league</th>\n",
       "      <th>split</th>\n",
       "      <th>date</th>\n",
       "      <th>game</th>\n",
       "      <th>patch</th>\n",
       "      <th>playerid</th>\n",
       "      <th>side</th>\n",
       "      <th>position</th>\n",
       "      <th>...</th>\n",
       "      <th>csdiffat10</th>\n",
       "      <th>goldat15</th>\n",
       "      <th>xpat15</th>\n",
       "      <th>csat15</th>\n",
       "      <th>opp_goldat15</th>\n",
       "      <th>opp_xpat15</th>\n",
       "      <th>opp_csat15</th>\n",
       "      <th>golddiffat15</th>\n",
       "      <th>xpdiffat15</th>\n",
       "      <th>csdiffat15</th>\n",
       "    </tr>\n",
       "  </thead>\n",
       "  <tbody>\n",
       "    <tr>\n",
       "      <td>0</td>\n",
       "      <td>ESPORTSTMNT05/1390161</td>\n",
       "      <td>https://matchhistory.na.leagueoflegends.com/en...</td>\n",
       "      <td>LEC</td>\n",
       "      <td>2020-1</td>\n",
       "      <td>2020-01-24 08:17:26</td>\n",
       "      <td>1</td>\n",
       "      <td>10.01</td>\n",
       "      <td>1</td>\n",
       "      <td>Blue</td>\n",
       "      <td>top</td>\n",
       "      <td>...</td>\n",
       "      <td>11.0</td>\n",
       "      <td>4767.0</td>\n",
       "      <td>7130.0</td>\n",
       "      <td>131.0</td>\n",
       "      <td>5538.0</td>\n",
       "      <td>8084.0</td>\n",
       "      <td>126.0</td>\n",
       "      <td>-771.0</td>\n",
       "      <td>-954.0</td>\n",
       "      <td>5.0</td>\n",
       "    </tr>\n",
       "    <tr>\n",
       "      <td>1</td>\n",
       "      <td>ESPORTSTMNT05/1390161</td>\n",
       "      <td>https://matchhistory.na.leagueoflegends.com/en...</td>\n",
       "      <td>LEC</td>\n",
       "      <td>2020-1</td>\n",
       "      <td>2020-01-24 08:17:26</td>\n",
       "      <td>1</td>\n",
       "      <td>10.01</td>\n",
       "      <td>2</td>\n",
       "      <td>Blue</td>\n",
       "      <td>jng</td>\n",
       "      <td>...</td>\n",
       "      <td>-1.0</td>\n",
       "      <td>4397.0</td>\n",
       "      <td>4539.0</td>\n",
       "      <td>96.0</td>\n",
       "      <td>4560.0</td>\n",
       "      <td>4513.0</td>\n",
       "      <td>73.0</td>\n",
       "      <td>-163.0</td>\n",
       "      <td>26.0</td>\n",
       "      <td>23.0</td>\n",
       "    </tr>\n",
       "    <tr>\n",
       "      <td>2</td>\n",
       "      <td>ESPORTSTMNT05/1390161</td>\n",
       "      <td>https://matchhistory.na.leagueoflegends.com/en...</td>\n",
       "      <td>LEC</td>\n",
       "      <td>2020-1</td>\n",
       "      <td>2020-01-24 08:17:26</td>\n",
       "      <td>1</td>\n",
       "      <td>10.01</td>\n",
       "      <td>3</td>\n",
       "      <td>Blue</td>\n",
       "      <td>mid</td>\n",
       "      <td>...</td>\n",
       "      <td>-4.0</td>\n",
       "      <td>4836.0</td>\n",
       "      <td>7300.0</td>\n",
       "      <td>129.0</td>\n",
       "      <td>4884.0</td>\n",
       "      <td>7203.0</td>\n",
       "      <td>127.0</td>\n",
       "      <td>-48.0</td>\n",
       "      <td>97.0</td>\n",
       "      <td>2.0</td>\n",
       "    </tr>\n",
       "    <tr>\n",
       "      <td>3</td>\n",
       "      <td>ESPORTSTMNT05/1390161</td>\n",
       "      <td>https://matchhistory.na.leagueoflegends.com/en...</td>\n",
       "      <td>LEC</td>\n",
       "      <td>2020-1</td>\n",
       "      <td>2020-01-24 08:17:26</td>\n",
       "      <td>1</td>\n",
       "      <td>10.01</td>\n",
       "      <td>4</td>\n",
       "      <td>Blue</td>\n",
       "      <td>bot</td>\n",
       "      <td>...</td>\n",
       "      <td>11.0</td>\n",
       "      <td>5188.0</td>\n",
       "      <td>5508.0</td>\n",
       "      <td>124.0</td>\n",
       "      <td>5985.0</td>\n",
       "      <td>4882.0</td>\n",
       "      <td>115.0</td>\n",
       "      <td>-797.0</td>\n",
       "      <td>626.0</td>\n",
       "      <td>9.0</td>\n",
       "    </tr>\n",
       "    <tr>\n",
       "      <td>4</td>\n",
       "      <td>ESPORTSTMNT05/1390161</td>\n",
       "      <td>https://matchhistory.na.leagueoflegends.com/en...</td>\n",
       "      <td>LEC</td>\n",
       "      <td>2020-1</td>\n",
       "      <td>2020-01-24 08:17:26</td>\n",
       "      <td>1</td>\n",
       "      <td>10.01</td>\n",
       "      <td>5</td>\n",
       "      <td>Blue</td>\n",
       "      <td>sup</td>\n",
       "      <td>...</td>\n",
       "      <td>0.0</td>\n",
       "      <td>3178.0</td>\n",
       "      <td>3922.0</td>\n",
       "      <td>23.0</td>\n",
       "      <td>3944.0</td>\n",
       "      <td>4299.0</td>\n",
       "      <td>21.0</td>\n",
       "      <td>-766.0</td>\n",
       "      <td>-377.0</td>\n",
       "      <td>2.0</td>\n",
       "    </tr>\n",
       "  </tbody>\n",
       "</table>\n",
       "<p>5 rows × 99 columns</p>\n",
       "</div>"
      ],
      "text/plain": [
       "                  gameid                                                url  \\\n",
       "0  ESPORTSTMNT05/1390161  https://matchhistory.na.leagueoflegends.com/en...   \n",
       "1  ESPORTSTMNT05/1390161  https://matchhistory.na.leagueoflegends.com/en...   \n",
       "2  ESPORTSTMNT05/1390161  https://matchhistory.na.leagueoflegends.com/en...   \n",
       "3  ESPORTSTMNT05/1390161  https://matchhistory.na.leagueoflegends.com/en...   \n",
       "4  ESPORTSTMNT05/1390161  https://matchhistory.na.leagueoflegends.com/en...   \n",
       "\n",
       "  league   split                 date  game  patch  playerid  side position  \\\n",
       "0    LEC  2020-1  2020-01-24 08:17:26     1  10.01         1  Blue      top   \n",
       "1    LEC  2020-1  2020-01-24 08:17:26     1  10.01         2  Blue      jng   \n",
       "2    LEC  2020-1  2020-01-24 08:17:26     1  10.01         3  Blue      mid   \n",
       "3    LEC  2020-1  2020-01-24 08:17:26     1  10.01         4  Blue      bot   \n",
       "4    LEC  2020-1  2020-01-24 08:17:26     1  10.01         5  Blue      sup   \n",
       "\n",
       "   ... csdiffat10 goldat15  xpat15 csat15 opp_goldat15 opp_xpat15 opp_csat15  \\\n",
       "0  ...       11.0   4767.0  7130.0  131.0       5538.0     8084.0      126.0   \n",
       "1  ...       -1.0   4397.0  4539.0   96.0       4560.0     4513.0       73.0   \n",
       "2  ...       -4.0   4836.0  7300.0  129.0       4884.0     7203.0      127.0   \n",
       "3  ...       11.0   5188.0  5508.0  124.0       5985.0     4882.0      115.0   \n",
       "4  ...        0.0   3178.0  3922.0   23.0       3944.0     4299.0       21.0   \n",
       "\n",
       "  golddiffat15  xpdiffat15  csdiffat15  \n",
       "0       -771.0      -954.0         5.0  \n",
       "1       -163.0        26.0        23.0  \n",
       "2        -48.0        97.0         2.0  \n",
       "3       -797.0       626.0         9.0  \n",
       "4       -766.0      -377.0         2.0  \n",
       "\n",
       "[5 rows x 99 columns]"
      ]
     },
     "execution_count": 2,
     "metadata": {},
     "output_type": "execute_result"
    }
   ],
   "source": [
    "data.head()"
   ]
  },
  {
   "cell_type": "code",
   "execution_count": 3,
   "metadata": {},
   "outputs": [],
   "source": [
    "#data = pd.DataFrame(data[(data.league == 'LEC')])"
   ]
  },
  {
   "cell_type": "code",
   "execution_count": 4,
   "metadata": {},
   "outputs": [
    {
     "data": {
      "text/plain": [
       "(1452, 99)"
      ]
     },
     "execution_count": 4,
     "metadata": {},
     "output_type": "execute_result"
    }
   ],
   "source": [
    "data.shape\n",
    "#'G2 Esports'\n",
    "#'Mikyx'"
   ]
  },
  {
   "cell_type": "code",
   "execution_count": 5,
   "metadata": {},
   "outputs": [],
   "source": [
    "#data.to_csv(r'C:\\Users\\isaac\\Desktop\\Python\\LOL\\spring 2019\\LECspring2020.csv', index = False)"
   ]
  },
  {
   "cell_type": "code",
   "execution_count": 6,
   "metadata": {},
   "outputs": [
    {
     "data": {
      "text/plain": [
       "[array(['Wunder', 'Jankos', 'PERKZ', 'Caps', 'Mikyx', 'Orome', 'Shad0w',\n",
       "        'Humanoid', 'Carzzy', 'Kaiser', nan, 'Sacre', 'Trick', 'Jenax',\n",
       "        'Crownshot', 'LIMIT', 'Cabochard', 'Skeanz', 'Saken', 'Comp',\n",
       "        'Jactroll', 'Finn', 'Inspired', 'Larssen', 'Hans sama', 'Vander',\n",
       "        'Dan Dan', 'Razork', 'FEBIVEN', 'Bvoy', 'denyk', 'Expect',\n",
       "        'Caedrel', 'Mickey', 'Patrik', 'Tore', 'Odoamne', 'Gilius',\n",
       "        'Abbedagge', 'FORG1VEN', 'Dreams', 'Bwipo', 'Selfmade', 'Nemesis',\n",
       "        'Rekkles', 'Hylissang', 'Alphari', 'Xerxe', 'Nukeduck', 'Upset',\n",
       "        'Destiny', 'Lurox', 'Innaxe', 'Steeelback', 'Selfie', 'Ventair'],\n",
       "       dtype=object)]"
      ]
     },
     "execution_count": 6,
     "metadata": {},
     "output_type": "execute_result"
    }
   ],
   "source": [
    "player_names = [data.player.unique()]\n",
    "player_names"
   ]
  },
  {
   "cell_type": "code",
   "execution_count": 7,
   "metadata": {},
   "outputs": [],
   "source": [
    "player_names= player_list=['Wunder', 'Jankos', 'PERKZ', 'Caps', 'Mikyx', 'Orome', 'Shad0w',\n",
    "        'Humanoid', 'Carzzy', 'Kaiser', 'Sacre', 'Trick', 'Jenax',\n",
    "        'Crownshot', 'LIMIT', 'Cabochard', 'Skeanz', 'Saken', 'Comp',\n",
    "        'Jactroll', 'Finn', 'Inspired', 'Larssen', 'Hans sama', 'Vander',\n",
    "        'Dan Dan', 'Razork', 'FEBIVEN', 'Bvoy', 'denyk', 'Expect',\n",
    "        'Caedrel', 'Mickey', 'Patrik', 'Tore', 'Odoamne', 'Gilius',\n",
    "        'Abbedagge', 'FORG1VEN', 'Dreams', 'Bwipo', 'Selfmade', 'Nemesis',\n",
    "        'Rekkles', 'Hylissang', 'Alphari', 'Xerxe', 'Nukeduck', 'Upset',\n",
    "        'Destiny', 'Lurox', 'Innaxe', 'Steeelback', 'Selfie', 'Ventair']"
   ]
  },
  {
   "cell_type": "code",
   "execution_count": 8,
   "metadata": {},
   "outputs": [],
   "source": [
    "player_list.remove('Mikyx')#list es el mateix pero sense el Mikyx"
   ]
  },
  {
   "cell_type": "code",
   "execution_count": 9,
   "metadata": {},
   "outputs": [],
   "source": [
    "# Initialize the Dataframe\n",
    "players = pd.DataFrame(data[(data.player == 'Mikyx')].mean())\n",
    "players = players.transpose()\n",
    "players.rename(index={0:'Mikyx'}, inplace=True)\n",
    "\n",
    "# Append each player\n",
    "for player in player_list:\n",
    "        p = pd.DataFrame((data[(data.player == player)].mean())).transpose()\n",
    "        p.rename(index={0: player}, inplace=True)\n",
    "        players = pd.concat([players, p], sort=False)"
   ]
  },
  {
   "cell_type": "code",
   "execution_count": 10,
   "metadata": {},
   "outputs": [
    {
     "data": {
      "text/plain": [
       "Index(['game', 'patch', 'playerid', 'gamelength', 'result', 'kills', 'deaths',\n",
       "       'assists', 'teamkills', 'teamdeaths', 'doublekills', 'triplekills',\n",
       "       'quadrakills', 'pentakills', 'firstblood', 'firstbloodkill',\n",
       "       'firstbloodassist', 'firstbloodvictim', 'team kpm', 'ckpm',\n",
       "       'firstdragon', 'dragons', 'opp_dragons', 'elementaldrakes',\n",
       "       'opp_elementaldrakes', 'infernals', 'mountains', 'clouds', 'oceans',\n",
       "       'dragons (type unknown)', 'elders', 'opp_elders', 'heralds',\n",
       "       'opp_heralds', 'firstbaron', 'barons', 'opp_barons', 'firsttower',\n",
       "       'towers', 'opp_towers', 'firstmidtower', 'firsttothreetowers',\n",
       "       'inhibitors', 'opp_inhibitors', 'damagetochampions', 'dpm',\n",
       "       'damageshare', 'wardsplaced', 'wpm', 'wardskilled', 'wcpm',\n",
       "       'controlwardsbought', 'visionscore', 'vspm', 'totalgold', 'earnedgold',\n",
       "       'earned gpm', 'earnedgoldshare', 'goldspent', 'gspd', 'total cs',\n",
       "       'minionkills', 'monsterkills', 'monsterkillsownjungle',\n",
       "       'monsterkillsenemyjungle', 'cspm', 'goldat10', 'xpat10', 'csat10',\n",
       "       'opp_goldat10', 'opp_xpat10', 'opp_csat10', 'golddiffat10',\n",
       "       'xpdiffat10', 'csdiffat10', 'goldat15', 'xpat15', 'csat15',\n",
       "       'opp_goldat15', 'opp_xpat15', 'opp_csat15', 'golddiffat15',\n",
       "       'xpdiffat15', 'csdiffat15'],\n",
       "      dtype='object')"
      ]
     },
     "execution_count": 10,
     "metadata": {},
     "output_type": "execute_result"
    }
   ],
   "source": [
    "players.columns"
   ]
  },
  {
   "cell_type": "code",
   "execution_count": 11,
   "metadata": {},
   "outputs": [
    {
     "data": {
      "text/html": [
       "<div>\n",
       "<style scoped>\n",
       "    .dataframe tbody tr th:only-of-type {\n",
       "        vertical-align: middle;\n",
       "    }\n",
       "\n",
       "    .dataframe tbody tr th {\n",
       "        vertical-align: top;\n",
       "    }\n",
       "\n",
       "    .dataframe thead th {\n",
       "        text-align: right;\n",
       "    }\n",
       "</style>\n",
       "<table border=\"1\" class=\"dataframe\">\n",
       "  <thead>\n",
       "    <tr style=\"text-align: right;\">\n",
       "      <th></th>\n",
       "      <th>game</th>\n",
       "      <th>patch</th>\n",
       "      <th>playerid</th>\n",
       "      <th>gamelength</th>\n",
       "      <th>result</th>\n",
       "      <th>kills</th>\n",
       "      <th>deaths</th>\n",
       "      <th>assists</th>\n",
       "      <th>teamkills</th>\n",
       "      <th>teamdeaths</th>\n",
       "      <th>...</th>\n",
       "      <th>csdiffat10</th>\n",
       "      <th>goldat15</th>\n",
       "      <th>xpat15</th>\n",
       "      <th>csat15</th>\n",
       "      <th>opp_goldat15</th>\n",
       "      <th>opp_xpat15</th>\n",
       "      <th>opp_csat15</th>\n",
       "      <th>golddiffat15</th>\n",
       "      <th>xpdiffat15</th>\n",
       "      <th>csdiffat15</th>\n",
       "    </tr>\n",
       "  </thead>\n",
       "  <tbody>\n",
       "    <tr>\n",
       "      <td>Mikyx</td>\n",
       "      <td>1.735294</td>\n",
       "      <td>10.045882</td>\n",
       "      <td>7.205882</td>\n",
       "      <td>1927.911765</td>\n",
       "      <td>0.764706</td>\n",
       "      <td>1.117647</td>\n",
       "      <td>2.882353</td>\n",
       "      <td>12.970588</td>\n",
       "      <td>19.117647</td>\n",
       "      <td>13.941176</td>\n",
       "      <td>...</td>\n",
       "      <td>3.242424</td>\n",
       "      <td>3532.757576</td>\n",
       "      <td>3897.515152</td>\n",
       "      <td>24.909091</td>\n",
       "      <td>3469.181818</td>\n",
       "      <td>3726.303030</td>\n",
       "      <td>20.000000</td>\n",
       "      <td>63.575758</td>\n",
       "      <td>171.212121</td>\n",
       "      <td>4.909091</td>\n",
       "    </tr>\n",
       "    <tr>\n",
       "      <td>Wunder</td>\n",
       "      <td>1.735294</td>\n",
       "      <td>10.045882</td>\n",
       "      <td>3.205882</td>\n",
       "      <td>1927.911765</td>\n",
       "      <td>0.764706</td>\n",
       "      <td>3.088235</td>\n",
       "      <td>3.088235</td>\n",
       "      <td>7.764706</td>\n",
       "      <td>19.117647</td>\n",
       "      <td>13.941176</td>\n",
       "      <td>...</td>\n",
       "      <td>4.757576</td>\n",
       "      <td>5363.181818</td>\n",
       "      <td>7047.030303</td>\n",
       "      <td>119.393939</td>\n",
       "      <td>5111.333333</td>\n",
       "      <td>6879.545455</td>\n",
       "      <td>114.666667</td>\n",
       "      <td>251.848485</td>\n",
       "      <td>167.484848</td>\n",
       "      <td>4.727273</td>\n",
       "    </tr>\n",
       "    <tr>\n",
       "      <td>Jankos</td>\n",
       "      <td>1.735294</td>\n",
       "      <td>10.045882</td>\n",
       "      <td>4.205882</td>\n",
       "      <td>1927.911765</td>\n",
       "      <td>0.764706</td>\n",
       "      <td>4.352941</td>\n",
       "      <td>2.558824</td>\n",
       "      <td>8.705882</td>\n",
       "      <td>19.117647</td>\n",
       "      <td>13.941176</td>\n",
       "      <td>...</td>\n",
       "      <td>-1.181818</td>\n",
       "      <td>5035.090909</td>\n",
       "      <td>5110.666667</td>\n",
       "      <td>84.030303</td>\n",
       "      <td>4838.212121</td>\n",
       "      <td>4973.515152</td>\n",
       "      <td>83.121212</td>\n",
       "      <td>196.878788</td>\n",
       "      <td>137.151515</td>\n",
       "      <td>0.909091</td>\n",
       "    </tr>\n",
       "    <tr>\n",
       "      <td>PERKZ</td>\n",
       "      <td>1.735294</td>\n",
       "      <td>10.045882</td>\n",
       "      <td>5.205882</td>\n",
       "      <td>1927.911765</td>\n",
       "      <td>0.764706</td>\n",
       "      <td>5.029412</td>\n",
       "      <td>2.558824</td>\n",
       "      <td>6.852941</td>\n",
       "      <td>19.117647</td>\n",
       "      <td>13.941176</td>\n",
       "      <td>...</td>\n",
       "      <td>-0.181818</td>\n",
       "      <td>5536.090909</td>\n",
       "      <td>7306.181818</td>\n",
       "      <td>131.151515</td>\n",
       "      <td>5252.000000</td>\n",
       "      <td>7156.363636</td>\n",
       "      <td>129.060606</td>\n",
       "      <td>284.090909</td>\n",
       "      <td>149.818182</td>\n",
       "      <td>2.090909</td>\n",
       "    </tr>\n",
       "    <tr>\n",
       "      <td>Caps</td>\n",
       "      <td>1.735294</td>\n",
       "      <td>10.045882</td>\n",
       "      <td>6.205882</td>\n",
       "      <td>1927.911765</td>\n",
       "      <td>0.764706</td>\n",
       "      <td>5.529412</td>\n",
       "      <td>2.852941</td>\n",
       "      <td>8.647059</td>\n",
       "      <td>19.117647</td>\n",
       "      <td>13.941176</td>\n",
       "      <td>...</td>\n",
       "      <td>-4.636364</td>\n",
       "      <td>5616.090909</td>\n",
       "      <td>5395.060606</td>\n",
       "      <td>116.151515</td>\n",
       "      <td>5653.454545</td>\n",
       "      <td>5394.303030</td>\n",
       "      <td>125.272727</td>\n",
       "      <td>-37.363636</td>\n",
       "      <td>0.757576</td>\n",
       "      <td>-9.121212</td>\n",
       "    </tr>\n",
       "    <tr>\n",
       "      <td>Orome</td>\n",
       "      <td>1.633333</td>\n",
       "      <td>10.044000</td>\n",
       "      <td>4.500000</td>\n",
       "      <td>1995.133333</td>\n",
       "      <td>0.500000</td>\n",
       "      <td>1.933333</td>\n",
       "      <td>3.133333</td>\n",
       "      <td>5.900000</td>\n",
       "      <td>14.333333</td>\n",
       "      <td>15.000000</td>\n",
       "      <td>...</td>\n",
       "      <td>-6.827586</td>\n",
       "      <td>5087.620690</td>\n",
       "      <td>6943.034483</td>\n",
       "      <td>115.655172</td>\n",
       "      <td>5360.344828</td>\n",
       "      <td>7007.172414</td>\n",
       "      <td>121.896552</td>\n",
       "      <td>-272.724138</td>\n",
       "      <td>-64.137931</td>\n",
       "      <td>-6.241379</td>\n",
       "    </tr>\n",
       "    <tr>\n",
       "      <td>Shad0w</td>\n",
       "      <td>1.633333</td>\n",
       "      <td>10.044000</td>\n",
       "      <td>5.500000</td>\n",
       "      <td>1995.133333</td>\n",
       "      <td>0.500000</td>\n",
       "      <td>3.766667</td>\n",
       "      <td>2.900000</td>\n",
       "      <td>5.933333</td>\n",
       "      <td>14.333333</td>\n",
       "      <td>15.000000</td>\n",
       "      <td>...</td>\n",
       "      <td>0.655172</td>\n",
       "      <td>4959.551724</td>\n",
       "      <td>5046.551724</td>\n",
       "      <td>88.137931</td>\n",
       "      <td>4866.103448</td>\n",
       "      <td>5039.482759</td>\n",
       "      <td>84.724138</td>\n",
       "      <td>93.448276</td>\n",
       "      <td>7.068966</td>\n",
       "      <td>3.413793</td>\n",
       "    </tr>\n",
       "    <tr>\n",
       "      <td>Humanoid</td>\n",
       "      <td>1.633333</td>\n",
       "      <td>10.044000</td>\n",
       "      <td>6.500000</td>\n",
       "      <td>1995.133333</td>\n",
       "      <td>0.500000</td>\n",
       "      <td>3.133333</td>\n",
       "      <td>3.200000</td>\n",
       "      <td>5.333333</td>\n",
       "      <td>14.333333</td>\n",
       "      <td>15.000000</td>\n",
       "      <td>...</td>\n",
       "      <td>-0.103448</td>\n",
       "      <td>5464.896552</td>\n",
       "      <td>7263.862069</td>\n",
       "      <td>132.448276</td>\n",
       "      <td>5544.896552</td>\n",
       "      <td>7156.413793</td>\n",
       "      <td>131.000000</td>\n",
       "      <td>-80.000000</td>\n",
       "      <td>107.448276</td>\n",
       "      <td>1.448276</td>\n",
       "    </tr>\n",
       "    <tr>\n",
       "      <td>Carzzy</td>\n",
       "      <td>1.633333</td>\n",
       "      <td>10.044000</td>\n",
       "      <td>7.500000</td>\n",
       "      <td>1995.133333</td>\n",
       "      <td>0.500000</td>\n",
       "      <td>4.533333</td>\n",
       "      <td>2.700000</td>\n",
       "      <td>4.666667</td>\n",
       "      <td>14.333333</td>\n",
       "      <td>15.000000</td>\n",
       "      <td>...</td>\n",
       "      <td>-0.931034</td>\n",
       "      <td>5613.827586</td>\n",
       "      <td>5495.413793</td>\n",
       "      <td>126.448276</td>\n",
       "      <td>5679.275862</td>\n",
       "      <td>5446.275862</td>\n",
       "      <td>127.000000</td>\n",
       "      <td>-65.448276</td>\n",
       "      <td>49.137931</td>\n",
       "      <td>-0.551724</td>\n",
       "    </tr>\n",
       "    <tr>\n",
       "      <td>Kaiser</td>\n",
       "      <td>1.633333</td>\n",
       "      <td>10.044000</td>\n",
       "      <td>8.500000</td>\n",
       "      <td>1995.133333</td>\n",
       "      <td>0.500000</td>\n",
       "      <td>0.966667</td>\n",
       "      <td>3.066667</td>\n",
       "      <td>8.633333</td>\n",
       "      <td>14.333333</td>\n",
       "      <td>15.000000</td>\n",
       "      <td>...</td>\n",
       "      <td>-0.103448</td>\n",
       "      <td>3504.413793</td>\n",
       "      <td>3682.724138</td>\n",
       "      <td>23.896552</td>\n",
       "      <td>3490.862069</td>\n",
       "      <td>3779.689655</td>\n",
       "      <td>24.068966</td>\n",
       "      <td>13.551724</td>\n",
       "      <td>-96.965517</td>\n",
       "      <td>-0.172414</td>\n",
       "    </tr>\n",
       "    <tr>\n",
       "      <td>Sacre</td>\n",
       "      <td>1.000000</td>\n",
       "      <td>10.031250</td>\n",
       "      <td>3.500000</td>\n",
       "      <td>2050.250000</td>\n",
       "      <td>0.250000</td>\n",
       "      <td>1.312500</td>\n",
       "      <td>2.125000</td>\n",
       "      <td>2.937500</td>\n",
       "      <td>8.312500</td>\n",
       "      <td>13.875000</td>\n",
       "      <td>...</td>\n",
       "      <td>-6.687500</td>\n",
       "      <td>5076.687500</td>\n",
       "      <td>7286.125000</td>\n",
       "      <td>124.937500</td>\n",
       "      <td>5422.750000</td>\n",
       "      <td>7423.687500</td>\n",
       "      <td>132.437500</td>\n",
       "      <td>-346.062500</td>\n",
       "      <td>-137.562500</td>\n",
       "      <td>-7.500000</td>\n",
       "    </tr>\n",
       "    <tr>\n",
       "      <td>Trick</td>\n",
       "      <td>1.000000</td>\n",
       "      <td>10.033333</td>\n",
       "      <td>4.500000</td>\n",
       "      <td>2040.944444</td>\n",
       "      <td>0.222222</td>\n",
       "      <td>1.388889</td>\n",
       "      <td>3.388889</td>\n",
       "      <td>4.277778</td>\n",
       "      <td>7.833333</td>\n",
       "      <td>13.722222</td>\n",
       "      <td>...</td>\n",
       "      <td>-1.222222</td>\n",
       "      <td>4618.500000</td>\n",
       "      <td>4962.222222</td>\n",
       "      <td>87.166667</td>\n",
       "      <td>4947.444444</td>\n",
       "      <td>4977.111111</td>\n",
       "      <td>87.166667</td>\n",
       "      <td>-328.944444</td>\n",
       "      <td>-14.888889</td>\n",
       "      <td>0.000000</td>\n",
       "    </tr>\n",
       "    <tr>\n",
       "      <td>Jenax</td>\n",
       "      <td>1.000000</td>\n",
       "      <td>10.033333</td>\n",
       "      <td>5.500000</td>\n",
       "      <td>2040.944444</td>\n",
       "      <td>0.222222</td>\n",
       "      <td>1.888889</td>\n",
       "      <td>2.888889</td>\n",
       "      <td>3.055556</td>\n",
       "      <td>7.833333</td>\n",
       "      <td>13.722222</td>\n",
       "      <td>...</td>\n",
       "      <td>-0.166667</td>\n",
       "      <td>5265.777778</td>\n",
       "      <td>7223.444444</td>\n",
       "      <td>134.555556</td>\n",
       "      <td>5530.166667</td>\n",
       "      <td>7415.777778</td>\n",
       "      <td>137.444444</td>\n",
       "      <td>-264.388889</td>\n",
       "      <td>-192.333333</td>\n",
       "      <td>-2.888889</td>\n",
       "    </tr>\n",
       "    <tr>\n",
       "      <td>Crownshot</td>\n",
       "      <td>1.000000</td>\n",
       "      <td>10.033333</td>\n",
       "      <td>6.500000</td>\n",
       "      <td>2040.944444</td>\n",
       "      <td>0.222222</td>\n",
       "      <td>2.666667</td>\n",
       "      <td>1.833333</td>\n",
       "      <td>2.833333</td>\n",
       "      <td>7.833333</td>\n",
       "      <td>13.722222</td>\n",
       "      <td>...</td>\n",
       "      <td>7.833333</td>\n",
       "      <td>5575.555556</td>\n",
       "      <td>5439.944444</td>\n",
       "      <td>140.666667</td>\n",
       "      <td>5343.000000</td>\n",
       "      <td>5548.722222</td>\n",
       "      <td>128.277778</td>\n",
       "      <td>232.555556</td>\n",
       "      <td>-108.777778</td>\n",
       "      <td>12.388889</td>\n",
       "    </tr>\n",
       "    <tr>\n",
       "      <td>LIMIT</td>\n",
       "      <td>1.000000</td>\n",
       "      <td>10.033333</td>\n",
       "      <td>7.500000</td>\n",
       "      <td>2040.944444</td>\n",
       "      <td>0.222222</td>\n",
       "      <td>0.611111</td>\n",
       "      <td>3.555556</td>\n",
       "      <td>4.722222</td>\n",
       "      <td>7.833333</td>\n",
       "      <td>13.722222</td>\n",
       "      <td>...</td>\n",
       "      <td>-4.833333</td>\n",
       "      <td>3383.666667</td>\n",
       "      <td>3907.666667</td>\n",
       "      <td>19.333333</td>\n",
       "      <td>3563.722222</td>\n",
       "      <td>3923.833333</td>\n",
       "      <td>25.388889</td>\n",
       "      <td>-180.055556</td>\n",
       "      <td>-16.166667</td>\n",
       "      <td>-6.055556</td>\n",
       "    </tr>\n",
       "    <tr>\n",
       "      <td>Cabochard</td>\n",
       "      <td>1.000000</td>\n",
       "      <td>10.033333</td>\n",
       "      <td>3.500000</td>\n",
       "      <td>2127.166667</td>\n",
       "      <td>0.111111</td>\n",
       "      <td>1.333333</td>\n",
       "      <td>2.888889</td>\n",
       "      <td>3.611111</td>\n",
       "      <td>8.944444</td>\n",
       "      <td>15.611111</td>\n",
       "      <td>...</td>\n",
       "      <td>9.277778</td>\n",
       "      <td>5144.000000</td>\n",
       "      <td>7328.777778</td>\n",
       "      <td>124.722222</td>\n",
       "      <td>4983.277778</td>\n",
       "      <td>6975.055556</td>\n",
       "      <td>113.444444</td>\n",
       "      <td>160.722222</td>\n",
       "      <td>353.722222</td>\n",
       "      <td>11.277778</td>\n",
       "    </tr>\n",
       "    <tr>\n",
       "      <td>Skeanz</td>\n",
       "      <td>1.000000</td>\n",
       "      <td>10.033333</td>\n",
       "      <td>4.500000</td>\n",
       "      <td>2127.166667</td>\n",
       "      <td>0.111111</td>\n",
       "      <td>1.888889</td>\n",
       "      <td>2.277778</td>\n",
       "      <td>4.333333</td>\n",
       "      <td>8.944444</td>\n",
       "      <td>15.611111</td>\n",
       "      <td>...</td>\n",
       "      <td>-1.277778</td>\n",
       "      <td>4634.666667</td>\n",
       "      <td>4790.277778</td>\n",
       "      <td>84.388889</td>\n",
       "      <td>4818.500000</td>\n",
       "      <td>5134.611111</td>\n",
       "      <td>88.611111</td>\n",
       "      <td>-183.833333</td>\n",
       "      <td>-344.333333</td>\n",
       "      <td>-4.222222</td>\n",
       "    </tr>\n",
       "    <tr>\n",
       "      <td>Saken</td>\n",
       "      <td>1.000000</td>\n",
       "      <td>10.025000</td>\n",
       "      <td>4.666667</td>\n",
       "      <td>2041.333333</td>\n",
       "      <td>0.083333</td>\n",
       "      <td>1.666667</td>\n",
       "      <td>3.416667</td>\n",
       "      <td>2.500000</td>\n",
       "      <td>7.500000</td>\n",
       "      <td>14.250000</td>\n",
       "      <td>...</td>\n",
       "      <td>-8.500000</td>\n",
       "      <td>5243.666667</td>\n",
       "      <td>7215.750000</td>\n",
       "      <td>134.583333</td>\n",
       "      <td>5666.750000</td>\n",
       "      <td>7639.750000</td>\n",
       "      <td>146.833333</td>\n",
       "      <td>-423.083333</td>\n",
       "      <td>-424.000000</td>\n",
       "      <td>-12.250000</td>\n",
       "    </tr>\n",
       "    <tr>\n",
       "      <td>Comp</td>\n",
       "      <td>1.000000</td>\n",
       "      <td>10.033333</td>\n",
       "      <td>6.500000</td>\n",
       "      <td>2127.166667</td>\n",
       "      <td>0.111111</td>\n",
       "      <td>2.833333</td>\n",
       "      <td>2.722222</td>\n",
       "      <td>2.611111</td>\n",
       "      <td>8.944444</td>\n",
       "      <td>15.611111</td>\n",
       "      <td>...</td>\n",
       "      <td>4.000000</td>\n",
       "      <td>5459.166667</td>\n",
       "      <td>5716.388889</td>\n",
       "      <td>140.111111</td>\n",
       "      <td>5607.500000</td>\n",
       "      <td>5726.888889</td>\n",
       "      <td>134.055556</td>\n",
       "      <td>-148.333333</td>\n",
       "      <td>-10.500000</td>\n",
       "      <td>6.055556</td>\n",
       "    </tr>\n",
       "    <tr>\n",
       "      <td>Jactroll</td>\n",
       "      <td>1.000000</td>\n",
       "      <td>10.027000</td>\n",
       "      <td>8.000000</td>\n",
       "      <td>2050.200000</td>\n",
       "      <td>0.000000</td>\n",
       "      <td>0.400000</td>\n",
       "      <td>3.900000</td>\n",
       "      <td>3.700000</td>\n",
       "      <td>6.600000</td>\n",
       "      <td>15.600000</td>\n",
       "      <td>...</td>\n",
       "      <td>-7.100000</td>\n",
       "      <td>3245.400000</td>\n",
       "      <td>3520.300000</td>\n",
       "      <td>17.400000</td>\n",
       "      <td>3474.600000</td>\n",
       "      <td>3864.800000</td>\n",
       "      <td>28.100000</td>\n",
       "      <td>-229.200000</td>\n",
       "      <td>-344.500000</td>\n",
       "      <td>-10.700000</td>\n",
       "    </tr>\n",
       "    <tr>\n",
       "      <td>Finn</td>\n",
       "      <td>1.461538</td>\n",
       "      <td>10.041538</td>\n",
       "      <td>2.923077</td>\n",
       "      <td>2011.961538</td>\n",
       "      <td>0.500000</td>\n",
       "      <td>2.000000</td>\n",
       "      <td>2.576923</td>\n",
       "      <td>3.961538</td>\n",
       "      <td>10.192308</td>\n",
       "      <td>11.115385</td>\n",
       "      <td>...</td>\n",
       "      <td>-2.038462</td>\n",
       "      <td>5081.192308</td>\n",
       "      <td>7050.153846</td>\n",
       "      <td>116.807692</td>\n",
       "      <td>5352.346154</td>\n",
       "      <td>7223.384615</td>\n",
       "      <td>123.653846</td>\n",
       "      <td>-271.153846</td>\n",
       "      <td>-173.230769</td>\n",
       "      <td>-6.846154</td>\n",
       "    </tr>\n",
       "    <tr>\n",
       "      <td>Inspired</td>\n",
       "      <td>1.461538</td>\n",
       "      <td>10.041538</td>\n",
       "      <td>3.923077</td>\n",
       "      <td>2011.961538</td>\n",
       "      <td>0.500000</td>\n",
       "      <td>1.538462</td>\n",
       "      <td>2.346154</td>\n",
       "      <td>5.769231</td>\n",
       "      <td>10.192308</td>\n",
       "      <td>11.115385</td>\n",
       "      <td>...</td>\n",
       "      <td>-1.038462</td>\n",
       "      <td>4565.846154</td>\n",
       "      <td>4600.961538</td>\n",
       "      <td>82.346154</td>\n",
       "      <td>4610.384615</td>\n",
       "      <td>4772.461538</td>\n",
       "      <td>85.000000</td>\n",
       "      <td>-44.538462</td>\n",
       "      <td>-171.500000</td>\n",
       "      <td>-2.653846</td>\n",
       "    </tr>\n",
       "    <tr>\n",
       "      <td>Larssen</td>\n",
       "      <td>1.461538</td>\n",
       "      <td>10.041538</td>\n",
       "      <td>4.923077</td>\n",
       "      <td>2011.961538</td>\n",
       "      <td>0.500000</td>\n",
       "      <td>3.230769</td>\n",
       "      <td>1.846154</td>\n",
       "      <td>3.346154</td>\n",
       "      <td>10.192308</td>\n",
       "      <td>11.115385</td>\n",
       "      <td>...</td>\n",
       "      <td>3.538462</td>\n",
       "      <td>5597.769231</td>\n",
       "      <td>7689.000000</td>\n",
       "      <td>147.307692</td>\n",
       "      <td>5390.038462</td>\n",
       "      <td>7527.461538</td>\n",
       "      <td>139.807692</td>\n",
       "      <td>207.730769</td>\n",
       "      <td>161.538462</td>\n",
       "      <td>7.500000</td>\n",
       "    </tr>\n",
       "    <tr>\n",
       "      <td>Hans sama</td>\n",
       "      <td>1.461538</td>\n",
       "      <td>10.041538</td>\n",
       "      <td>5.923077</td>\n",
       "      <td>2011.961538</td>\n",
       "      <td>0.500000</td>\n",
       "      <td>2.730769</td>\n",
       "      <td>1.846154</td>\n",
       "      <td>4.307692</td>\n",
       "      <td>10.192308</td>\n",
       "      <td>11.115385</td>\n",
       "      <td>...</td>\n",
       "      <td>3.038462</td>\n",
       "      <td>5448.576923</td>\n",
       "      <td>5343.307692</td>\n",
       "      <td>128.076923</td>\n",
       "      <td>5345.384615</td>\n",
       "      <td>5445.076923</td>\n",
       "      <td>127.000000</td>\n",
       "      <td>103.192308</td>\n",
       "      <td>-101.769231</td>\n",
       "      <td>1.076923</td>\n",
       "    </tr>\n",
       "    <tr>\n",
       "      <td>Vander</td>\n",
       "      <td>1.461538</td>\n",
       "      <td>10.041538</td>\n",
       "      <td>6.923077</td>\n",
       "      <td>2011.961538</td>\n",
       "      <td>0.500000</td>\n",
       "      <td>0.692308</td>\n",
       "      <td>2.500000</td>\n",
       "      <td>6.115385</td>\n",
       "      <td>10.192308</td>\n",
       "      <td>11.115385</td>\n",
       "      <td>...</td>\n",
       "      <td>1.076923</td>\n",
       "      <td>3478.807692</td>\n",
       "      <td>3923.230769</td>\n",
       "      <td>24.923077</td>\n",
       "      <td>3319.884615</td>\n",
       "      <td>3736.576923</td>\n",
       "      <td>23.692308</td>\n",
       "      <td>158.923077</td>\n",
       "      <td>186.653846</td>\n",
       "      <td>1.230769</td>\n",
       "    </tr>\n",
       "    <tr>\n",
       "      <td>Dan Dan</td>\n",
       "      <td>1.272727</td>\n",
       "      <td>10.038182</td>\n",
       "      <td>4.181818</td>\n",
       "      <td>1997.318182</td>\n",
       "      <td>0.500000</td>\n",
       "      <td>2.227273</td>\n",
       "      <td>2.500000</td>\n",
       "      <td>4.590909</td>\n",
       "      <td>11.272727</td>\n",
       "      <td>11.545455</td>\n",
       "      <td>...</td>\n",
       "      <td>-4.863636</td>\n",
       "      <td>5255.590909</td>\n",
       "      <td>7037.818182</td>\n",
       "      <td>120.727273</td>\n",
       "      <td>5286.590909</td>\n",
       "      <td>7173.590909</td>\n",
       "      <td>121.954545</td>\n",
       "      <td>-31.000000</td>\n",
       "      <td>-135.772727</td>\n",
       "      <td>-1.227273</td>\n",
       "    </tr>\n",
       "    <tr>\n",
       "      <td>Razork</td>\n",
       "      <td>1.272727</td>\n",
       "      <td>10.038182</td>\n",
       "      <td>5.181818</td>\n",
       "      <td>1997.318182</td>\n",
       "      <td>0.500000</td>\n",
       "      <td>2.090909</td>\n",
       "      <td>2.954545</td>\n",
       "      <td>5.545455</td>\n",
       "      <td>11.272727</td>\n",
       "      <td>11.545455</td>\n",
       "      <td>...</td>\n",
       "      <td>0.363636</td>\n",
       "      <td>4861.818182</td>\n",
       "      <td>5000.636364</td>\n",
       "      <td>86.181818</td>\n",
       "      <td>4648.272727</td>\n",
       "      <td>4810.181818</td>\n",
       "      <td>86.136364</td>\n",
       "      <td>213.545455</td>\n",
       "      <td>190.454545</td>\n",
       "      <td>0.045455</td>\n",
       "    </tr>\n",
       "    <tr>\n",
       "      <td>FEBIVEN</td>\n",
       "      <td>1.272727</td>\n",
       "      <td>10.038182</td>\n",
       "      <td>6.181818</td>\n",
       "      <td>1997.318182</td>\n",
       "      <td>0.500000</td>\n",
       "      <td>3.318182</td>\n",
       "      <td>2.136364</td>\n",
       "      <td>3.727273</td>\n",
       "      <td>11.272727</td>\n",
       "      <td>11.545455</td>\n",
       "      <td>...</td>\n",
       "      <td>-0.954545</td>\n",
       "      <td>5479.909091</td>\n",
       "      <td>7501.227273</td>\n",
       "      <td>138.272727</td>\n",
       "      <td>5376.818182</td>\n",
       "      <td>7391.454545</td>\n",
       "      <td>138.318182</td>\n",
       "      <td>103.090909</td>\n",
       "      <td>109.772727</td>\n",
       "      <td>-0.045455</td>\n",
       "    </tr>\n",
       "    <tr>\n",
       "      <td>Bvoy</td>\n",
       "      <td>1.272727</td>\n",
       "      <td>10.038182</td>\n",
       "      <td>7.181818</td>\n",
       "      <td>1997.318182</td>\n",
       "      <td>0.500000</td>\n",
       "      <td>3.045455</td>\n",
       "      <td>1.909091</td>\n",
       "      <td>4.454545</td>\n",
       "      <td>11.272727</td>\n",
       "      <td>11.545455</td>\n",
       "      <td>...</td>\n",
       "      <td>-0.727273</td>\n",
       "      <td>5356.318182</td>\n",
       "      <td>5340.227273</td>\n",
       "      <td>131.272727</td>\n",
       "      <td>5404.545455</td>\n",
       "      <td>5387.727273</td>\n",
       "      <td>130.909091</td>\n",
       "      <td>-48.227273</td>\n",
       "      <td>-47.500000</td>\n",
       "      <td>0.363636</td>\n",
       "    </tr>\n",
       "    <tr>\n",
       "      <td>denyk</td>\n",
       "      <td>1.272727</td>\n",
       "      <td>10.038182</td>\n",
       "      <td>8.181818</td>\n",
       "      <td>1997.318182</td>\n",
       "      <td>0.500000</td>\n",
       "      <td>0.590909</td>\n",
       "      <td>2.045455</td>\n",
       "      <td>7.045455</td>\n",
       "      <td>11.272727</td>\n",
       "      <td>11.545455</td>\n",
       "      <td>...</td>\n",
       "      <td>-2.272727</td>\n",
       "      <td>3264.409091</td>\n",
       "      <td>3824.590909</td>\n",
       "      <td>18.681818</td>\n",
       "      <td>3466.545455</td>\n",
       "      <td>3803.227273</td>\n",
       "      <td>22.590909</td>\n",
       "      <td>-202.136364</td>\n",
       "      <td>21.363636</td>\n",
       "      <td>-3.909091</td>\n",
       "    </tr>\n",
       "    <tr>\n",
       "      <td>Expect</td>\n",
       "      <td>1.000000</td>\n",
       "      <td>10.033333</td>\n",
       "      <td>2.944444</td>\n",
       "      <td>2018.222222</td>\n",
       "      <td>0.388889</td>\n",
       "      <td>2.000000</td>\n",
       "      <td>3.222222</td>\n",
       "      <td>4.722222</td>\n",
       "      <td>10.611111</td>\n",
       "      <td>15.055556</td>\n",
       "      <td>...</td>\n",
       "      <td>0.055556</td>\n",
       "      <td>5294.944444</td>\n",
       "      <td>7137.388889</td>\n",
       "      <td>121.888889</td>\n",
       "      <td>5479.444444</td>\n",
       "      <td>7373.833333</td>\n",
       "      <td>124.611111</td>\n",
       "      <td>-184.500000</td>\n",
       "      <td>-236.444444</td>\n",
       "      <td>-2.722222</td>\n",
       "    </tr>\n",
       "    <tr>\n",
       "      <td>Caedrel</td>\n",
       "      <td>1.000000</td>\n",
       "      <td>10.033333</td>\n",
       "      <td>3.944444</td>\n",
       "      <td>2018.222222</td>\n",
       "      <td>0.388889</td>\n",
       "      <td>2.055556</td>\n",
       "      <td>3.111111</td>\n",
       "      <td>5.166667</td>\n",
       "      <td>10.611111</td>\n",
       "      <td>15.055556</td>\n",
       "      <td>...</td>\n",
       "      <td>0.222222</td>\n",
       "      <td>4822.833333</td>\n",
       "      <td>5002.666667</td>\n",
       "      <td>88.000000</td>\n",
       "      <td>5078.500000</td>\n",
       "      <td>5339.666667</td>\n",
       "      <td>92.500000</td>\n",
       "      <td>-255.666667</td>\n",
       "      <td>-337.000000</td>\n",
       "      <td>-4.500000</td>\n",
       "    </tr>\n",
       "    <tr>\n",
       "      <td>Mickey</td>\n",
       "      <td>1.000000</td>\n",
       "      <td>10.033333</td>\n",
       "      <td>4.944444</td>\n",
       "      <td>2018.222222</td>\n",
       "      <td>0.388889</td>\n",
       "      <td>3.000000</td>\n",
       "      <td>2.722222</td>\n",
       "      <td>4.333333</td>\n",
       "      <td>10.611111</td>\n",
       "      <td>15.055556</td>\n",
       "      <td>...</td>\n",
       "      <td>-1.055556</td>\n",
       "      <td>5341.388889</td>\n",
       "      <td>7097.444444</td>\n",
       "      <td>130.444444</td>\n",
       "      <td>5490.944444</td>\n",
       "      <td>7656.555556</td>\n",
       "      <td>138.222222</td>\n",
       "      <td>-149.555556</td>\n",
       "      <td>-559.111111</td>\n",
       "      <td>-7.777778</td>\n",
       "    </tr>\n",
       "    <tr>\n",
       "      <td>Patrik</td>\n",
       "      <td>1.000000</td>\n",
       "      <td>10.033333</td>\n",
       "      <td>5.944444</td>\n",
       "      <td>2018.222222</td>\n",
       "      <td>0.388889</td>\n",
       "      <td>2.944444</td>\n",
       "      <td>2.388889</td>\n",
       "      <td>4.777778</td>\n",
       "      <td>10.611111</td>\n",
       "      <td>15.055556</td>\n",
       "      <td>...</td>\n",
       "      <td>0.777778</td>\n",
       "      <td>5422.111111</td>\n",
       "      <td>5486.444444</td>\n",
       "      <td>129.611111</td>\n",
       "      <td>5380.111111</td>\n",
       "      <td>5413.666667</td>\n",
       "      <td>127.500000</td>\n",
       "      <td>42.000000</td>\n",
       "      <td>72.777778</td>\n",
       "      <td>2.111111</td>\n",
       "    </tr>\n",
       "    <tr>\n",
       "      <td>Tore</td>\n",
       "      <td>1.000000</td>\n",
       "      <td>10.033333</td>\n",
       "      <td>6.944444</td>\n",
       "      <td>2018.222222</td>\n",
       "      <td>0.388889</td>\n",
       "      <td>0.611111</td>\n",
       "      <td>3.611111</td>\n",
       "      <td>6.777778</td>\n",
       "      <td>10.611111</td>\n",
       "      <td>15.055556</td>\n",
       "      <td>...</td>\n",
       "      <td>-1.500000</td>\n",
       "      <td>3464.000000</td>\n",
       "      <td>3743.666667</td>\n",
       "      <td>24.500000</td>\n",
       "      <td>3447.611111</td>\n",
       "      <td>4010.555556</td>\n",
       "      <td>26.500000</td>\n",
       "      <td>16.388889</td>\n",
       "      <td>-266.888889</td>\n",
       "      <td>-2.000000</td>\n",
       "    </tr>\n",
       "    <tr>\n",
       "      <td>Odoamne</td>\n",
       "      <td>1.000000</td>\n",
       "      <td>10.033333</td>\n",
       "      <td>3.777778</td>\n",
       "      <td>2196.722222</td>\n",
       "      <td>0.333333</td>\n",
       "      <td>2.500000</td>\n",
       "      <td>2.111111</td>\n",
       "      <td>4.444444</td>\n",
       "      <td>12.277778</td>\n",
       "      <td>12.555556</td>\n",
       "      <td>...</td>\n",
       "      <td>1.833333</td>\n",
       "      <td>5219.388889</td>\n",
       "      <td>7321.055556</td>\n",
       "      <td>129.500000</td>\n",
       "      <td>5224.111111</td>\n",
       "      <td>7331.777778</td>\n",
       "      <td>126.833333</td>\n",
       "      <td>-4.722222</td>\n",
       "      <td>-10.722222</td>\n",
       "      <td>2.666667</td>\n",
       "    </tr>\n",
       "    <tr>\n",
       "      <td>Gilius</td>\n",
       "      <td>1.000000</td>\n",
       "      <td>10.030000</td>\n",
       "      <td>5.333333</td>\n",
       "      <td>2081.666667</td>\n",
       "      <td>0.166667</td>\n",
       "      <td>2.333333</td>\n",
       "      <td>3.500000</td>\n",
       "      <td>5.833333</td>\n",
       "      <td>12.833333</td>\n",
       "      <td>15.833333</td>\n",
       "      <td>...</td>\n",
       "      <td>-0.166667</td>\n",
       "      <td>4613.833333</td>\n",
       "      <td>4781.666667</td>\n",
       "      <td>82.833333</td>\n",
       "      <td>4736.833333</td>\n",
       "      <td>4911.500000</td>\n",
       "      <td>85.500000</td>\n",
       "      <td>-123.000000</td>\n",
       "      <td>-129.833333</td>\n",
       "      <td>-2.666667</td>\n",
       "    </tr>\n",
       "    <tr>\n",
       "      <td>Abbedagge</td>\n",
       "      <td>1.000000</td>\n",
       "      <td>10.033333</td>\n",
       "      <td>5.777778</td>\n",
       "      <td>2196.722222</td>\n",
       "      <td>0.333333</td>\n",
       "      <td>4.166667</td>\n",
       "      <td>2.833333</td>\n",
       "      <td>4.055556</td>\n",
       "      <td>12.277778</td>\n",
       "      <td>12.555556</td>\n",
       "      <td>...</td>\n",
       "      <td>1.944444</td>\n",
       "      <td>5450.000000</td>\n",
       "      <td>7639.944444</td>\n",
       "      <td>142.888889</td>\n",
       "      <td>5595.500000</td>\n",
       "      <td>7671.722222</td>\n",
       "      <td>143.722222</td>\n",
       "      <td>-145.500000</td>\n",
       "      <td>-31.777778</td>\n",
       "      <td>-0.833333</td>\n",
       "    </tr>\n",
       "    <tr>\n",
       "      <td>FORG1VEN</td>\n",
       "      <td>1.000000</td>\n",
       "      <td>10.016667</td>\n",
       "      <td>5.666667</td>\n",
       "      <td>2065.666667</td>\n",
       "      <td>0.000000</td>\n",
       "      <td>1.500000</td>\n",
       "      <td>2.833333</td>\n",
       "      <td>3.500000</td>\n",
       "      <td>7.333333</td>\n",
       "      <td>16.333333</td>\n",
       "      <td>...</td>\n",
       "      <td>-5.333333</td>\n",
       "      <td>5204.833333</td>\n",
       "      <td>5079.000000</td>\n",
       "      <td>131.000000</td>\n",
       "      <td>5818.666667</td>\n",
       "      <td>5759.500000</td>\n",
       "      <td>140.500000</td>\n",
       "      <td>-613.833333</td>\n",
       "      <td>-680.500000</td>\n",
       "      <td>-9.500000</td>\n",
       "    </tr>\n",
       "    <tr>\n",
       "      <td>Dreams</td>\n",
       "      <td>1.000000</td>\n",
       "      <td>10.033333</td>\n",
       "      <td>7.777778</td>\n",
       "      <td>2196.722222</td>\n",
       "      <td>0.333333</td>\n",
       "      <td>0.444444</td>\n",
       "      <td>3.055556</td>\n",
       "      <td>6.500000</td>\n",
       "      <td>12.277778</td>\n",
       "      <td>12.555556</td>\n",
       "      <td>...</td>\n",
       "      <td>-1.666667</td>\n",
       "      <td>3227.611111</td>\n",
       "      <td>3828.222222</td>\n",
       "      <td>20.555556</td>\n",
       "      <td>3370.111111</td>\n",
       "      <td>3862.222222</td>\n",
       "      <td>22.722222</td>\n",
       "      <td>-142.500000</td>\n",
       "      <td>-34.000000</td>\n",
       "      <td>-2.166667</td>\n",
       "    </tr>\n",
       "    <tr>\n",
       "      <td>Bwipo</td>\n",
       "      <td>1.428571</td>\n",
       "      <td>10.042857</td>\n",
       "      <td>2.964286</td>\n",
       "      <td>1868.214286</td>\n",
       "      <td>0.678571</td>\n",
       "      <td>2.750000</td>\n",
       "      <td>3.107143</td>\n",
       "      <td>6.571429</td>\n",
       "      <td>15.071429</td>\n",
       "      <td>12.428571</td>\n",
       "      <td>...</td>\n",
       "      <td>-5.750000</td>\n",
       "      <td>5123.678571</td>\n",
       "      <td>6886.785714</td>\n",
       "      <td>108.821429</td>\n",
       "      <td>5067.642857</td>\n",
       "      <td>6782.000000</td>\n",
       "      <td>114.178571</td>\n",
       "      <td>56.035714</td>\n",
       "      <td>104.785714</td>\n",
       "      <td>-5.357143</td>\n",
       "    </tr>\n",
       "    <tr>\n",
       "      <td>Selfmade</td>\n",
       "      <td>1.428571</td>\n",
       "      <td>10.042857</td>\n",
       "      <td>3.964286</td>\n",
       "      <td>1868.214286</td>\n",
       "      <td>0.678571</td>\n",
       "      <td>3.964286</td>\n",
       "      <td>2.607143</td>\n",
       "      <td>6.071429</td>\n",
       "      <td>15.071429</td>\n",
       "      <td>12.428571</td>\n",
       "      <td>...</td>\n",
       "      <td>-0.214286</td>\n",
       "      <td>4890.285714</td>\n",
       "      <td>5169.750000</td>\n",
       "      <td>88.535714</td>\n",
       "      <td>4968.714286</td>\n",
       "      <td>5085.535714</td>\n",
       "      <td>88.321429</td>\n",
       "      <td>-78.428571</td>\n",
       "      <td>84.214286</td>\n",
       "      <td>0.214286</td>\n",
       "    </tr>\n",
       "    <tr>\n",
       "      <td>Nemesis</td>\n",
       "      <td>1.428571</td>\n",
       "      <td>10.042857</td>\n",
       "      <td>4.964286</td>\n",
       "      <td>1868.214286</td>\n",
       "      <td>0.678571</td>\n",
       "      <td>2.857143</td>\n",
       "      <td>2.107143</td>\n",
       "      <td>5.357143</td>\n",
       "      <td>15.071429</td>\n",
       "      <td>12.428571</td>\n",
       "      <td>...</td>\n",
       "      <td>4.464286</td>\n",
       "      <td>5625.750000</td>\n",
       "      <td>7460.750000</td>\n",
       "      <td>142.321429</td>\n",
       "      <td>5385.642857</td>\n",
       "      <td>7298.857143</td>\n",
       "      <td>134.821429</td>\n",
       "      <td>240.107143</td>\n",
       "      <td>161.892857</td>\n",
       "      <td>7.500000</td>\n",
       "    </tr>\n",
       "    <tr>\n",
       "      <td>Rekkles</td>\n",
       "      <td>1.428571</td>\n",
       "      <td>10.042857</td>\n",
       "      <td>5.964286</td>\n",
       "      <td>1868.214286</td>\n",
       "      <td>0.678571</td>\n",
       "      <td>4.571429</td>\n",
       "      <td>1.250000</td>\n",
       "      <td>6.321429</td>\n",
       "      <td>15.071429</td>\n",
       "      <td>12.428571</td>\n",
       "      <td>...</td>\n",
       "      <td>-11.642857</td>\n",
       "      <td>5618.857143</td>\n",
       "      <td>5560.785714</td>\n",
       "      <td>115.892857</td>\n",
       "      <td>5592.571429</td>\n",
       "      <td>5343.785714</td>\n",
       "      <td>131.071429</td>\n",
       "      <td>26.285714</td>\n",
       "      <td>217.000000</td>\n",
       "      <td>-15.178571</td>\n",
       "    </tr>\n",
       "    <tr>\n",
       "      <td>Hylissang</td>\n",
       "      <td>1.428571</td>\n",
       "      <td>10.042857</td>\n",
       "      <td>6.964286</td>\n",
       "      <td>1868.214286</td>\n",
       "      <td>0.678571</td>\n",
       "      <td>0.928571</td>\n",
       "      <td>3.357143</td>\n",
       "      <td>8.178571</td>\n",
       "      <td>15.071429</td>\n",
       "      <td>12.428571</td>\n",
       "      <td>...</td>\n",
       "      <td>12.071429</td>\n",
       "      <td>3770.642857</td>\n",
       "      <td>4098.964286</td>\n",
       "      <td>38.500000</td>\n",
       "      <td>3367.750000</td>\n",
       "      <td>3680.178571</td>\n",
       "      <td>18.857143</td>\n",
       "      <td>402.892857</td>\n",
       "      <td>418.785714</td>\n",
       "      <td>19.642857</td>\n",
       "    </tr>\n",
       "    <tr>\n",
       "      <td>Alphari</td>\n",
       "      <td>1.600000</td>\n",
       "      <td>10.044000</td>\n",
       "      <td>3.500000</td>\n",
       "      <td>2103.533333</td>\n",
       "      <td>0.600000</td>\n",
       "      <td>2.933333</td>\n",
       "      <td>1.833333</td>\n",
       "      <td>4.666667</td>\n",
       "      <td>13.666667</td>\n",
       "      <td>10.200000</td>\n",
       "      <td>...</td>\n",
       "      <td>10.266667</td>\n",
       "      <td>5351.200000</td>\n",
       "      <td>7165.233333</td>\n",
       "      <td>129.033333</td>\n",
       "      <td>4887.033333</td>\n",
       "      <td>7079.466667</td>\n",
       "      <td>117.133333</td>\n",
       "      <td>464.166667</td>\n",
       "      <td>85.766667</td>\n",
       "      <td>11.900000</td>\n",
       "    </tr>\n",
       "    <tr>\n",
       "      <td>Xerxe</td>\n",
       "      <td>1.600000</td>\n",
       "      <td>10.044000</td>\n",
       "      <td>4.500000</td>\n",
       "      <td>2103.533333</td>\n",
       "      <td>0.600000</td>\n",
       "      <td>2.766667</td>\n",
       "      <td>1.966667</td>\n",
       "      <td>6.533333</td>\n",
       "      <td>13.666667</td>\n",
       "      <td>10.200000</td>\n",
       "      <td>...</td>\n",
       "      <td>3.866667</td>\n",
       "      <td>4773.700000</td>\n",
       "      <td>5076.500000</td>\n",
       "      <td>89.300000</td>\n",
       "      <td>4607.166667</td>\n",
       "      <td>4783.933333</td>\n",
       "      <td>84.300000</td>\n",
       "      <td>166.533333</td>\n",
       "      <td>292.566667</td>\n",
       "      <td>5.000000</td>\n",
       "    </tr>\n",
       "    <tr>\n",
       "      <td>Nukeduck</td>\n",
       "      <td>1.600000</td>\n",
       "      <td>10.044000</td>\n",
       "      <td>5.500000</td>\n",
       "      <td>2103.533333</td>\n",
       "      <td>0.600000</td>\n",
       "      <td>3.100000</td>\n",
       "      <td>2.266667</td>\n",
       "      <td>5.566667</td>\n",
       "      <td>13.666667</td>\n",
       "      <td>10.200000</td>\n",
       "      <td>...</td>\n",
       "      <td>-1.900000</td>\n",
       "      <td>5174.433333</td>\n",
       "      <td>7484.700000</td>\n",
       "      <td>134.500000</td>\n",
       "      <td>5312.100000</td>\n",
       "      <td>7388.566667</td>\n",
       "      <td>137.900000</td>\n",
       "      <td>-137.666667</td>\n",
       "      <td>96.133333</td>\n",
       "      <td>-3.400000</td>\n",
       "    </tr>\n",
       "    <tr>\n",
       "      <td>Upset</td>\n",
       "      <td>1.600000</td>\n",
       "      <td>10.044000</td>\n",
       "      <td>6.500000</td>\n",
       "      <td>2103.533333</td>\n",
       "      <td>0.600000</td>\n",
       "      <td>4.133333</td>\n",
       "      <td>1.466667</td>\n",
       "      <td>5.633333</td>\n",
       "      <td>13.666667</td>\n",
       "      <td>10.200000</td>\n",
       "      <td>...</td>\n",
       "      <td>9.333333</td>\n",
       "      <td>5511.033333</td>\n",
       "      <td>5523.333333</td>\n",
       "      <td>130.133333</td>\n",
       "      <td>5295.233333</td>\n",
       "      <td>5294.300000</td>\n",
       "      <td>115.300000</td>\n",
       "      <td>215.800000</td>\n",
       "      <td>229.033333</td>\n",
       "      <td>14.833333</td>\n",
       "    </tr>\n",
       "    <tr>\n",
       "      <td>Destiny</td>\n",
       "      <td>1.600000</td>\n",
       "      <td>10.044000</td>\n",
       "      <td>7.500000</td>\n",
       "      <td>2103.533333</td>\n",
       "      <td>0.600000</td>\n",
       "      <td>0.733333</td>\n",
       "      <td>2.666667</td>\n",
       "      <td>8.633333</td>\n",
       "      <td>13.666667</td>\n",
       "      <td>10.200000</td>\n",
       "      <td>...</td>\n",
       "      <td>-5.833333</td>\n",
       "      <td>3389.366667</td>\n",
       "      <td>3733.933333</td>\n",
       "      <td>21.700000</td>\n",
       "      <td>3544.600000</td>\n",
       "      <td>3944.533333</td>\n",
       "      <td>31.633333</td>\n",
       "      <td>-155.233333</td>\n",
       "      <td>-210.600000</td>\n",
       "      <td>-9.933333</td>\n",
       "    </tr>\n",
       "    <tr>\n",
       "      <td>Lurox</td>\n",
       "      <td>1.000000</td>\n",
       "      <td>10.035000</td>\n",
       "      <td>4.500000</td>\n",
       "      <td>2254.250000</td>\n",
       "      <td>0.416667</td>\n",
       "      <td>2.250000</td>\n",
       "      <td>2.083333</td>\n",
       "      <td>5.333333</td>\n",
       "      <td>12.000000</td>\n",
       "      <td>10.916667</td>\n",
       "      <td>...</td>\n",
       "      <td>-2.416667</td>\n",
       "      <td>4690.416667</td>\n",
       "      <td>4915.916667</td>\n",
       "      <td>88.666667</td>\n",
       "      <td>4771.833333</td>\n",
       "      <td>5106.416667</td>\n",
       "      <td>92.333333</td>\n",
       "      <td>-81.416667</td>\n",
       "      <td>-190.500000</td>\n",
       "      <td>-3.666667</td>\n",
       "    </tr>\n",
       "    <tr>\n",
       "      <td>Innaxe</td>\n",
       "      <td>1.000000</td>\n",
       "      <td>10.041667</td>\n",
       "      <td>7.333333</td>\n",
       "      <td>2262.250000</td>\n",
       "      <td>0.500000</td>\n",
       "      <td>3.583333</td>\n",
       "      <td>1.583333</td>\n",
       "      <td>5.833333</td>\n",
       "      <td>14.750000</td>\n",
       "      <td>10.666667</td>\n",
       "      <td>...</td>\n",
       "      <td>-2.666667</td>\n",
       "      <td>5181.166667</td>\n",
       "      <td>5085.333333</td>\n",
       "      <td>128.750000</td>\n",
       "      <td>5538.666667</td>\n",
       "      <td>5567.500000</td>\n",
       "      <td>133.083333</td>\n",
       "      <td>-357.500000</td>\n",
       "      <td>-482.166667</td>\n",
       "      <td>-4.333333</td>\n",
       "    </tr>\n",
       "    <tr>\n",
       "      <td>Steeelback</td>\n",
       "      <td>1.000000</td>\n",
       "      <td>10.041250</td>\n",
       "      <td>6.875000</td>\n",
       "      <td>2223.375000</td>\n",
       "      <td>0.250000</td>\n",
       "      <td>0.625000</td>\n",
       "      <td>2.875000</td>\n",
       "      <td>7.750000</td>\n",
       "      <td>11.875000</td>\n",
       "      <td>15.625000</td>\n",
       "      <td>...</td>\n",
       "      <td>-3.750000</td>\n",
       "      <td>3310.000000</td>\n",
       "      <td>3622.875000</td>\n",
       "      <td>21.000000</td>\n",
       "      <td>3434.625000</td>\n",
       "      <td>4175.000000</td>\n",
       "      <td>29.000000</td>\n",
       "      <td>-124.625000</td>\n",
       "      <td>-552.125000</td>\n",
       "      <td>-8.000000</td>\n",
       "    </tr>\n",
       "    <tr>\n",
       "      <td>Selfie</td>\n",
       "      <td>1.000000</td>\n",
       "      <td>10.050000</td>\n",
       "      <td>7.166667</td>\n",
       "      <td>2298.833333</td>\n",
       "      <td>0.166667</td>\n",
       "      <td>3.833333</td>\n",
       "      <td>6.000000</td>\n",
       "      <td>3.000000</td>\n",
       "      <td>11.833333</td>\n",
       "      <td>18.333333</td>\n",
       "      <td>...</td>\n",
       "      <td>-6.833333</td>\n",
       "      <td>5097.333333</td>\n",
       "      <td>7217.833333</td>\n",
       "      <td>129.500000</td>\n",
       "      <td>5459.000000</td>\n",
       "      <td>7702.166667</td>\n",
       "      <td>139.333333</td>\n",
       "      <td>-361.666667</td>\n",
       "      <td>-484.333333</td>\n",
       "      <td>-9.833333</td>\n",
       "    </tr>\n",
       "    <tr>\n",
       "      <td>Ventair</td>\n",
       "      <td>1.000000</td>\n",
       "      <td>10.050000</td>\n",
       "      <td>3.500000</td>\n",
       "      <td>1966.500000</td>\n",
       "      <td>0.000000</td>\n",
       "      <td>1.000000</td>\n",
       "      <td>1.500000</td>\n",
       "      <td>2.500000</td>\n",
       "      <td>4.000000</td>\n",
       "      <td>12.500000</td>\n",
       "      <td>...</td>\n",
       "      <td>-20.000000</td>\n",
       "      <td>4698.500000</td>\n",
       "      <td>6739.000000</td>\n",
       "      <td>111.500000</td>\n",
       "      <td>5755.500000</td>\n",
       "      <td>7439.000000</td>\n",
       "      <td>141.000000</td>\n",
       "      <td>-1057.000000</td>\n",
       "      <td>-700.000000</td>\n",
       "      <td>-29.500000</td>\n",
       "    </tr>\n",
       "  </tbody>\n",
       "</table>\n",
       "<p>55 rows × 84 columns</p>\n",
       "</div>"
      ],
      "text/plain": [
       "                game      patch  playerid   gamelength    result     kills  \\\n",
       "Mikyx       1.735294  10.045882  7.205882  1927.911765  0.764706  1.117647   \n",
       "Wunder      1.735294  10.045882  3.205882  1927.911765  0.764706  3.088235   \n",
       "Jankos      1.735294  10.045882  4.205882  1927.911765  0.764706  4.352941   \n",
       "PERKZ       1.735294  10.045882  5.205882  1927.911765  0.764706  5.029412   \n",
       "Caps        1.735294  10.045882  6.205882  1927.911765  0.764706  5.529412   \n",
       "Orome       1.633333  10.044000  4.500000  1995.133333  0.500000  1.933333   \n",
       "Shad0w      1.633333  10.044000  5.500000  1995.133333  0.500000  3.766667   \n",
       "Humanoid    1.633333  10.044000  6.500000  1995.133333  0.500000  3.133333   \n",
       "Carzzy      1.633333  10.044000  7.500000  1995.133333  0.500000  4.533333   \n",
       "Kaiser      1.633333  10.044000  8.500000  1995.133333  0.500000  0.966667   \n",
       "Sacre       1.000000  10.031250  3.500000  2050.250000  0.250000  1.312500   \n",
       "Trick       1.000000  10.033333  4.500000  2040.944444  0.222222  1.388889   \n",
       "Jenax       1.000000  10.033333  5.500000  2040.944444  0.222222  1.888889   \n",
       "Crownshot   1.000000  10.033333  6.500000  2040.944444  0.222222  2.666667   \n",
       "LIMIT       1.000000  10.033333  7.500000  2040.944444  0.222222  0.611111   \n",
       "Cabochard   1.000000  10.033333  3.500000  2127.166667  0.111111  1.333333   \n",
       "Skeanz      1.000000  10.033333  4.500000  2127.166667  0.111111  1.888889   \n",
       "Saken       1.000000  10.025000  4.666667  2041.333333  0.083333  1.666667   \n",
       "Comp        1.000000  10.033333  6.500000  2127.166667  0.111111  2.833333   \n",
       "Jactroll    1.000000  10.027000  8.000000  2050.200000  0.000000  0.400000   \n",
       "Finn        1.461538  10.041538  2.923077  2011.961538  0.500000  2.000000   \n",
       "Inspired    1.461538  10.041538  3.923077  2011.961538  0.500000  1.538462   \n",
       "Larssen     1.461538  10.041538  4.923077  2011.961538  0.500000  3.230769   \n",
       "Hans sama   1.461538  10.041538  5.923077  2011.961538  0.500000  2.730769   \n",
       "Vander      1.461538  10.041538  6.923077  2011.961538  0.500000  0.692308   \n",
       "Dan Dan     1.272727  10.038182  4.181818  1997.318182  0.500000  2.227273   \n",
       "Razork      1.272727  10.038182  5.181818  1997.318182  0.500000  2.090909   \n",
       "FEBIVEN     1.272727  10.038182  6.181818  1997.318182  0.500000  3.318182   \n",
       "Bvoy        1.272727  10.038182  7.181818  1997.318182  0.500000  3.045455   \n",
       "denyk       1.272727  10.038182  8.181818  1997.318182  0.500000  0.590909   \n",
       "Expect      1.000000  10.033333  2.944444  2018.222222  0.388889  2.000000   \n",
       "Caedrel     1.000000  10.033333  3.944444  2018.222222  0.388889  2.055556   \n",
       "Mickey      1.000000  10.033333  4.944444  2018.222222  0.388889  3.000000   \n",
       "Patrik      1.000000  10.033333  5.944444  2018.222222  0.388889  2.944444   \n",
       "Tore        1.000000  10.033333  6.944444  2018.222222  0.388889  0.611111   \n",
       "Odoamne     1.000000  10.033333  3.777778  2196.722222  0.333333  2.500000   \n",
       "Gilius      1.000000  10.030000  5.333333  2081.666667  0.166667  2.333333   \n",
       "Abbedagge   1.000000  10.033333  5.777778  2196.722222  0.333333  4.166667   \n",
       "FORG1VEN    1.000000  10.016667  5.666667  2065.666667  0.000000  1.500000   \n",
       "Dreams      1.000000  10.033333  7.777778  2196.722222  0.333333  0.444444   \n",
       "Bwipo       1.428571  10.042857  2.964286  1868.214286  0.678571  2.750000   \n",
       "Selfmade    1.428571  10.042857  3.964286  1868.214286  0.678571  3.964286   \n",
       "Nemesis     1.428571  10.042857  4.964286  1868.214286  0.678571  2.857143   \n",
       "Rekkles     1.428571  10.042857  5.964286  1868.214286  0.678571  4.571429   \n",
       "Hylissang   1.428571  10.042857  6.964286  1868.214286  0.678571  0.928571   \n",
       "Alphari     1.600000  10.044000  3.500000  2103.533333  0.600000  2.933333   \n",
       "Xerxe       1.600000  10.044000  4.500000  2103.533333  0.600000  2.766667   \n",
       "Nukeduck    1.600000  10.044000  5.500000  2103.533333  0.600000  3.100000   \n",
       "Upset       1.600000  10.044000  6.500000  2103.533333  0.600000  4.133333   \n",
       "Destiny     1.600000  10.044000  7.500000  2103.533333  0.600000  0.733333   \n",
       "Lurox       1.000000  10.035000  4.500000  2254.250000  0.416667  2.250000   \n",
       "Innaxe      1.000000  10.041667  7.333333  2262.250000  0.500000  3.583333   \n",
       "Steeelback  1.000000  10.041250  6.875000  2223.375000  0.250000  0.625000   \n",
       "Selfie      1.000000  10.050000  7.166667  2298.833333  0.166667  3.833333   \n",
       "Ventair     1.000000  10.050000  3.500000  1966.500000  0.000000  1.000000   \n",
       "\n",
       "              deaths    assists  teamkills  teamdeaths  ...  csdiffat10  \\\n",
       "Mikyx       2.882353  12.970588  19.117647   13.941176  ...    3.242424   \n",
       "Wunder      3.088235   7.764706  19.117647   13.941176  ...    4.757576   \n",
       "Jankos      2.558824   8.705882  19.117647   13.941176  ...   -1.181818   \n",
       "PERKZ       2.558824   6.852941  19.117647   13.941176  ...   -0.181818   \n",
       "Caps        2.852941   8.647059  19.117647   13.941176  ...   -4.636364   \n",
       "Orome       3.133333   5.900000  14.333333   15.000000  ...   -6.827586   \n",
       "Shad0w      2.900000   5.933333  14.333333   15.000000  ...    0.655172   \n",
       "Humanoid    3.200000   5.333333  14.333333   15.000000  ...   -0.103448   \n",
       "Carzzy      2.700000   4.666667  14.333333   15.000000  ...   -0.931034   \n",
       "Kaiser      3.066667   8.633333  14.333333   15.000000  ...   -0.103448   \n",
       "Sacre       2.125000   2.937500   8.312500   13.875000  ...   -6.687500   \n",
       "Trick       3.388889   4.277778   7.833333   13.722222  ...   -1.222222   \n",
       "Jenax       2.888889   3.055556   7.833333   13.722222  ...   -0.166667   \n",
       "Crownshot   1.833333   2.833333   7.833333   13.722222  ...    7.833333   \n",
       "LIMIT       3.555556   4.722222   7.833333   13.722222  ...   -4.833333   \n",
       "Cabochard   2.888889   3.611111   8.944444   15.611111  ...    9.277778   \n",
       "Skeanz      2.277778   4.333333   8.944444   15.611111  ...   -1.277778   \n",
       "Saken       3.416667   2.500000   7.500000   14.250000  ...   -8.500000   \n",
       "Comp        2.722222   2.611111   8.944444   15.611111  ...    4.000000   \n",
       "Jactroll    3.900000   3.700000   6.600000   15.600000  ...   -7.100000   \n",
       "Finn        2.576923   3.961538  10.192308   11.115385  ...   -2.038462   \n",
       "Inspired    2.346154   5.769231  10.192308   11.115385  ...   -1.038462   \n",
       "Larssen     1.846154   3.346154  10.192308   11.115385  ...    3.538462   \n",
       "Hans sama   1.846154   4.307692  10.192308   11.115385  ...    3.038462   \n",
       "Vander      2.500000   6.115385  10.192308   11.115385  ...    1.076923   \n",
       "Dan Dan     2.500000   4.590909  11.272727   11.545455  ...   -4.863636   \n",
       "Razork      2.954545   5.545455  11.272727   11.545455  ...    0.363636   \n",
       "FEBIVEN     2.136364   3.727273  11.272727   11.545455  ...   -0.954545   \n",
       "Bvoy        1.909091   4.454545  11.272727   11.545455  ...   -0.727273   \n",
       "denyk       2.045455   7.045455  11.272727   11.545455  ...   -2.272727   \n",
       "Expect      3.222222   4.722222  10.611111   15.055556  ...    0.055556   \n",
       "Caedrel     3.111111   5.166667  10.611111   15.055556  ...    0.222222   \n",
       "Mickey      2.722222   4.333333  10.611111   15.055556  ...   -1.055556   \n",
       "Patrik      2.388889   4.777778  10.611111   15.055556  ...    0.777778   \n",
       "Tore        3.611111   6.777778  10.611111   15.055556  ...   -1.500000   \n",
       "Odoamne     2.111111   4.444444  12.277778   12.555556  ...    1.833333   \n",
       "Gilius      3.500000   5.833333  12.833333   15.833333  ...   -0.166667   \n",
       "Abbedagge   2.833333   4.055556  12.277778   12.555556  ...    1.944444   \n",
       "FORG1VEN    2.833333   3.500000   7.333333   16.333333  ...   -5.333333   \n",
       "Dreams      3.055556   6.500000  12.277778   12.555556  ...   -1.666667   \n",
       "Bwipo       3.107143   6.571429  15.071429   12.428571  ...   -5.750000   \n",
       "Selfmade    2.607143   6.071429  15.071429   12.428571  ...   -0.214286   \n",
       "Nemesis     2.107143   5.357143  15.071429   12.428571  ...    4.464286   \n",
       "Rekkles     1.250000   6.321429  15.071429   12.428571  ...  -11.642857   \n",
       "Hylissang   3.357143   8.178571  15.071429   12.428571  ...   12.071429   \n",
       "Alphari     1.833333   4.666667  13.666667   10.200000  ...   10.266667   \n",
       "Xerxe       1.966667   6.533333  13.666667   10.200000  ...    3.866667   \n",
       "Nukeduck    2.266667   5.566667  13.666667   10.200000  ...   -1.900000   \n",
       "Upset       1.466667   5.633333  13.666667   10.200000  ...    9.333333   \n",
       "Destiny     2.666667   8.633333  13.666667   10.200000  ...   -5.833333   \n",
       "Lurox       2.083333   5.333333  12.000000   10.916667  ...   -2.416667   \n",
       "Innaxe      1.583333   5.833333  14.750000   10.666667  ...   -2.666667   \n",
       "Steeelback  2.875000   7.750000  11.875000   15.625000  ...   -3.750000   \n",
       "Selfie      6.000000   3.000000  11.833333   18.333333  ...   -6.833333   \n",
       "Ventair     1.500000   2.500000   4.000000   12.500000  ...  -20.000000   \n",
       "\n",
       "               goldat15       xpat15      csat15  opp_goldat15   opp_xpat15  \\\n",
       "Mikyx       3532.757576  3897.515152   24.909091   3469.181818  3726.303030   \n",
       "Wunder      5363.181818  7047.030303  119.393939   5111.333333  6879.545455   \n",
       "Jankos      5035.090909  5110.666667   84.030303   4838.212121  4973.515152   \n",
       "PERKZ       5536.090909  7306.181818  131.151515   5252.000000  7156.363636   \n",
       "Caps        5616.090909  5395.060606  116.151515   5653.454545  5394.303030   \n",
       "Orome       5087.620690  6943.034483  115.655172   5360.344828  7007.172414   \n",
       "Shad0w      4959.551724  5046.551724   88.137931   4866.103448  5039.482759   \n",
       "Humanoid    5464.896552  7263.862069  132.448276   5544.896552  7156.413793   \n",
       "Carzzy      5613.827586  5495.413793  126.448276   5679.275862  5446.275862   \n",
       "Kaiser      3504.413793  3682.724138   23.896552   3490.862069  3779.689655   \n",
       "Sacre       5076.687500  7286.125000  124.937500   5422.750000  7423.687500   \n",
       "Trick       4618.500000  4962.222222   87.166667   4947.444444  4977.111111   \n",
       "Jenax       5265.777778  7223.444444  134.555556   5530.166667  7415.777778   \n",
       "Crownshot   5575.555556  5439.944444  140.666667   5343.000000  5548.722222   \n",
       "LIMIT       3383.666667  3907.666667   19.333333   3563.722222  3923.833333   \n",
       "Cabochard   5144.000000  7328.777778  124.722222   4983.277778  6975.055556   \n",
       "Skeanz      4634.666667  4790.277778   84.388889   4818.500000  5134.611111   \n",
       "Saken       5243.666667  7215.750000  134.583333   5666.750000  7639.750000   \n",
       "Comp        5459.166667  5716.388889  140.111111   5607.500000  5726.888889   \n",
       "Jactroll    3245.400000  3520.300000   17.400000   3474.600000  3864.800000   \n",
       "Finn        5081.192308  7050.153846  116.807692   5352.346154  7223.384615   \n",
       "Inspired    4565.846154  4600.961538   82.346154   4610.384615  4772.461538   \n",
       "Larssen     5597.769231  7689.000000  147.307692   5390.038462  7527.461538   \n",
       "Hans sama   5448.576923  5343.307692  128.076923   5345.384615  5445.076923   \n",
       "Vander      3478.807692  3923.230769   24.923077   3319.884615  3736.576923   \n",
       "Dan Dan     5255.590909  7037.818182  120.727273   5286.590909  7173.590909   \n",
       "Razork      4861.818182  5000.636364   86.181818   4648.272727  4810.181818   \n",
       "FEBIVEN     5479.909091  7501.227273  138.272727   5376.818182  7391.454545   \n",
       "Bvoy        5356.318182  5340.227273  131.272727   5404.545455  5387.727273   \n",
       "denyk       3264.409091  3824.590909   18.681818   3466.545455  3803.227273   \n",
       "Expect      5294.944444  7137.388889  121.888889   5479.444444  7373.833333   \n",
       "Caedrel     4822.833333  5002.666667   88.000000   5078.500000  5339.666667   \n",
       "Mickey      5341.388889  7097.444444  130.444444   5490.944444  7656.555556   \n",
       "Patrik      5422.111111  5486.444444  129.611111   5380.111111  5413.666667   \n",
       "Tore        3464.000000  3743.666667   24.500000   3447.611111  4010.555556   \n",
       "Odoamne     5219.388889  7321.055556  129.500000   5224.111111  7331.777778   \n",
       "Gilius      4613.833333  4781.666667   82.833333   4736.833333  4911.500000   \n",
       "Abbedagge   5450.000000  7639.944444  142.888889   5595.500000  7671.722222   \n",
       "FORG1VEN    5204.833333  5079.000000  131.000000   5818.666667  5759.500000   \n",
       "Dreams      3227.611111  3828.222222   20.555556   3370.111111  3862.222222   \n",
       "Bwipo       5123.678571  6886.785714  108.821429   5067.642857  6782.000000   \n",
       "Selfmade    4890.285714  5169.750000   88.535714   4968.714286  5085.535714   \n",
       "Nemesis     5625.750000  7460.750000  142.321429   5385.642857  7298.857143   \n",
       "Rekkles     5618.857143  5560.785714  115.892857   5592.571429  5343.785714   \n",
       "Hylissang   3770.642857  4098.964286   38.500000   3367.750000  3680.178571   \n",
       "Alphari     5351.200000  7165.233333  129.033333   4887.033333  7079.466667   \n",
       "Xerxe       4773.700000  5076.500000   89.300000   4607.166667  4783.933333   \n",
       "Nukeduck    5174.433333  7484.700000  134.500000   5312.100000  7388.566667   \n",
       "Upset       5511.033333  5523.333333  130.133333   5295.233333  5294.300000   \n",
       "Destiny     3389.366667  3733.933333   21.700000   3544.600000  3944.533333   \n",
       "Lurox       4690.416667  4915.916667   88.666667   4771.833333  5106.416667   \n",
       "Innaxe      5181.166667  5085.333333  128.750000   5538.666667  5567.500000   \n",
       "Steeelback  3310.000000  3622.875000   21.000000   3434.625000  4175.000000   \n",
       "Selfie      5097.333333  7217.833333  129.500000   5459.000000  7702.166667   \n",
       "Ventair     4698.500000  6739.000000  111.500000   5755.500000  7439.000000   \n",
       "\n",
       "            opp_csat15  golddiffat15  xpdiffat15  csdiffat15  \n",
       "Mikyx        20.000000     63.575758  171.212121    4.909091  \n",
       "Wunder      114.666667    251.848485  167.484848    4.727273  \n",
       "Jankos       83.121212    196.878788  137.151515    0.909091  \n",
       "PERKZ       129.060606    284.090909  149.818182    2.090909  \n",
       "Caps        125.272727    -37.363636    0.757576   -9.121212  \n",
       "Orome       121.896552   -272.724138  -64.137931   -6.241379  \n",
       "Shad0w       84.724138     93.448276    7.068966    3.413793  \n",
       "Humanoid    131.000000    -80.000000  107.448276    1.448276  \n",
       "Carzzy      127.000000    -65.448276   49.137931   -0.551724  \n",
       "Kaiser       24.068966     13.551724  -96.965517   -0.172414  \n",
       "Sacre       132.437500   -346.062500 -137.562500   -7.500000  \n",
       "Trick        87.166667   -328.944444  -14.888889    0.000000  \n",
       "Jenax       137.444444   -264.388889 -192.333333   -2.888889  \n",
       "Crownshot   128.277778    232.555556 -108.777778   12.388889  \n",
       "LIMIT        25.388889   -180.055556  -16.166667   -6.055556  \n",
       "Cabochard   113.444444    160.722222  353.722222   11.277778  \n",
       "Skeanz       88.611111   -183.833333 -344.333333   -4.222222  \n",
       "Saken       146.833333   -423.083333 -424.000000  -12.250000  \n",
       "Comp        134.055556   -148.333333  -10.500000    6.055556  \n",
       "Jactroll     28.100000   -229.200000 -344.500000  -10.700000  \n",
       "Finn        123.653846   -271.153846 -173.230769   -6.846154  \n",
       "Inspired     85.000000    -44.538462 -171.500000   -2.653846  \n",
       "Larssen     139.807692    207.730769  161.538462    7.500000  \n",
       "Hans sama   127.000000    103.192308 -101.769231    1.076923  \n",
       "Vander       23.692308    158.923077  186.653846    1.230769  \n",
       "Dan Dan     121.954545    -31.000000 -135.772727   -1.227273  \n",
       "Razork       86.136364    213.545455  190.454545    0.045455  \n",
       "FEBIVEN     138.318182    103.090909  109.772727   -0.045455  \n",
       "Bvoy        130.909091    -48.227273  -47.500000    0.363636  \n",
       "denyk        22.590909   -202.136364   21.363636   -3.909091  \n",
       "Expect      124.611111   -184.500000 -236.444444   -2.722222  \n",
       "Caedrel      92.500000   -255.666667 -337.000000   -4.500000  \n",
       "Mickey      138.222222   -149.555556 -559.111111   -7.777778  \n",
       "Patrik      127.500000     42.000000   72.777778    2.111111  \n",
       "Tore         26.500000     16.388889 -266.888889   -2.000000  \n",
       "Odoamne     126.833333     -4.722222  -10.722222    2.666667  \n",
       "Gilius       85.500000   -123.000000 -129.833333   -2.666667  \n",
       "Abbedagge   143.722222   -145.500000  -31.777778   -0.833333  \n",
       "FORG1VEN    140.500000   -613.833333 -680.500000   -9.500000  \n",
       "Dreams       22.722222   -142.500000  -34.000000   -2.166667  \n",
       "Bwipo       114.178571     56.035714  104.785714   -5.357143  \n",
       "Selfmade     88.321429    -78.428571   84.214286    0.214286  \n",
       "Nemesis     134.821429    240.107143  161.892857    7.500000  \n",
       "Rekkles     131.071429     26.285714  217.000000  -15.178571  \n",
       "Hylissang    18.857143    402.892857  418.785714   19.642857  \n",
       "Alphari     117.133333    464.166667   85.766667   11.900000  \n",
       "Xerxe        84.300000    166.533333  292.566667    5.000000  \n",
       "Nukeduck    137.900000   -137.666667   96.133333   -3.400000  \n",
       "Upset       115.300000    215.800000  229.033333   14.833333  \n",
       "Destiny      31.633333   -155.233333 -210.600000   -9.933333  \n",
       "Lurox        92.333333    -81.416667 -190.500000   -3.666667  \n",
       "Innaxe      133.083333   -357.500000 -482.166667   -4.333333  \n",
       "Steeelback   29.000000   -124.625000 -552.125000   -8.000000  \n",
       "Selfie      139.333333   -361.666667 -484.333333   -9.833333  \n",
       "Ventair     141.000000  -1057.000000 -700.000000  -29.500000  \n",
       "\n",
       "[55 rows x 84 columns]"
      ]
     },
     "execution_count": 11,
     "metadata": {},
     "output_type": "execute_result"
    }
   ],
   "source": [
    "players"
   ]
  },
  {
   "cell_type": "code",
   "execution_count": 12,
   "metadata": {},
   "outputs": [],
   "source": [
    "# Establish players mean max min median might be useful later\n",
    "player_mean = pd.DataFrame(players.mean()).transpose()\n",
    "player_max = pd.DataFrame(players.max()).transpose()\n",
    "player_min = pd.DataFrame(players.min()).transpose()\n",
    "player_median = pd.DataFrame(players.median()).transpose()\n",
    "\n",
    "# !!!!!!!!!!! stats provisionals, s'haurien d'adaptar per rol/team , etc\n",
    "labels = ['opp_csat15','csat15','monsterkills','monsterkillsownjungle','totalgold','earnedgold','wardsplaced','wpm']\n",
    "\n",
    "# update player positions as they had been lost\n",
    "for player in player_names:\n",
    "    if player != 'Team':\n",
    "        players.loc[player, 'position'] = data[data.player == player].position.values[0]\n",
    "        players.loc[player, 'team'] = data[data.player == player].team.values[0]\n",
    "\n",
    "\n",
    "team_names = data.team.unique()\n",
    "teams = pd.DataFrame(data[(data.player == 'Team') & (data.team == 'G2 Esports')].mean())\n",
    "teams = teams.transpose()\n",
    "teams.rename(index={0:'G2 Esports'}, inplace=True)\n",
    "\n",
    "for team in team_names:\n",
    "    if team != 'G2 Esports':\n",
    "        p = pd.DataFrame((data[(data.team == team) & (data.player == 'Team')].mean())).transpose()\n",
    "        p.rename(index={0: team}, inplace=True)\n",
    "        teams = pd.concat([teams, p], sort=False)"
   ]
  },
  {
   "cell_type": "code",
   "execution_count": 13,
   "metadata": {},
   "outputs": [],
   "source": [
    "# Used for data visualization later\n",
    "def simple_radar_graph(player_name, color='blue', players=players, role='jng'):\n",
    "    x = pd.DataFrame(players.loc[player_name, labels]).transpose()\n",
    "    player_max = pd.DataFrame(players[players.position == role].max()).transpose()\n",
    "    \n",
    "    data = [go.Scatterpolar(\n",
    "      r = [(x['opp_csat15'].values[0] / player_max['opp_csat15'].values[0]) * 100,(x['csat15'].values[0] / player_max['csat15'].values[0]) * 100,100 * (x['monsterkills'].values[0] / player_max['monsterkills'].values[0]),100 * (x['monsterkillsownjungle'].values[0] / player_max['monsterkillsownjungle'].values[0]),100 * (x['totalgold'].values[0] / player_max['totalgold'].values[0]),100 * (x['earnedgold'].values[0] / player_max['earnedgold'].values[0]),100 * (x[\"wardsplaced\"].values[0] / player_max['wardsplaced'].values[0]),100 * (x[\"wpm\"].values[0] / player_max['wpm'].values[0])],\n",
    "\t#theta = ['Wards','Damages to champs', 'Total gold','Kills','Deaths','Assists','Opponent gold difference at 15m','Wards'],\n",
    "      theta = ['opp_csat15','csat15','monsterkills','monsterkillsownjungle','totalgold','earnedgold','wardsplaced','wpm'],\n",
    "      fill = 'toself',\n",
    "         line =  dict(\n",
    "                color = color\n",
    "            )\n",
    "    )]\n",
    "\n",
    "    layout = go.Layout(\n",
    "      polar = dict(\n",
    "        radialaxis = dict(\n",
    "          visible = True,\n",
    "          range = [0, 100]\n",
    "        )\n",
    "      ),\n",
    "      showlegend = False,\n",
    "      title = \"{}\".format(player_name)\n",
    "    )\n",
    "    fig = go.Figure(data=data, layout=layout)\n",
    "    \n",
    "\n",
    "    return iplot(fig, filename = \"Radar\")\n",
    "\n",
    "# used for data visualization later\n",
    "def vs_radar_graph(player_name1, player_name2, color1='orange', color2='lightgray',title=None, players=players,role='jng'):\n",
    "    player_max = pd.DataFrame(players[players.position == role].max()).transpose()\n",
    "    \n",
    "    if not title:\n",
    "         title='{} vs {}'.format(player_name1, player_name2)\n",
    "    \n",
    "    x1 = pd.DataFrame(players.loc[player_name1, labels]).transpose()\n",
    "    x2 = pd.DataFrame(players.loc[player_name2, labels]).transpose()\n",
    "    # MEDIAN : x3 = pd.DataFrame(players[players.position == role].median()).transpose()\n",
    "    \n",
    "    \"\"\"\n",
    "        MEDIAN\n",
    "        go.Scatterpolar(\n",
    "      name = player_name2,\n",
    "      r = [(x3['wards'].values[0] / player_max['wards'].values[0]) * 100,(x3['dmgtochamps'].values[0] / player_max['dmgtochamps'].values[0]) * 100,100 * (x3['totalgold'].values[0] / player_max['totalgold'].values[0]),100 * (x3['k'].values[0] / player_max['k'].values[0]),100 * (x3['d'].values[0] / player_max['d'].values[0]),100 * (x3['a'].values[0] / player_max['a'].values[0]),100 * (x3[\"wards\"].values[0] / player_max['wards'].values[0])],\n",
    "      theta = ['Wards','Damages to champs', 'Total gold','Kills','Deaths','Assists','Wards'],\n",
    "      fill = 'toself',\n",
    "         line =  dict(\n",
    "                color = 'black'\n",
    "            )\n",
    "        ),\n",
    "        \n",
    "    add as 1st element in array below if you want\n",
    "    \"\"\"\n",
    "    \n",
    "    data = [go.Scatterpolar(\n",
    "      name = player_name1,\n",
    "      r = [(x1['opp_csat15'].values[0] / player_max['opp_csat15'].values[0]) * 100,(x1['csat15'].values[0] / player_max['csat15'].values[0]) * 100,100 * (x1['monsterkills'].values[0] / player_max['monsterkills'].values[0]),100 * (x1['monsterkillsownjungle'].values[0] / player_max['monsterkillsownjungle'].values[0]),100 * (x1['totalgold'].values[0] / player_max['totalgold'].values[0]),100 * (x1['earnedgold'].values[0] / player_max['earnedgold'].values[0]),100 * (x1[\"wardsplaced\"].values[0] / player_max['wardsplaced'].values[0]),100 * (x1[\"wpm\"].values[0] / player_max['wpm'].values[0])],\n",
    "      #theta = ['Wards','Damages to champs', 'Total gold','Kills','Deaths','Assists','Opponent gold difference at 15m','Wards'],\n",
    "      theta = ['opp_csat15','csat15','monsterkills','monsterkillsownjungle','totalgold','earnedgold','wardsplaced','wpm'],\n",
    "      fill = 'toself',\n",
    "         line =  dict(\n",
    "                color = color1\n",
    "            )\n",
    "    ),\n",
    "           \n",
    "    go.Scatterpolar(\n",
    "      name = player_name2,\n",
    "      r = [(x2['opp_csat15'].values[0] / player_max['opp_csat15'].values[0]) * 100,(x2['csat15'].values[0] / player_max['csat15'].values[0]) * 100,100 * (x2['monsterkills'].values[0] / player_max['monsterkills'].values[0]),100 * (x2['monsterkillsownjungle'].values[0] / player_max['monsterkillsownjungle'].values[0]),100 * (x2['totalgold'].values[0] / player_max['totalgold'].values[0]),100 * (x2['earnedgold'].values[0] / player_max['earnedgold'].values[0]),100 * (x2[\"wardsplaced\"].values[0] / player_max['wardsplaced'].values[0]),100 * (x2[\"wpm\"].values[0] / player_max['wpm'].values[0])],\n",
    "      #theta = ['Wards','Damages to champs', 'Total gold','Kills','Deaths','Assists','Opponent gold difference at 15m','Wards'],\n",
    "      theta = ['opp_csat15','csat15','monsterkills','monsterkillsownjungle','totalgold','earnedgold','wardsplaced','wpm'],\n",
    "      fill = 'toself',\n",
    "         line =  dict(\n",
    "                color = color2\n",
    "            )\n",
    "    )\n",
    "           \n",
    "    ]\n",
    "\n",
    "    layout = go.Layout(\n",
    "      polar = dict(\n",
    "        radialaxis = dict(\n",
    "          visible = True,\n",
    "          range = [0, 100]\n",
    "        )\n",
    "      ),\n",
    "      showlegend = False,\n",
    "      title = \"{}\".format(title)\n",
    "    )\n",
    "    fig = go.Figure(data=data, layout=layout)\n",
    "    \n",
    "\n",
    "    return iplot(fig, filename = \"Radar\")\n",
    "\n",
    "#teams_labels = ['fb','gamelength', 'k', 'd', 'dmgtochamps','totalgold','fbaron','herald','ft','firstmidouter','firsttothreetowers','gdat15']\n",
    "teams_labels = ['opp_csat15','csat15','monsterkills','monsterkillsownjungle','totalgold','earnedgold','wardsplaced','wpm'],\n",
    "\n",
    "# used for data visualization later\n",
    "def teamvs_radar_graph(team_name1, team_name2, color1='orange', color2='lightgray',title=None, teams=teams):\n",
    "    team_max = pd.DataFrame(teams.max()).transpose()\n",
    "    \n",
    "    if not title:\n",
    "         title='{} vs {}'.format(team_name1, team_name2)\n",
    "    \n",
    "    x1 = pd.DataFrame(teams.loc[team_name1, teams_labels]).transpose()\n",
    "    x2 = pd.DataFrame(teams.loc[team_name2, teams_labels]).transpose()\n",
    "\n",
    "    data = [go.Scatterpolar(\n",
    "      name = team_name1,\n",
    "      r = [(x1['opp_csat15'].values[0] / player_max['opp_csat15'].values[0]) * 100,(x1['csat15'].values[0] / player_max['csat15'].values[0]) * 100,100 * (x1['monsterkills'].values[0] / player_max['monsterkills'].values[0]),100 * (x1['monsterkillsownjungle'].values[0] / player_max['monsterkillsownjungle'].values[0]),100 * (x1['totalgold'].values[0] / player_max['totalgold'].values[0]),100 * (x1['earnedgold'].values[0] / player_max['earnedgold'].values[0]),100 * (x1[\"wardsplaced\"].values[0] / player_max['wardsplaced'].values[0]),100 * (x1[\"wpm\"].values[0] / player_max['wpm'].values[0])],\n",
    "      #theta =['First Blood', 'Game length', 'Kills', 'Deaths', 'Damages to champs','Total gold','First Baron','Herald','First tower','First mid outer tower','First to three towers','Gold difference at 15', 'First Blood'],\n",
    "      theta = ['opp_csat15','csat15','monsterkills','monsterkillsownjungle','totalgold','earnedgold','wardsplaced','wpm'],\n",
    "      fill = 'toself',\n",
    "         line =  dict(\n",
    "                color = color1\n",
    "            )\n",
    "    ),\n",
    "           \n",
    "    go.Scatterpolar(\n",
    "      name = team_name2,\n",
    "      r = [(x2['opp_csat15'].values[0] / player_max['opp_csat15'].values[0]) * 100,(x2['csat15'].values[0] / player_max['csat15'].values[0]) * 100,100 * (x2['monsterkills'].values[0] / player_max['monsterkills'].values[0]),100 * (x2['monsterkillsownjungle'].values[0] / player_max['monsterkillsownjungle'].values[0]),100 * (x2['totalgold'].values[0] / player_max['totalgold'].values[0]),100 * (x2['earnedgold'].values[0] / player_max['earnedgold'].values[0]),100 * (x2[\"wardsplaced\"].values[0] / player_max['wardsplaced'].values[0]),100 * (x2[\"wpm\"].values[0] / player_max['wpm'].values[0])],\n",
    "      #theta =['First Blood', 'Game length', 'Kills', 'Deaths', 'Damages to champs','Total gold','First Baron','Herald','First tower','First mid outer tower','First to three towers','Gold difference at 15', 'First Blood'],\n",
    "      theta = ['opp_csat15','csat15','monsterkills','monsterkillsownjungle','totalgold','earnedgold','wardsplaced','wpm'],\n",
    "      fill = 'toself',\n",
    "         line =  dict(\n",
    "                color = color2\n",
    "            )\n",
    "    )\n",
    "           \n",
    "    ]\n",
    "\n",
    "    layout = go.Layout(\n",
    "      polar = dict(\n",
    "        radialaxis = dict(\n",
    "          visible = True,\n",
    "          range = [0, 100]\n",
    "        )\n",
    "      ),\n",
    "      showlegend = False,\n",
    "      title = \"{}\".format(title)\n",
    "    )\n",
    "    fig = go.Figure(data=data, layout=layout)\n",
    "    \n",
    "\n",
    "    return iplot(fig, filename = \"Radar\")"
   ]
  },
  {
   "cell_type": "code",
   "execution_count": 14,
   "metadata": {},
   "outputs": [
    {
     "data": {
      "image/png": "[encoded data removed]",
      "text/plain": [
       "<Figure size 1728x1152 with 2 Axes>"
      ]
     },
     "metadata": {
      "needs_background": "light"
     },
     "output_type": "display_data"
    }
   ],
   "source": [
    "players_corr = players\n",
    "\n",
    "# to avoid running the kernel everytime\n",
    "if 'gameid' in players_corr.columns.tolist():\n",
    "    # doubles/triples/quadras/pentas/okpm have suffered damages with the .mean() for unknown reasons,\n",
    "    # elementals, airdrakes, ... are chosen with randomness so they're not significant\n",
    "    # heraldtime barontime are not contained in players variables\n",
    "    # time var : make no sense in corr\n",
    "    players_corr = players_corr.drop(['doubles','triples','quadras','pentas','gameid','playerid','firedrakes','elders','elementals','waterdrakes','earthdrakes','airdrakes','heraldtime','okpm', 'gamelength'], axis=1)\n",
    "    #players_corr = players_corr.drop(['doubles','triples','quadras','pentas','gameid','playerid','firedrakes','elders','elementals','waterdrakes','earthdrakes','airdrakes','heraldtime','okpm', 'gamelength'\n",
    "                                     #'dragons','opp_dragons','firstdragon','elementaldrakes','opp_elementaldrakes','infernals'\n",
    "                                     #'mountains', 'oceans','clouds','dragons'], axis=1)\n",
    "\n",
    "corr = players_corr.corr()\n",
    "f, ax = plt.subplots(figsize=(24, 16))\n",
    "heatmap = sns.heatmap(corr)"
   ]
  },
  {
   "cell_type": "markdown",
   "metadata": {},
   "source": [
    "## Top 10 most meaningful for winning stats"
   ]
  },
  {
   "cell_type": "code",
   "execution_count": 15,
   "metadata": {
    "scrolled": true
   },
   "outputs": [
    {
     "name": "stdout",
     "output_type": "stream",
     "text": [
      "Top 10 most meaningful for winning stats\n",
      "opp_csat10\n",
      "opp_csat15\n",
      "csat10\n",
      "csat15\n",
      "monsterkills\n",
      "monsterkillsownjungle\n",
      "totalgold\n",
      "earnedgold\n",
      "wardsplaced\n",
      "wpm\n"
     ]
    }
   ],
   "source": [
    "a = corr[corr != 1.0].max()\n",
    "print('Top 10 most meaningful for winning stats')\n",
    "i=0\n",
    "while i <10:\n",
    "    print(a.idxmax())\n",
    "    a=a.drop(a.idxmax())\n",
    "    i+=1\n"
   ]
  },
  {
   "cell_type": "markdown",
   "metadata": {},
   "source": [
    "## Compare players or teams"
   ]
  },
  {
   "cell_type": "code",
   "execution_count": 16,
   "metadata": {},
   "outputs": [
    {
     "data": {
      "application/vnd.plotly.v1+json": {
       "config": {
        "linkText": "Export to plot.ly",
        "plotlyServerURL": "https://plot.ly",
        "showLink": false
       },
       "data": [
        {
         "fill": "toself",
         "line": {
          "color": "green"
         },
         "name": "Razork",
         "r": [
          93.12039312039313,
          96.50819505242798,
          92.06116464180981,
          84.3187911284426,
          92.21457166197835,
          85.35039472196543,
          76.83923705722071,
          80.0119970198638
         ],
         "theta": [
          "opp_csat15",
          "csat15",
          "monsterkills",
          "monsterkillsownjungle",
          "totalgold",
          "earnedgold",
          "wardsplaced",
          "wpm"
         ],
         "type": "scatterpolar"
        },
        {
         "fill": "toself",
         "line": {
          "color": "orange"
         },
         "name": "Selfmade",
         "r": [
          95.48262548262548,
          99.14413693808991,
          93.98452929558921,
          86.38069705093834,
          94.64298079871793,
          93.1267832321311,
          62.82600233553912,
          71.8888512298695
         ],
         "theta": [
          "opp_csat15",
          "csat15",
          "monsterkills",
          "monsterkillsownjungle",
          "totalgold",
          "earnedgold",
          "wardsplaced",
          "wpm"
         ],
         "type": "scatterpolar"
        }
       ],
       "layout": {
        "polar": {
         "radialaxis": {
          "range": [
           0,
           100
          ],
          "visible": true
         }
        },
        "showlegend": false,
        "template": {
         "data": {
          "bar": [
           {
            "error_x": {
             "color": "#2a3f5f"
            },
            "error_y": {
             "color": "#2a3f5f"
            },
            "marker": {
             "line": {
              "color": "#E5ECF6",
              "width": 0.5
             }
            },
            "type": "bar"
           }
          ],
          "barpolar": [
           {
            "marker": {
             "line": {
              "color": "#E5ECF6",
              "width": 0.5
             }
            },
            "type": "barpolar"
           }
          ],
          "carpet": [
           {
            "aaxis": {
             "endlinecolor": "#2a3f5f",
             "gridcolor": "white",
             "linecolor": "white",
             "minorgridcolor": "white",
             "startlinecolor": "#2a3f5f"
            },
            "baxis": {
             "endlinecolor": "#2a3f5f",
             "gridcolor": "white",
             "linecolor": "white",
             "minorgridcolor": "white",
             "startlinecolor": "#2a3f5f"
            },
            "type": "carpet"
           }
          ],
          "choropleth": [
           {
            "colorbar": {
             "outlinewidth": 0,
             "ticks": ""
            },
            "type": "choropleth"
           }
          ],
          "contour": [
           {
            "colorbar": {
             "outlinewidth": 0,
             "ticks": ""
            },
            "colorscale": [
             [
              0,
              "#0d0887"
             ],
             [
              0.1111111111111111,
              "#46039f"
             ],
             [
              0.2222222222222222,
              "#7201a8"
             ],
             [
              0.3333333333333333,
              "#9c179e"
             ],
             [
              0.4444444444444444,
              "#bd3786"
             ],
             [
              0.5555555555555556,
              "#d8576b"
             ],
             [
              0.6666666666666666,
              "#ed7953"
             ],
             [
              0.7777777777777778,
              "#fb9f3a"
             ],
             [
              0.8888888888888888,
              "#fdca26"
             ],
             [
              1,
              "#f0f921"
             ]
            ],
            "type": "contour"
           }
          ],
          "contourcarpet": [
           {
            "colorbar": {
             "outlinewidth": 0,
             "ticks": ""
            },
            "type": "contourcarpet"
           }
          ],
          "heatmap": [
           {
            "colorbar": {
             "outlinewidth": 0,
             "ticks": ""
            },
            "colorscale": [
             [
              0,
              "#0d0887"
             ],
             [
              0.1111111111111111,
              "#46039f"
             ],
             [
              0.2222222222222222,
              "#7201a8"
             ],
             [
              0.3333333333333333,
              "#9c179e"
             ],
             [
              0.4444444444444444,
              "#bd3786"
             ],
             [
              0.5555555555555556,
              "#d8576b"
             ],
             [
              0.6666666666666666,
              "#ed7953"
             ],
             [
              0.7777777777777778,
              "#fb9f3a"
             ],
             [
              0.8888888888888888,
              "#fdca26"
             ],
             [
              1,
              "#f0f921"
             ]
            ],
            "type": "heatmap"
           }
          ],
          "heatmapgl": [
           {
            "colorbar": {
             "outlinewidth": 0,
             "ticks": ""
            },
            "colorscale": [
             [
              0,
              "#0d0887"
             ],
             [
              0.1111111111111111,
              "#46039f"
             ],
             [
              0.2222222222222222,
              "#7201a8"
             ],
             [
              0.3333333333333333,
              "#9c179e"
             ],
             [
              0.4444444444444444,
              "#bd3786"
             ],
             [
              0.5555555555555556,
              "#d8576b"
             ],
             [
              0.6666666666666666,
              "#ed7953"
             ],
             [
              0.7777777777777778,
              "#fb9f3a"
             ],
             [
              0.8888888888888888,
              "#fdca26"
             ],
             [
              1,
              "#f0f921"
             ]
            ],
            "type": "heatmapgl"
           }
          ],
          "histogram": [
           {
            "marker": {
             "colorbar": {
              "outlinewidth": 0,
              "ticks": ""
             }
            },
            "type": "histogram"
           }
          ],
          "histogram2d": [
           {
            "colorbar": {
             "outlinewidth": 0,
             "ticks": ""
            },
            "colorscale": [
             [
              0,
              "#0d0887"
             ],
             [
              0.1111111111111111,
              "#46039f"
             ],
             [
              0.2222222222222222,
              "#7201a8"
             ],
             [
              0.3333333333333333,
              "#9c179e"
             ],
             [
              0.4444444444444444,
              "#bd3786"
             ],
             [
              0.5555555555555556,
              "#d8576b"
             ],
             [
              0.6666666666666666,
              "#ed7953"
             ],
             [
              0.7777777777777778,
              "#fb9f3a"
             ],
             [
              0.8888888888888888,
              "#fdca26"
             ],
             [
              1,
              "#f0f921"
             ]
            ],
            "type": "histogram2d"
           }
          ],
          "histogram2dcontour": [
           {
            "colorbar": {
             "outlinewidth": 0,
             "ticks": ""
            },
            "colorscale": [
             [
              0,
              "#0d0887"
             ],
             [
              0.1111111111111111,
              "#46039f"
             ],
             [
              0.2222222222222222,
              "#7201a8"
             ],
             [
              0.3333333333333333,
              "#9c179e"
             ],
             [
              0.4444444444444444,
              "#bd3786"
             ],
             [
              0.5555555555555556,
              "#d8576b"
             ],
             [
              0.6666666666666666,
              "#ed7953"
             ],
             [
              0.7777777777777778,
              "#fb9f3a"
             ],
             [
              0.8888888888888888,
              "#fdca26"
             ],
             [
              1,
              "#f0f921"
             ]
            ],
            "type": "histogram2dcontour"
           }
          ],
          "mesh3d": [
           {
            "colorbar": {
             "outlinewidth": 0,
             "ticks": ""
            },
            "type": "mesh3d"
           }
          ],
          "parcoords": [
           {
            "line": {
             "colorbar": {
              "outlinewidth": 0,
              "ticks": ""
             }
            },
            "type": "parcoords"
           }
          ],
          "pie": [
           {
            "automargin": true,
            "type": "pie"
           }
          ],
          "scatter": [
           {
            "marker": {
             "colorbar": {
              "outlinewidth": 0,
              "ticks": ""
             }
            },
            "type": "scatter"
           }
          ],
          "scatter3d": [
           {
            "line": {
             "colorbar": {
              "outlinewidth": 0,
              "ticks": ""
             }
            },
            "marker": {
             "colorbar": {
              "outlinewidth": 0,
              "ticks": ""
             }
            },
            "type": "scatter3d"
           }
          ],
          "scattercarpet": [
           {
            "marker": {
             "colorbar": {
              "outlinewidth": 0,
              "ticks": ""
             }
            },
            "type": "scattercarpet"
           }
          ],
          "scattergeo": [
           {
            "marker": {
             "colorbar": {
              "outlinewidth": 0,
              "ticks": ""
             }
            },
            "type": "scattergeo"
           }
          ],
          "scattergl": [
           {
            "marker": {
             "colorbar": {
              "outlinewidth": 0,
              "ticks": ""
             }
            },
            "type": "scattergl"
           }
          ],
          "scattermapbox": [
           {
            "marker": {
             "colorbar": {
              "outlinewidth": 0,
              "ticks": ""
             }
            },
            "type": "scattermapbox"
           }
          ],
          "scatterpolar": [
           {
            "marker": {
             "colorbar": {
              "outlinewidth": 0,
              "ticks": ""
             }
            },
            "type": "scatterpolar"
           }
          ],
          "scatterpolargl": [
           {
            "marker": {
             "colorbar": {
              "outlinewidth": 0,
              "ticks": ""
             }
            },
            "type": "scatterpolargl"
           }
          ],
          "scatterternary": [
           {
            "marker": {
             "colorbar": {
              "outlinewidth": 0,
              "ticks": ""
             }
            },
            "type": "scatterternary"
           }
          ],
          "surface": [
           {
            "colorbar": {
             "outlinewidth": 0,
             "ticks": ""
            },
            "colorscale": [
             [
              0,
              "#0d0887"
             ],
             [
              0.1111111111111111,
              "#46039f"
             ],
             [
              0.2222222222222222,
              "#7201a8"
             ],
             [
              0.3333333333333333,
              "#9c179e"
             ],
             [
              0.4444444444444444,
              "#bd3786"
             ],
             [
              0.5555555555555556,
              "#d8576b"
             ],
             [
              0.6666666666666666,
              "#ed7953"
             ],
             [
              0.7777777777777778,
              "#fb9f3a"
             ],
             [
              0.8888888888888888,
              "#fdca26"
             ],
             [
              1,
              "#f0f921"
             ]
            ],
            "type": "surface"
           }
          ],
          "table": [
           {
            "cells": {
             "fill": {
              "color": "#EBF0F8"
             },
             "line": {
              "color": "white"
             }
            },
            "header": {
             "fill": {
              "color": "#C8D4E3"
             },
             "line": {
              "color": "white"
             }
            },
            "type": "table"
           }
          ]
         },
         "layout": {
          "annotationdefaults": {
           "arrowcolor": "#2a3f5f",
           "arrowhead": 0,
           "arrowwidth": 1
          },
          "coloraxis": {
           "colorbar": {
            "outlinewidth": 0,
            "ticks": ""
           }
          },
          "colorscale": {
           "diverging": [
            [
             0,
             "#8e0152"
            ],
            [
             0.1,
             "#c51b7d"
            ],
            [
             0.2,
             "#de77ae"
            ],
            [
             0.3,
             "#f1b6da"
            ],
            [
             0.4,
             "#fde0ef"
            ],
            [
             0.5,
             "#f7f7f7"
            ],
            [
             0.6,
             "#e6f5d0"
            ],
            [
             0.7,
             "#b8e186"
            ],
            [
             0.8,
             "#7fbc41"
            ],
            [
             0.9,
             "#4d9221"
            ],
            [
             1,
             "#276419"
            ]
           ],
           "sequential": [
            [
             0,
             "#0d0887"
            ],
            [
             0.1111111111111111,
             "#46039f"
            ],
            [
             0.2222222222222222,
             "#7201a8"
            ],
            [
             0.3333333333333333,
             "#9c179e"
            ],
            [
             0.4444444444444444,
             "#bd3786"
            ],
            [
             0.5555555555555556,
             "#d8576b"
            ],
            [
             0.6666666666666666,
             "#ed7953"
            ],
            [
             0.7777777777777778,
             "#fb9f3a"
            ],
            [
             0.8888888888888888,
             "#fdca26"
            ],
            [
             1,
             "#f0f921"
            ]
           ],
           "sequentialminus": [
            [
             0,
             "#0d0887"
            ],
            [
             0.1111111111111111,
             "#46039f"
            ],
            [
             0.2222222222222222,
             "#7201a8"
            ],
            [
             0.3333333333333333,
             "#9c179e"
            ],
            [
             0.4444444444444444,
             "#bd3786"
            ],
            [
             0.5555555555555556,
             "#d8576b"
            ],
            [
             0.6666666666666666,
             "#ed7953"
            ],
            [
             0.7777777777777778,
             "#fb9f3a"
            ],
            [
             0.8888888888888888,
             "#fdca26"
            ],
            [
             1,
             "#f0f921"
            ]
           ]
          },
          "colorway": [
           "#636efa",
           "#EF553B",
           "#00cc96",
           "#ab63fa",
           "#FFA15A",
           "#19d3f3",
           "#FF6692",
           "#B6E880",
           "#FF97FF",
           "#FECB52"
          ],
          "font": {
           "color": "#2a3f5f"
          },
          "geo": {
           "bgcolor": "white",
           "lakecolor": "white",
           "landcolor": "#E5ECF6",
           "showlakes": true,
           "showland": true,
           "subunitcolor": "white"
          },
          "hoverlabel": {
           "align": "left"
          },
          "hovermode": "closest",
          "mapbox": {
           "style": "light"
          },
          "paper_bgcolor": "white",
          "plot_bgcolor": "#E5ECF6",
          "polar": {
           "angularaxis": {
            "gridcolor": "white",
            "linecolor": "white",
            "ticks": ""
           },
           "bgcolor": "#E5ECF6",
           "radialaxis": {
            "gridcolor": "white",
            "linecolor": "white",
            "ticks": ""
           }
          },
          "scene": {
           "xaxis": {
            "backgroundcolor": "#E5ECF6",
            "gridcolor": "white",
            "gridwidth": 2,
            "linecolor": "white",
            "showbackground": true,
            "ticks": "",
            "zerolinecolor": "white"
           },
           "yaxis": {
            "backgroundcolor": "#E5ECF6",
            "gridcolor": "white",
            "gridwidth": 2,
            "linecolor": "white",
            "showbackground": true,
            "ticks": "",
            "zerolinecolor": "white"
           },
           "zaxis": {
            "backgroundcolor": "#E5ECF6",
            "gridcolor": "white",
            "gridwidth": 2,
            "linecolor": "white",
            "showbackground": true,
            "ticks": "",
            "zerolinecolor": "white"
           }
          },
          "shapedefaults": {
           "line": {
            "color": "#2a3f5f"
           }
          },
          "ternary": {
           "aaxis": {
            "gridcolor": "white",
            "linecolor": "white",
            "ticks": ""
           },
           "baxis": {
            "gridcolor": "white",
            "linecolor": "white",
            "ticks": ""
           },
           "bgcolor": "#E5ECF6",
           "caxis": {
            "gridcolor": "white",
            "linecolor": "white",
            "ticks": ""
           }
          },
          "title": {
           "x": 0.05
          },
          "xaxis": {
           "automargin": true,
           "gridcolor": "white",
           "linecolor": "white",
           "ticks": "",
           "title": {
            "standoff": 15
           },
           "zerolinecolor": "white",
           "zerolinewidth": 2
          },
          "yaxis": {
           "automargin": true,
           "gridcolor": "white",
           "linecolor": "white",
           "ticks": "",
           "title": {
            "standoff": 15
           },
           "zerolinecolor": "white",
           "zerolinewidth": 2
          }
         }
        },
        "title": {
         "text": "Razork vs Selfmade"
        }
       }
      },
      "text/html": [
       "<div>\n",
       "        \n",
       "        \n",
       "            <div id=\"509b05d3-c43d-4b11-b5d4-3794763b1314\" class=\"plotly-graph-div\" style=\"height:525px; width:100%;\"></div>\n",
       "            <script type=\"text/javascript\">\n",
       "                require([\"plotly\"], function(Plotly) {\n",
       "                    window.PLOTLYENV=window.PLOTLYENV || {};\n",
       "                    \n",
       "                if (document.getElementById(\"509b05d3-c43d-4b11-b5d4-3794763b1314\")) {\n",
       "                    Plotly.newPlot(\n",
       "                        '509b05d3-c43d-4b11-b5d4-3794763b1314',\n",
       "                        [{\"fill\": \"toself\", \"line\": {\"color\": \"green\"}, \"name\": \"Razork\", \"r\": [93.12039312039313, 96.50819505242798, 92.06116464180981, 84.3187911284426, 92.21457166197835, 85.35039472196543, 76.83923705722071, 80.0119970198638], \"theta\": [\"opp_csat15\", \"csat15\", \"monsterkills\", \"monsterkillsownjungle\", \"totalgold\", \"earnedgold\", \"wardsplaced\", \"wpm\"], \"type\": \"scatterpolar\"}, {\"fill\": \"toself\", \"line\": {\"color\": \"orange\"}, \"name\": \"Selfmade\", \"r\": [95.48262548262548, 99.14413693808991, 93.98452929558921, 86.38069705093834, 94.64298079871793, 93.1267832321311, 62.82600233553912, 71.8888512298695], \"theta\": [\"opp_csat15\", \"csat15\", \"monsterkills\", \"monsterkillsownjungle\", \"totalgold\", \"earnedgold\", \"wardsplaced\", \"wpm\"], \"type\": \"scatterpolar\"}],\n",
       "                        {\"polar\": {\"radialaxis\": {\"range\": [0, 100], \"visible\": true}}, \"showlegend\": false, \"template\": {\"data\": {\"bar\": [{\"error_x\": {\"color\": \"#2a3f5f\"}, \"error_y\": {\"color\": \"#2a3f5f\"}, \"marker\": {\"line\": {\"color\": \"#E5ECF6\", \"width\": 0.5}}, \"type\": \"bar\"}], \"barpolar\": [{\"marker\": {\"line\": {\"color\": \"#E5ECF6\", \"width\": 0.5}}, \"type\": \"barpolar\"}], \"carpet\": [{\"aaxis\": {\"endlinecolor\": \"#2a3f5f\", \"gridcolor\": \"white\", \"linecolor\": \"white\", \"minorgridcolor\": \"white\", \"startlinecolor\": \"#2a3f5f\"}, \"baxis\": {\"endlinecolor\": \"#2a3f5f\", \"gridcolor\": \"white\", \"linecolor\": \"white\", \"minorgridcolor\": \"white\", \"startlinecolor\": \"#2a3f5f\"}, \"type\": \"carpet\"}], \"choropleth\": [{\"colorbar\": {\"outlinewidth\": 0, \"ticks\": \"\"}, \"type\": \"choropleth\"}], \"contour\": [{\"colorbar\": {\"outlinewidth\": 0, \"ticks\": \"\"}, \"colorscale\": [[0.0, \"#0d0887\"], [0.1111111111111111, \"#46039f\"], [0.2222222222222222, \"#7201a8\"], [0.3333333333333333, \"#9c179e\"], [0.4444444444444444, \"#bd3786\"], [0.5555555555555556, \"#d8576b\"], [0.6666666666666666, \"#ed7953\"], [0.7777777777777778, \"#fb9f3a\"], [0.8888888888888888, \"#fdca26\"], [1.0, \"#f0f921\"]], \"type\": \"contour\"}], \"contourcarpet\": [{\"colorbar\": {\"outlinewidth\": 0, \"ticks\": \"\"}, \"type\": \"contourcarpet\"}], \"heatmap\": [{\"colorbar\": {\"outlinewidth\": 0, \"ticks\": \"\"}, \"colorscale\": [[0.0, \"#0d0887\"], [0.1111111111111111, \"#46039f\"], [0.2222222222222222, \"#7201a8\"], [0.3333333333333333, \"#9c179e\"], [0.4444444444444444, \"#bd3786\"], [0.5555555555555556, \"#d8576b\"], [0.6666666666666666, \"#ed7953\"], [0.7777777777777778, \"#fb9f3a\"], [0.8888888888888888, \"#fdca26\"], [1.0, \"#f0f921\"]], \"type\": \"heatmap\"}], \"heatmapgl\": [{\"colorbar\": {\"outlinewidth\": 0, \"ticks\": \"\"}, \"colorscale\": [[0.0, \"#0d0887\"], [0.1111111111111111, \"#46039f\"], [0.2222222222222222, \"#7201a8\"], [0.3333333333333333, \"#9c179e\"], [0.4444444444444444, \"#bd3786\"], [0.5555555555555556, \"#d8576b\"], [0.6666666666666666, \"#ed7953\"], [0.7777777777777778, \"#fb9f3a\"], [0.8888888888888888, \"#fdca26\"], [1.0, \"#f0f921\"]], \"type\": \"heatmapgl\"}], \"histogram\": [{\"marker\": {\"colorbar\": {\"outlinewidth\": 0, \"ticks\": \"\"}}, \"type\": \"histogram\"}], \"histogram2d\": [{\"colorbar\": {\"outlinewidth\": 0, \"ticks\": \"\"}, \"colorscale\": [[0.0, \"#0d0887\"], [0.1111111111111111, \"#46039f\"], [0.2222222222222222, \"#7201a8\"], [0.3333333333333333, \"#9c179e\"], [0.4444444444444444, \"#bd3786\"], [0.5555555555555556, \"#d8576b\"], [0.6666666666666666, \"#ed7953\"], [0.7777777777777778, \"#fb9f3a\"], [0.8888888888888888, \"#fdca26\"], [1.0, \"#f0f921\"]], \"type\": \"histogram2d\"}], \"histogram2dcontour\": [{\"colorbar\": {\"outlinewidth\": 0, \"ticks\": \"\"}, \"colorscale\": [[0.0, \"#0d0887\"], [0.1111111111111111, \"#46039f\"], [0.2222222222222222, \"#7201a8\"], [0.3333333333333333, \"#9c179e\"], [0.4444444444444444, \"#bd3786\"], [0.5555555555555556, \"#d8576b\"], [0.6666666666666666, \"#ed7953\"], [0.7777777777777778, \"#fb9f3a\"], [0.8888888888888888, \"#fdca26\"], [1.0, \"#f0f921\"]], \"type\": \"histogram2dcontour\"}], \"mesh3d\": [{\"colorbar\": {\"outlinewidth\": 0, \"ticks\": \"\"}, \"type\": \"mesh3d\"}], \"parcoords\": [{\"line\": {\"colorbar\": {\"outlinewidth\": 0, \"ticks\": \"\"}}, \"type\": \"parcoords\"}], \"pie\": [{\"automargin\": true, \"type\": \"pie\"}], \"scatter\": [{\"marker\": {\"colorbar\": {\"outlinewidth\": 0, \"ticks\": \"\"}}, \"type\": \"scatter\"}], \"scatter3d\": [{\"line\": {\"colorbar\": {\"outlinewidth\": 0, \"ticks\": \"\"}}, \"marker\": {\"colorbar\": {\"outlinewidth\": 0, \"ticks\": \"\"}}, \"type\": \"scatter3d\"}], \"scattercarpet\": [{\"marker\": {\"colorbar\": {\"outlinewidth\": 0, \"ticks\": \"\"}}, \"type\": \"scattercarpet\"}], \"scattergeo\": [{\"marker\": {\"colorbar\": {\"outlinewidth\": 0, \"ticks\": \"\"}}, \"type\": \"scattergeo\"}], \"scattergl\": [{\"marker\": {\"colorbar\": {\"outlinewidth\": 0, \"ticks\": \"\"}}, \"type\": \"scattergl\"}], \"scattermapbox\": [{\"marker\": {\"colorbar\": {\"outlinewidth\": 0, \"ticks\": \"\"}}, \"type\": \"scattermapbox\"}], \"scatterpolar\": [{\"marker\": {\"colorbar\": {\"outlinewidth\": 0, \"ticks\": \"\"}}, \"type\": \"scatterpolar\"}], \"scatterpolargl\": [{\"marker\": {\"colorbar\": {\"outlinewidth\": 0, \"ticks\": \"\"}}, \"type\": \"scatterpolargl\"}], \"scatterternary\": [{\"marker\": {\"colorbar\": {\"outlinewidth\": 0, \"ticks\": \"\"}}, \"type\": \"scatterternary\"}], \"surface\": [{\"colorbar\": {\"outlinewidth\": 0, \"ticks\": \"\"}, \"colorscale\": [[0.0, \"#0d0887\"], [0.1111111111111111, \"#46039f\"], [0.2222222222222222, \"#7201a8\"], [0.3333333333333333, \"#9c179e\"], [0.4444444444444444, \"#bd3786\"], [0.5555555555555556, \"#d8576b\"], [0.6666666666666666, \"#ed7953\"], [0.7777777777777778, \"#fb9f3a\"], [0.8888888888888888, \"#fdca26\"], [1.0, \"#f0f921\"]], \"type\": \"surface\"}], \"table\": [{\"cells\": {\"fill\": {\"color\": \"#EBF0F8\"}, \"line\": {\"color\": \"white\"}}, \"header\": {\"fill\": {\"color\": \"#C8D4E3\"}, \"line\": {\"color\": \"white\"}}, \"type\": \"table\"}]}, \"layout\": {\"annotationdefaults\": {\"arrowcolor\": \"#2a3f5f\", \"arrowhead\": 0, \"arrowwidth\": 1}, \"coloraxis\": {\"colorbar\": {\"outlinewidth\": 0, \"ticks\": \"\"}}, \"colorscale\": {\"diverging\": [[0, \"#8e0152\"], [0.1, \"#c51b7d\"], [0.2, \"#de77ae\"], [0.3, \"#f1b6da\"], [0.4, \"#fde0ef\"], [0.5, \"#f7f7f7\"], [0.6, \"#e6f5d0\"], [0.7, \"#b8e186\"], [0.8, \"#7fbc41\"], [0.9, \"#4d9221\"], [1, \"#276419\"]], \"sequential\": [[0.0, \"#0d0887\"], [0.1111111111111111, \"#46039f\"], [0.2222222222222222, \"#7201a8\"], [0.3333333333333333, \"#9c179e\"], [0.4444444444444444, \"#bd3786\"], [0.5555555555555556, \"#d8576b\"], [0.6666666666666666, \"#ed7953\"], [0.7777777777777778, \"#fb9f3a\"], [0.8888888888888888, \"#fdca26\"], [1.0, \"#f0f921\"]], \"sequentialminus\": [[0.0, \"#0d0887\"], [0.1111111111111111, \"#46039f\"], [0.2222222222222222, \"#7201a8\"], [0.3333333333333333, \"#9c179e\"], [0.4444444444444444, \"#bd3786\"], [0.5555555555555556, \"#d8576b\"], [0.6666666666666666, \"#ed7953\"], [0.7777777777777778, \"#fb9f3a\"], [0.8888888888888888, \"#fdca26\"], [1.0, \"#f0f921\"]]}, \"colorway\": [\"#636efa\", \"#EF553B\", \"#00cc96\", \"#ab63fa\", \"#FFA15A\", \"#19d3f3\", \"#FF6692\", \"#B6E880\", \"#FF97FF\", \"#FECB52\"], \"font\": {\"color\": \"#2a3f5f\"}, \"geo\": {\"bgcolor\": \"white\", \"lakecolor\": \"white\", \"landcolor\": \"#E5ECF6\", \"showlakes\": true, \"showland\": true, \"subunitcolor\": \"white\"}, \"hoverlabel\": {\"align\": \"left\"}, \"hovermode\": \"closest\", \"mapbox\": {\"style\": \"light\"}, \"paper_bgcolor\": \"white\", \"plot_bgcolor\": \"#E5ECF6\", \"polar\": {\"angularaxis\": {\"gridcolor\": \"white\", \"linecolor\": \"white\", \"ticks\": \"\"}, \"bgcolor\": \"#E5ECF6\", \"radialaxis\": {\"gridcolor\": \"white\", \"linecolor\": \"white\", \"ticks\": \"\"}}, \"scene\": {\"xaxis\": {\"backgroundcolor\": \"#E5ECF6\", \"gridcolor\": \"white\", \"gridwidth\": 2, \"linecolor\": \"white\", \"showbackground\": true, \"ticks\": \"\", \"zerolinecolor\": \"white\"}, \"yaxis\": {\"backgroundcolor\": \"#E5ECF6\", \"gridcolor\": \"white\", \"gridwidth\": 2, \"linecolor\": \"white\", \"showbackground\": true, \"ticks\": \"\", \"zerolinecolor\": \"white\"}, \"zaxis\": {\"backgroundcolor\": \"#E5ECF6\", \"gridcolor\": \"white\", \"gridwidth\": 2, \"linecolor\": \"white\", \"showbackground\": true, \"ticks\": \"\", \"zerolinecolor\": \"white\"}}, \"shapedefaults\": {\"line\": {\"color\": \"#2a3f5f\"}}, \"ternary\": {\"aaxis\": {\"gridcolor\": \"white\", \"linecolor\": \"white\", \"ticks\": \"\"}, \"baxis\": {\"gridcolor\": \"white\", \"linecolor\": \"white\", \"ticks\": \"\"}, \"bgcolor\": \"#E5ECF6\", \"caxis\": {\"gridcolor\": \"white\", \"linecolor\": \"white\", \"ticks\": \"\"}}, \"title\": {\"x\": 0.05}, \"xaxis\": {\"automargin\": true, \"gridcolor\": \"white\", \"linecolor\": \"white\", \"ticks\": \"\", \"title\": {\"standoff\": 15}, \"zerolinecolor\": \"white\", \"zerolinewidth\": 2}, \"yaxis\": {\"automargin\": true, \"gridcolor\": \"white\", \"linecolor\": \"white\", \"ticks\": \"\", \"title\": {\"standoff\": 15}, \"zerolinecolor\": \"white\", \"zerolinewidth\": 2}}}, \"title\": {\"text\": \"Razork vs Selfmade\"}},\n",
       "                        {\"responsive\": true}\n",
       "                    ).then(function(){\n",
       "                            \n",
       "var gd = document.getElementById('509b05d3-c43d-4b11-b5d4-3794763b1314');\n",
       "var x = new MutationObserver(function (mutations, observer) {{\n",
       "        var display = window.getComputedStyle(gd).display;\n",
       "        if (!display || display === 'none') {{\n",
       "            console.log([gd, 'removed!']);\n",
       "            Plotly.purge(gd);\n",
       "            observer.disconnect();\n",
       "        }}\n",
       "}});\n",
       "\n",
       "// Listen for the removal of the full notebook cells\n",
       "var notebookContainer = gd.closest('#notebook-container');\n",
       "if (notebookContainer) {{\n",
       "    x.observe(notebookContainer, {childList: true});\n",
       "}}\n",
       "\n",
       "// Listen for the clearing of the current output cell\n",
       "var outputEl = gd.closest('.output');\n",
       "if (outputEl) {{\n",
       "    x.observe(outputEl, {childList: true});\n",
       "}}\n",
       "\n",
       "                        })\n",
       "                };\n",
       "                });\n",
       "            </script>\n",
       "        </div>"
      ]
     },
     "metadata": {},
     "output_type": "display_data"
    }
   ],
   "source": [
    "vs_radar_graph('Razork','Selfmade',color1='green', color2='orange', role='jng')"
   ]
  },
  {
   "cell_type": "code",
   "execution_count": 17,
   "metadata": {},
   "outputs": [
    {
     "data": {
      "application/vnd.plotly.v1+json": {
       "config": {
        "linkText": "Export to plot.ly",
        "plotlyServerURL": "https://plot.ly",
        "showLink": false
       },
       "data": [
        {
         "fill": "toself",
         "line": {
          "color": "orange"
         },
         "r": [
          91.81936111561538,
          96.61506900410295,
          80.15873015873017,
          61.206159110350725,
          84.74560897555166,
          84.2208023649534,
          56.8348093954563,
          67.91935493055595
         ],
         "theta": [
          "opp_csat15",
          "csat15",
          "monsterkills",
          "monsterkillsownjungle",
          "totalgold",
          "earnedgold",
          "wardsplaced",
          "wpm"
         ],
         "type": "scatterpolar"
        }
       ],
       "layout": {
        "polar": {
         "radialaxis": {
          "range": [
           0,
           100
          ],
          "visible": true
         }
        },
        "showlegend": false,
        "template": {
         "data": {
          "bar": [
           {
            "error_x": {
             "color": "#2a3f5f"
            },
            "error_y": {
             "color": "#2a3f5f"
            },
            "marker": {
             "line": {
              "color": "#E5ECF6",
              "width": 0.5
             }
            },
            "type": "bar"
           }
          ],
          "barpolar": [
           {
            "marker": {
             "line": {
              "color": "#E5ECF6",
              "width": 0.5
             }
            },
            "type": "barpolar"
           }
          ],
          "carpet": [
           {
            "aaxis": {
             "endlinecolor": "#2a3f5f",
             "gridcolor": "white",
             "linecolor": "white",
             "minorgridcolor": "white",
             "startlinecolor": "#2a3f5f"
            },
            "baxis": {
             "endlinecolor": "#2a3f5f",
             "gridcolor": "white",
             "linecolor": "white",
             "minorgridcolor": "white",
             "startlinecolor": "#2a3f5f"
            },
            "type": "carpet"
           }
          ],
          "choropleth": [
           {
            "colorbar": {
             "outlinewidth": 0,
             "ticks": ""
            },
            "type": "choropleth"
           }
          ],
          "contour": [
           {
            "colorbar": {
             "outlinewidth": 0,
             "ticks": ""
            },
            "colorscale": [
             [
              0,
              "#0d0887"
             ],
             [
              0.1111111111111111,
              "#46039f"
             ],
             [
              0.2222222222222222,
              "#7201a8"
             ],
             [
              0.3333333333333333,
              "#9c179e"
             ],
             [
              0.4444444444444444,
              "#bd3786"
             ],
             [
              0.5555555555555556,
              "#d8576b"
             ],
             [
              0.6666666666666666,
              "#ed7953"
             ],
             [
              0.7777777777777778,
              "#fb9f3a"
             ],
             [
              0.8888888888888888,
              "#fdca26"
             ],
             [
              1,
              "#f0f921"
             ]
            ],
            "type": "contour"
           }
          ],
          "contourcarpet": [
           {
            "colorbar": {
             "outlinewidth": 0,
             "ticks": ""
            },
            "type": "contourcarpet"
           }
          ],
          "heatmap": [
           {
            "colorbar": {
             "outlinewidth": 0,
             "ticks": ""
            },
            "colorscale": [
             [
              0,
              "#0d0887"
             ],
             [
              0.1111111111111111,
              "#46039f"
             ],
             [
              0.2222222222222222,
              "#7201a8"
             ],
             [
              0.3333333333333333,
              "#9c179e"
             ],
             [
              0.4444444444444444,
              "#bd3786"
             ],
             [
              0.5555555555555556,
              "#d8576b"
             ],
             [
              0.6666666666666666,
              "#ed7953"
             ],
             [
              0.7777777777777778,
              "#fb9f3a"
             ],
             [
              0.8888888888888888,
              "#fdca26"
             ],
             [
              1,
              "#f0f921"
             ]
            ],
            "type": "heatmap"
           }
          ],
          "heatmapgl": [
           {
            "colorbar": {
             "outlinewidth": 0,
             "ticks": ""
            },
            "colorscale": [
             [
              0,
              "#0d0887"
             ],
             [
              0.1111111111111111,
              "#46039f"
             ],
             [
              0.2222222222222222,
              "#7201a8"
             ],
             [
              0.3333333333333333,
              "#9c179e"
             ],
             [
              0.4444444444444444,
              "#bd3786"
             ],
             [
              0.5555555555555556,
              "#d8576b"
             ],
             [
              0.6666666666666666,
              "#ed7953"
             ],
             [
              0.7777777777777778,
              "#fb9f3a"
             ],
             [
              0.8888888888888888,
              "#fdca26"
             ],
             [
              1,
              "#f0f921"
             ]
            ],
            "type": "heatmapgl"
           }
          ],
          "histogram": [
           {
            "marker": {
             "colorbar": {
              "outlinewidth": 0,
              "ticks": ""
             }
            },
            "type": "histogram"
           }
          ],
          "histogram2d": [
           {
            "colorbar": {
             "outlinewidth": 0,
             "ticks": ""
            },
            "colorscale": [
             [
              0,
              "#0d0887"
             ],
             [
              0.1111111111111111,
              "#46039f"
             ],
             [
              0.2222222222222222,
              "#7201a8"
             ],
             [
              0.3333333333333333,
              "#9c179e"
             ],
             [
              0.4444444444444444,
              "#bd3786"
             ],
             [
              0.5555555555555556,
              "#d8576b"
             ],
             [
              0.6666666666666666,
              "#ed7953"
             ],
             [
              0.7777777777777778,
              "#fb9f3a"
             ],
             [
              0.8888888888888888,
              "#fdca26"
             ],
             [
              1,
              "#f0f921"
             ]
            ],
            "type": "histogram2d"
           }
          ],
          "histogram2dcontour": [
           {
            "colorbar": {
             "outlinewidth": 0,
             "ticks": ""
            },
            "colorscale": [
             [
              0,
              "#0d0887"
             ],
             [
              0.1111111111111111,
              "#46039f"
             ],
             [
              0.2222222222222222,
              "#7201a8"
             ],
             [
              0.3333333333333333,
              "#9c179e"
             ],
             [
              0.4444444444444444,
              "#bd3786"
             ],
             [
              0.5555555555555556,
              "#d8576b"
             ],
             [
              0.6666666666666666,
              "#ed7953"
             ],
             [
              0.7777777777777778,
              "#fb9f3a"
             ],
             [
              0.8888888888888888,
              "#fdca26"
             ],
             [
              1,
              "#f0f921"
             ]
            ],
            "type": "histogram2dcontour"
           }
          ],
          "mesh3d": [
           {
            "colorbar": {
             "outlinewidth": 0,
             "ticks": ""
            },
            "type": "mesh3d"
           }
          ],
          "parcoords": [
           {
            "line": {
             "colorbar": {
              "outlinewidth": 0,
              "ticks": ""
             }
            },
            "type": "parcoords"
           }
          ],
          "pie": [
           {
            "automargin": true,
            "type": "pie"
           }
          ],
          "scatter": [
           {
            "marker": {
             "colorbar": {
              "outlinewidth": 0,
              "ticks": ""
             }
            },
            "type": "scatter"
           }
          ],
          "scatter3d": [
           {
            "line": {
             "colorbar": {
              "outlinewidth": 0,
              "ticks": ""
             }
            },
            "marker": {
             "colorbar": {
              "outlinewidth": 0,
              "ticks": ""
             }
            },
            "type": "scatter3d"
           }
          ],
          "scattercarpet": [
           {
            "marker": {
             "colorbar": {
              "outlinewidth": 0,
              "ticks": ""
             }
            },
            "type": "scattercarpet"
           }
          ],
          "scattergeo": [
           {
            "marker": {
             "colorbar": {
              "outlinewidth": 0,
              "ticks": ""
             }
            },
            "type": "scattergeo"
           }
          ],
          "scattergl": [
           {
            "marker": {
             "colorbar": {
              "outlinewidth": 0,
              "ticks": ""
             }
            },
            "type": "scattergl"
           }
          ],
          "scattermapbox": [
           {
            "marker": {
             "colorbar": {
              "outlinewidth": 0,
              "ticks": ""
             }
            },
            "type": "scattermapbox"
           }
          ],
          "scatterpolar": [
           {
            "marker": {
             "colorbar": {
              "outlinewidth": 0,
              "ticks": ""
             }
            },
            "type": "scatterpolar"
           }
          ],
          "scatterpolargl": [
           {
            "marker": {
             "colorbar": {
              "outlinewidth": 0,
              "ticks": ""
             }
            },
            "type": "scatterpolargl"
           }
          ],
          "scatterternary": [
           {
            "marker": {
             "colorbar": {
              "outlinewidth": 0,
              "ticks": ""
             }
            },
            "type": "scatterternary"
           }
          ],
          "surface": [
           {
            "colorbar": {
             "outlinewidth": 0,
             "ticks": ""
            },
            "colorscale": [
             [
              0,
              "#0d0887"
             ],
             [
              0.1111111111111111,
              "#46039f"
             ],
             [
              0.2222222222222222,
              "#7201a8"
             ],
             [
              0.3333333333333333,
              "#9c179e"
             ],
             [
              0.4444444444444444,
              "#bd3786"
             ],
             [
              0.5555555555555556,
              "#d8576b"
             ],
             [
              0.6666666666666666,
              "#ed7953"
             ],
             [
              0.7777777777777778,
              "#fb9f3a"
             ],
             [
              0.8888888888888888,
              "#fdca26"
             ],
             [
              1,
              "#f0f921"
             ]
            ],
            "type": "surface"
           }
          ],
          "table": [
           {
            "cells": {
             "fill": {
              "color": "#EBF0F8"
             },
             "line": {
              "color": "white"
             }
            },
            "header": {
             "fill": {
              "color": "#C8D4E3"
             },
             "line": {
              "color": "white"
             }
            },
            "type": "table"
           }
          ]
         },
         "layout": {
          "annotationdefaults": {
           "arrowcolor": "#2a3f5f",
           "arrowhead": 0,
           "arrowwidth": 1
          },
          "coloraxis": {
           "colorbar": {
            "outlinewidth": 0,
            "ticks": ""
           }
          },
          "colorscale": {
           "diverging": [
            [
             0,
             "#8e0152"
            ],
            [
             0.1,
             "#c51b7d"
            ],
            [
             0.2,
             "#de77ae"
            ],
            [
             0.3,
             "#f1b6da"
            ],
            [
             0.4,
             "#fde0ef"
            ],
            [
             0.5,
             "#f7f7f7"
            ],
            [
             0.6,
             "#e6f5d0"
            ],
            [
             0.7,
             "#b8e186"
            ],
            [
             0.8,
             "#7fbc41"
            ],
            [
             0.9,
             "#4d9221"
            ],
            [
             1,
             "#276419"
            ]
           ],
           "sequential": [
            [
             0,
             "#0d0887"
            ],
            [
             0.1111111111111111,
             "#46039f"
            ],
            [
             0.2222222222222222,
             "#7201a8"
            ],
            [
             0.3333333333333333,
             "#9c179e"
            ],
            [
             0.4444444444444444,
             "#bd3786"
            ],
            [
             0.5555555555555556,
             "#d8576b"
            ],
            [
             0.6666666666666666,
             "#ed7953"
            ],
            [
             0.7777777777777778,
             "#fb9f3a"
            ],
            [
             0.8888888888888888,
             "#fdca26"
            ],
            [
             1,
             "#f0f921"
            ]
           ],
           "sequentialminus": [
            [
             0,
             "#0d0887"
            ],
            [
             0.1111111111111111,
             "#46039f"
            ],
            [
             0.2222222222222222,
             "#7201a8"
            ],
            [
             0.3333333333333333,
             "#9c179e"
            ],
            [
             0.4444444444444444,
             "#bd3786"
            ],
            [
             0.5555555555555556,
             "#d8576b"
            ],
            [
             0.6666666666666666,
             "#ed7953"
            ],
            [
             0.7777777777777778,
             "#fb9f3a"
            ],
            [
             0.8888888888888888,
             "#fdca26"
            ],
            [
             1,
             "#f0f921"
            ]
           ]
          },
          "colorway": [
           "#636efa",
           "#EF553B",
           "#00cc96",
           "#ab63fa",
           "#FFA15A",
           "#19d3f3",
           "#FF6692",
           "#B6E880",
           "#FF97FF",
           "#FECB52"
          ],
          "font": {
           "color": "#2a3f5f"
          },
          "geo": {
           "bgcolor": "white",
           "lakecolor": "white",
           "landcolor": "#E5ECF6",
           "showlakes": true,
           "showland": true,
           "subunitcolor": "white"
          },
          "hoverlabel": {
           "align": "left"
          },
          "hovermode": "closest",
          "mapbox": {
           "style": "light"
          },
          "paper_bgcolor": "white",
          "plot_bgcolor": "#E5ECF6",
          "polar": {
           "angularaxis": {
            "gridcolor": "white",
            "linecolor": "white",
            "ticks": ""
           },
           "bgcolor": "#E5ECF6",
           "radialaxis": {
            "gridcolor": "white",
            "linecolor": "white",
            "ticks": ""
           }
          },
          "scene": {
           "xaxis": {
            "backgroundcolor": "#E5ECF6",
            "gridcolor": "white",
            "gridwidth": 2,
            "linecolor": "white",
            "showbackground": true,
            "ticks": "",
            "zerolinecolor": "white"
           },
           "yaxis": {
            "backgroundcolor": "#E5ECF6",
            "gridcolor": "white",
            "gridwidth": 2,
            "linecolor": "white",
            "showbackground": true,
            "ticks": "",
            "zerolinecolor": "white"
           },
           "zaxis": {
            "backgroundcolor": "#E5ECF6",
            "gridcolor": "white",
            "gridwidth": 2,
            "linecolor": "white",
            "showbackground": true,
            "ticks": "",
            "zerolinecolor": "white"
           }
          },
          "shapedefaults": {
           "line": {
            "color": "#2a3f5f"
           }
          },
          "ternary": {
           "aaxis": {
            "gridcolor": "white",
            "linecolor": "white",
            "ticks": ""
           },
           "baxis": {
            "gridcolor": "white",
            "linecolor": "white",
            "ticks": ""
           },
           "bgcolor": "#E5ECF6",
           "caxis": {
            "gridcolor": "white",
            "linecolor": "white",
            "ticks": ""
           }
          },
          "title": {
           "x": 0.05
          },
          "xaxis": {
           "automargin": true,
           "gridcolor": "white",
           "linecolor": "white",
           "ticks": "",
           "title": {
            "standoff": 15
           },
           "zerolinecolor": "white",
           "zerolinewidth": 2
          },
          "yaxis": {
           "automargin": true,
           "gridcolor": "white",
           "linecolor": "white",
           "ticks": "",
           "title": {
            "standoff": 15
           },
           "zerolinecolor": "white",
           "zerolinewidth": 2
          }
         }
        },
        "title": {
         "text": "Nemesis"
        }
       }
      },
      "text/html": [
       "<div>\n",
       "        \n",
       "        \n",
       "            <div id=\"10a017a4-db9c-46f9-95d6-484f6d7db21a\" class=\"plotly-graph-div\" style=\"height:525px; width:100%;\"></div>\n",
       "            <script type=\"text/javascript\">\n",
       "                require([\"plotly\"], function(Plotly) {\n",
       "                    window.PLOTLYENV=window.PLOTLYENV || {};\n",
       "                    \n",
       "                if (document.getElementById(\"10a017a4-db9c-46f9-95d6-484f6d7db21a\")) {\n",
       "                    Plotly.newPlot(\n",
       "                        '10a017a4-db9c-46f9-95d6-484f6d7db21a',\n",
       "                        [{\"fill\": \"toself\", \"line\": {\"color\": \"orange\"}, \"r\": [91.81936111561538, 96.61506900410295, 80.15873015873017, 61.206159110350725, 84.74560897555166, 84.2208023649534, 56.8348093954563, 67.91935493055595], \"theta\": [\"opp_csat15\", \"csat15\", \"monsterkills\", \"monsterkillsownjungle\", \"totalgold\", \"earnedgold\", \"wardsplaced\", \"wpm\"], \"type\": \"scatterpolar\"}],\n",
       "                        {\"polar\": {\"radialaxis\": {\"range\": [0, 100], \"visible\": true}}, \"showlegend\": false, \"template\": {\"data\": {\"bar\": [{\"error_x\": {\"color\": \"#2a3f5f\"}, \"error_y\": {\"color\": \"#2a3f5f\"}, \"marker\": {\"line\": {\"color\": \"#E5ECF6\", \"width\": 0.5}}, \"type\": \"bar\"}], \"barpolar\": [{\"marker\": {\"line\": {\"color\": \"#E5ECF6\", \"width\": 0.5}}, \"type\": \"barpolar\"}], \"carpet\": [{\"aaxis\": {\"endlinecolor\": \"#2a3f5f\", \"gridcolor\": \"white\", \"linecolor\": \"white\", \"minorgridcolor\": \"white\", \"startlinecolor\": \"#2a3f5f\"}, \"baxis\": {\"endlinecolor\": \"#2a3f5f\", \"gridcolor\": \"white\", \"linecolor\": \"white\", \"minorgridcolor\": \"white\", \"startlinecolor\": \"#2a3f5f\"}, \"type\": \"carpet\"}], \"choropleth\": [{\"colorbar\": {\"outlinewidth\": 0, \"ticks\": \"\"}, \"type\": \"choropleth\"}], \"contour\": [{\"colorbar\": {\"outlinewidth\": 0, \"ticks\": \"\"}, \"colorscale\": [[0.0, \"#0d0887\"], [0.1111111111111111, \"#46039f\"], [0.2222222222222222, \"#7201a8\"], [0.3333333333333333, \"#9c179e\"], [0.4444444444444444, \"#bd3786\"], [0.5555555555555556, \"#d8576b\"], [0.6666666666666666, \"#ed7953\"], [0.7777777777777778, \"#fb9f3a\"], [0.8888888888888888, \"#fdca26\"], [1.0, \"#f0f921\"]], \"type\": \"contour\"}], \"contourcarpet\": [{\"colorbar\": {\"outlinewidth\": 0, \"ticks\": \"\"}, \"type\": \"contourcarpet\"}], \"heatmap\": [{\"colorbar\": {\"outlinewidth\": 0, \"ticks\": \"\"}, \"colorscale\": [[0.0, \"#0d0887\"], [0.1111111111111111, \"#46039f\"], [0.2222222222222222, \"#7201a8\"], [0.3333333333333333, \"#9c179e\"], [0.4444444444444444, \"#bd3786\"], [0.5555555555555556, \"#d8576b\"], [0.6666666666666666, \"#ed7953\"], [0.7777777777777778, \"#fb9f3a\"], [0.8888888888888888, \"#fdca26\"], [1.0, \"#f0f921\"]], \"type\": \"heatmap\"}], \"heatmapgl\": [{\"colorbar\": {\"outlinewidth\": 0, \"ticks\": \"\"}, \"colorscale\": [[0.0, \"#0d0887\"], [0.1111111111111111, \"#46039f\"], [0.2222222222222222, \"#7201a8\"], [0.3333333333333333, \"#9c179e\"], [0.4444444444444444, \"#bd3786\"], [0.5555555555555556, \"#d8576b\"], [0.6666666666666666, \"#ed7953\"], [0.7777777777777778, \"#fb9f3a\"], [0.8888888888888888, \"#fdca26\"], [1.0, \"#f0f921\"]], \"type\": \"heatmapgl\"}], \"histogram\": [{\"marker\": {\"colorbar\": {\"outlinewidth\": 0, \"ticks\": \"\"}}, \"type\": \"histogram\"}], \"histogram2d\": [{\"colorbar\": {\"outlinewidth\": 0, \"ticks\": \"\"}, \"colorscale\": [[0.0, \"#0d0887\"], [0.1111111111111111, \"#46039f\"], [0.2222222222222222, \"#7201a8\"], [0.3333333333333333, \"#9c179e\"], [0.4444444444444444, \"#bd3786\"], [0.5555555555555556, \"#d8576b\"], [0.6666666666666666, \"#ed7953\"], [0.7777777777777778, \"#fb9f3a\"], [0.8888888888888888, \"#fdca26\"], [1.0, \"#f0f921\"]], \"type\": \"histogram2d\"}], \"histogram2dcontour\": [{\"colorbar\": {\"outlinewidth\": 0, \"ticks\": \"\"}, \"colorscale\": [[0.0, \"#0d0887\"], [0.1111111111111111, \"#46039f\"], [0.2222222222222222, \"#7201a8\"], [0.3333333333333333, \"#9c179e\"], [0.4444444444444444, \"#bd3786\"], [0.5555555555555556, \"#d8576b\"], [0.6666666666666666, \"#ed7953\"], [0.7777777777777778, \"#fb9f3a\"], [0.8888888888888888, \"#fdca26\"], [1.0, \"#f0f921\"]], \"type\": \"histogram2dcontour\"}], \"mesh3d\": [{\"colorbar\": {\"outlinewidth\": 0, \"ticks\": \"\"}, \"type\": \"mesh3d\"}], \"parcoords\": [{\"line\": {\"colorbar\": {\"outlinewidth\": 0, \"ticks\": \"\"}}, \"type\": \"parcoords\"}], \"pie\": [{\"automargin\": true, \"type\": \"pie\"}], \"scatter\": [{\"marker\": {\"colorbar\": {\"outlinewidth\": 0, \"ticks\": \"\"}}, \"type\": \"scatter\"}], \"scatter3d\": [{\"line\": {\"colorbar\": {\"outlinewidth\": 0, \"ticks\": \"\"}}, \"marker\": {\"colorbar\": {\"outlinewidth\": 0, \"ticks\": \"\"}}, \"type\": \"scatter3d\"}], \"scattercarpet\": [{\"marker\": {\"colorbar\": {\"outlinewidth\": 0, \"ticks\": \"\"}}, \"type\": \"scattercarpet\"}], \"scattergeo\": [{\"marker\": {\"colorbar\": {\"outlinewidth\": 0, \"ticks\": \"\"}}, \"type\": \"scattergeo\"}], \"scattergl\": [{\"marker\": {\"colorbar\": {\"outlinewidth\": 0, \"ticks\": \"\"}}, \"type\": \"scattergl\"}], \"scattermapbox\": [{\"marker\": {\"colorbar\": {\"outlinewidth\": 0, \"ticks\": \"\"}}, \"type\": \"scattermapbox\"}], \"scatterpolar\": [{\"marker\": {\"colorbar\": {\"outlinewidth\": 0, \"ticks\": \"\"}}, \"type\": \"scatterpolar\"}], \"scatterpolargl\": [{\"marker\": {\"colorbar\": {\"outlinewidth\": 0, \"ticks\": \"\"}}, \"type\": \"scatterpolargl\"}], \"scatterternary\": [{\"marker\": {\"colorbar\": {\"outlinewidth\": 0, \"ticks\": \"\"}}, \"type\": \"scatterternary\"}], \"surface\": [{\"colorbar\": {\"outlinewidth\": 0, \"ticks\": \"\"}, \"colorscale\": [[0.0, \"#0d0887\"], [0.1111111111111111, \"#46039f\"], [0.2222222222222222, \"#7201a8\"], [0.3333333333333333, \"#9c179e\"], [0.4444444444444444, \"#bd3786\"], [0.5555555555555556, \"#d8576b\"], [0.6666666666666666, \"#ed7953\"], [0.7777777777777778, \"#fb9f3a\"], [0.8888888888888888, \"#fdca26\"], [1.0, \"#f0f921\"]], \"type\": \"surface\"}], \"table\": [{\"cells\": {\"fill\": {\"color\": \"#EBF0F8\"}, \"line\": {\"color\": \"white\"}}, \"header\": {\"fill\": {\"color\": \"#C8D4E3\"}, \"line\": {\"color\": \"white\"}}, \"type\": \"table\"}]}, \"layout\": {\"annotationdefaults\": {\"arrowcolor\": \"#2a3f5f\", \"arrowhead\": 0, \"arrowwidth\": 1}, \"coloraxis\": {\"colorbar\": {\"outlinewidth\": 0, \"ticks\": \"\"}}, \"colorscale\": {\"diverging\": [[0, \"#8e0152\"], [0.1, \"#c51b7d\"], [0.2, \"#de77ae\"], [0.3, \"#f1b6da\"], [0.4, \"#fde0ef\"], [0.5, \"#f7f7f7\"], [0.6, \"#e6f5d0\"], [0.7, \"#b8e186\"], [0.8, \"#7fbc41\"], [0.9, \"#4d9221\"], [1, \"#276419\"]], \"sequential\": [[0.0, \"#0d0887\"], [0.1111111111111111, \"#46039f\"], [0.2222222222222222, \"#7201a8\"], [0.3333333333333333, \"#9c179e\"], [0.4444444444444444, \"#bd3786\"], [0.5555555555555556, \"#d8576b\"], [0.6666666666666666, \"#ed7953\"], [0.7777777777777778, \"#fb9f3a\"], [0.8888888888888888, \"#fdca26\"], [1.0, \"#f0f921\"]], \"sequentialminus\": [[0.0, \"#0d0887\"], [0.1111111111111111, \"#46039f\"], [0.2222222222222222, \"#7201a8\"], [0.3333333333333333, \"#9c179e\"], [0.4444444444444444, \"#bd3786\"], [0.5555555555555556, \"#d8576b\"], [0.6666666666666666, \"#ed7953\"], [0.7777777777777778, \"#fb9f3a\"], [0.8888888888888888, \"#fdca26\"], [1.0, \"#f0f921\"]]}, \"colorway\": [\"#636efa\", \"#EF553B\", \"#00cc96\", \"#ab63fa\", \"#FFA15A\", \"#19d3f3\", \"#FF6692\", \"#B6E880\", \"#FF97FF\", \"#FECB52\"], \"font\": {\"color\": \"#2a3f5f\"}, \"geo\": {\"bgcolor\": \"white\", \"lakecolor\": \"white\", \"landcolor\": \"#E5ECF6\", \"showlakes\": true, \"showland\": true, \"subunitcolor\": \"white\"}, \"hoverlabel\": {\"align\": \"left\"}, \"hovermode\": \"closest\", \"mapbox\": {\"style\": \"light\"}, \"paper_bgcolor\": \"white\", \"plot_bgcolor\": \"#E5ECF6\", \"polar\": {\"angularaxis\": {\"gridcolor\": \"white\", \"linecolor\": \"white\", \"ticks\": \"\"}, \"bgcolor\": \"#E5ECF6\", \"radialaxis\": {\"gridcolor\": \"white\", \"linecolor\": \"white\", \"ticks\": \"\"}}, \"scene\": {\"xaxis\": {\"backgroundcolor\": \"#E5ECF6\", \"gridcolor\": \"white\", \"gridwidth\": 2, \"linecolor\": \"white\", \"showbackground\": true, \"ticks\": \"\", \"zerolinecolor\": \"white\"}, \"yaxis\": {\"backgroundcolor\": \"#E5ECF6\", \"gridcolor\": \"white\", \"gridwidth\": 2, \"linecolor\": \"white\", \"showbackground\": true, \"ticks\": \"\", \"zerolinecolor\": \"white\"}, \"zaxis\": {\"backgroundcolor\": \"#E5ECF6\", \"gridcolor\": \"white\", \"gridwidth\": 2, \"linecolor\": \"white\", \"showbackground\": true, \"ticks\": \"\", \"zerolinecolor\": \"white\"}}, \"shapedefaults\": {\"line\": {\"color\": \"#2a3f5f\"}}, \"ternary\": {\"aaxis\": {\"gridcolor\": \"white\", \"linecolor\": \"white\", \"ticks\": \"\"}, \"baxis\": {\"gridcolor\": \"white\", \"linecolor\": \"white\", \"ticks\": \"\"}, \"bgcolor\": \"#E5ECF6\", \"caxis\": {\"gridcolor\": \"white\", \"linecolor\": \"white\", \"ticks\": \"\"}}, \"title\": {\"x\": 0.05}, \"xaxis\": {\"automargin\": true, \"gridcolor\": \"white\", \"linecolor\": \"white\", \"ticks\": \"\", \"title\": {\"standoff\": 15}, \"zerolinecolor\": \"white\", \"zerolinewidth\": 2}, \"yaxis\": {\"automargin\": true, \"gridcolor\": \"white\", \"linecolor\": \"white\", \"ticks\": \"\", \"title\": {\"standoff\": 15}, \"zerolinecolor\": \"white\", \"zerolinewidth\": 2}}}, \"title\": {\"text\": \"Nemesis\"}},\n",
       "                        {\"responsive\": true}\n",
       "                    ).then(function(){\n",
       "                            \n",
       "var gd = document.getElementById('10a017a4-db9c-46f9-95d6-484f6d7db21a');\n",
       "var x = new MutationObserver(function (mutations, observer) {{\n",
       "        var display = window.getComputedStyle(gd).display;\n",
       "        if (!display || display === 'none') {{\n",
       "            console.log([gd, 'removed!']);\n",
       "            Plotly.purge(gd);\n",
       "            observer.disconnect();\n",
       "        }}\n",
       "}});\n",
       "\n",
       "// Listen for the removal of the full notebook cells\n",
       "var notebookContainer = gd.closest('#notebook-container');\n",
       "if (notebookContainer) {{\n",
       "    x.observe(notebookContainer, {childList: true});\n",
       "}}\n",
       "\n",
       "// Listen for the clearing of the current output cell\n",
       "var outputEl = gd.closest('.output');\n",
       "if (outputEl) {{\n",
       "    x.observe(outputEl, {childList: true});\n",
       "}}\n",
       "\n",
       "                        })\n",
       "                };\n",
       "                });\n",
       "            </script>\n",
       "        </div>"
      ]
     },
     "metadata": {},
     "output_type": "display_data"
    }
   ],
   "source": [
    "simple_radar_graph('Nemesis', color='orange', players=players, role='mid')"
   ]
  },
  {
   "cell_type": "code",
   "execution_count": 18,
   "metadata": {},
   "outputs": [
    {
     "data": {
      "application/vnd.plotly.v1+json": {
       "config": {
        "linkText": "Export to plot.ly",
        "plotlyServerURL": "https://plot.ly",
        "showLink": false
       },
       "data": [
        {
         "fill": "toself",
         "line": {
          "color": "grey"
         },
         "r": [
          94.23423423423424,
          97.61104889884285,
          96.85099846390169,
          94.63806970509383,
          89.23104148504052,
          79.22549808569269,
          35.78564940962761,
          37.26759508146084
         ],
         "theta": [
          "opp_csat15",
          "csat15",
          "monsterkills",
          "monsterkillsownjungle",
          "totalgold",
          "earnedgold",
          "wardsplaced",
          "wpm"
         ],
         "type": "scatterpolar"
        }
       ],
       "layout": {
        "polar": {
         "radialaxis": {
          "range": [
           0,
           100
          ],
          "visible": true
         }
        },
        "showlegend": false,
        "template": {
         "data": {
          "bar": [
           {
            "error_x": {
             "color": "#2a3f5f"
            },
            "error_y": {
             "color": "#2a3f5f"
            },
            "marker": {
             "line": {
              "color": "#E5ECF6",
              "width": 0.5
             }
            },
            "type": "bar"
           }
          ],
          "barpolar": [
           {
            "marker": {
             "line": {
              "color": "#E5ECF6",
              "width": 0.5
             }
            },
            "type": "barpolar"
           }
          ],
          "carpet": [
           {
            "aaxis": {
             "endlinecolor": "#2a3f5f",
             "gridcolor": "white",
             "linecolor": "white",
             "minorgridcolor": "white",
             "startlinecolor": "#2a3f5f"
            },
            "baxis": {
             "endlinecolor": "#2a3f5f",
             "gridcolor": "white",
             "linecolor": "white",
             "minorgridcolor": "white",
             "startlinecolor": "#2a3f5f"
            },
            "type": "carpet"
           }
          ],
          "choropleth": [
           {
            "colorbar": {
             "outlinewidth": 0,
             "ticks": ""
            },
            "type": "choropleth"
           }
          ],
          "contour": [
           {
            "colorbar": {
             "outlinewidth": 0,
             "ticks": ""
            },
            "colorscale": [
             [
              0,
              "#0d0887"
             ],
             [
              0.1111111111111111,
              "#46039f"
             ],
             [
              0.2222222222222222,
              "#7201a8"
             ],
             [
              0.3333333333333333,
              "#9c179e"
             ],
             [
              0.4444444444444444,
              "#bd3786"
             ],
             [
              0.5555555555555556,
              "#d8576b"
             ],
             [
              0.6666666666666666,
              "#ed7953"
             ],
             [
              0.7777777777777778,
              "#fb9f3a"
             ],
             [
              0.8888888888888888,
              "#fdca26"
             ],
             [
              1,
              "#f0f921"
             ]
            ],
            "type": "contour"
           }
          ],
          "contourcarpet": [
           {
            "colorbar": {
             "outlinewidth": 0,
             "ticks": ""
            },
            "type": "contourcarpet"
           }
          ],
          "heatmap": [
           {
            "colorbar": {
             "outlinewidth": 0,
             "ticks": ""
            },
            "colorscale": [
             [
              0,
              "#0d0887"
             ],
             [
              0.1111111111111111,
              "#46039f"
             ],
             [
              0.2222222222222222,
              "#7201a8"
             ],
             [
              0.3333333333333333,
              "#9c179e"
             ],
             [
              0.4444444444444444,
              "#bd3786"
             ],
             [
              0.5555555555555556,
              "#d8576b"
             ],
             [
              0.6666666666666666,
              "#ed7953"
             ],
             [
              0.7777777777777778,
              "#fb9f3a"
             ],
             [
              0.8888888888888888,
              "#fdca26"
             ],
             [
              1,
              "#f0f921"
             ]
            ],
            "type": "heatmap"
           }
          ],
          "heatmapgl": [
           {
            "colorbar": {
             "outlinewidth": 0,
             "ticks": ""
            },
            "colorscale": [
             [
              0,
              "#0d0887"
             ],
             [
              0.1111111111111111,
              "#46039f"
             ],
             [
              0.2222222222222222,
              "#7201a8"
             ],
             [
              0.3333333333333333,
              "#9c179e"
             ],
             [
              0.4444444444444444,
              "#bd3786"
             ],
             [
              0.5555555555555556,
              "#d8576b"
             ],
             [
              0.6666666666666666,
              "#ed7953"
             ],
             [
              0.7777777777777778,
              "#fb9f3a"
             ],
             [
              0.8888888888888888,
              "#fdca26"
             ],
             [
              1,
              "#f0f921"
             ]
            ],
            "type": "heatmapgl"
           }
          ],
          "histogram": [
           {
            "marker": {
             "colorbar": {
              "outlinewidth": 0,
              "ticks": ""
             }
            },
            "type": "histogram"
           }
          ],
          "histogram2d": [
           {
            "colorbar": {
             "outlinewidth": 0,
             "ticks": ""
            },
            "colorscale": [
             [
              0,
              "#0d0887"
             ],
             [
              0.1111111111111111,
              "#46039f"
             ],
             [
              0.2222222222222222,
              "#7201a8"
             ],
             [
              0.3333333333333333,
              "#9c179e"
             ],
             [
              0.4444444444444444,
              "#bd3786"
             ],
             [
              0.5555555555555556,
              "#d8576b"
             ],
             [
              0.6666666666666666,
              "#ed7953"
             ],
             [
              0.7777777777777778,
              "#fb9f3a"
             ],
             [
              0.8888888888888888,
              "#fdca26"
             ],
             [
              1,
              "#f0f921"
             ]
            ],
            "type": "histogram2d"
           }
          ],
          "histogram2dcontour": [
           {
            "colorbar": {
             "outlinewidth": 0,
             "ticks": ""
            },
            "colorscale": [
             [
              0,
              "#0d0887"
             ],
             [
              0.1111111111111111,
              "#46039f"
             ],
             [
              0.2222222222222222,
              "#7201a8"
             ],
             [
              0.3333333333333333,
              "#9c179e"
             ],
             [
              0.4444444444444444,
              "#bd3786"
             ],
             [
              0.5555555555555556,
              "#d8576b"
             ],
             [
              0.6666666666666666,
              "#ed7953"
             ],
             [
              0.7777777777777778,
              "#fb9f3a"
             ],
             [
              0.8888888888888888,
              "#fdca26"
             ],
             [
              1,
              "#f0f921"
             ]
            ],
            "type": "histogram2dcontour"
           }
          ],
          "mesh3d": [
           {
            "colorbar": {
             "outlinewidth": 0,
             "ticks": ""
            },
            "type": "mesh3d"
           }
          ],
          "parcoords": [
           {
            "line": {
             "colorbar": {
              "outlinewidth": 0,
              "ticks": ""
             }
            },
            "type": "parcoords"
           }
          ],
          "pie": [
           {
            "automargin": true,
            "type": "pie"
           }
          ],
          "scatter": [
           {
            "marker": {
             "colorbar": {
              "outlinewidth": 0,
              "ticks": ""
             }
            },
            "type": "scatter"
           }
          ],
          "scatter3d": [
           {
            "line": {
             "colorbar": {
              "outlinewidth": 0,
              "ticks": ""
             }
            },
            "marker": {
             "colorbar": {
              "outlinewidth": 0,
              "ticks": ""
             }
            },
            "type": "scatter3d"
           }
          ],
          "scattercarpet": [
           {
            "marker": {
             "colorbar": {
              "outlinewidth": 0,
              "ticks": ""
             }
            },
            "type": "scattercarpet"
           }
          ],
          "scattergeo": [
           {
            "marker": {
             "colorbar": {
              "outlinewidth": 0,
              "ticks": ""
             }
            },
            "type": "scattergeo"
           }
          ],
          "scattergl": [
           {
            "marker": {
             "colorbar": {
              "outlinewidth": 0,
              "ticks": ""
             }
            },
            "type": "scattergl"
           }
          ],
          "scattermapbox": [
           {
            "marker": {
             "colorbar": {
              "outlinewidth": 0,
              "ticks": ""
             }
            },
            "type": "scattermapbox"
           }
          ],
          "scatterpolar": [
           {
            "marker": {
             "colorbar": {
              "outlinewidth": 0,
              "ticks": ""
             }
            },
            "type": "scatterpolar"
           }
          ],
          "scatterpolargl": [
           {
            "marker": {
             "colorbar": {
              "outlinewidth": 0,
              "ticks": ""
             }
            },
            "type": "scatterpolargl"
           }
          ],
          "scatterternary": [
           {
            "marker": {
             "colorbar": {
              "outlinewidth": 0,
              "ticks": ""
             }
            },
            "type": "scatterternary"
           }
          ],
          "surface": [
           {
            "colorbar": {
             "outlinewidth": 0,
             "ticks": ""
            },
            "colorscale": [
             [
              0,
              "#0d0887"
             ],
             [
              0.1111111111111111,
              "#46039f"
             ],
             [
              0.2222222222222222,
              "#7201a8"
             ],
             [
              0.3333333333333333,
              "#9c179e"
             ],
             [
              0.4444444444444444,
              "#bd3786"
             ],
             [
              0.5555555555555556,
              "#d8576b"
             ],
             [
              0.6666666666666666,
              "#ed7953"
             ],
             [
              0.7777777777777778,
              "#fb9f3a"
             ],
             [
              0.8888888888888888,
              "#fdca26"
             ],
             [
              1,
              "#f0f921"
             ]
            ],
            "type": "surface"
           }
          ],
          "table": [
           {
            "cells": {
             "fill": {
              "color": "#EBF0F8"
             },
             "line": {
              "color": "white"
             }
            },
            "header": {
             "fill": {
              "color": "#C8D4E3"
             },
             "line": {
              "color": "white"
             }
            },
            "type": "table"
           }
          ]
         },
         "layout": {
          "annotationdefaults": {
           "arrowcolor": "#2a3f5f",
           "arrowhead": 0,
           "arrowwidth": 1
          },
          "coloraxis": {
           "colorbar": {
            "outlinewidth": 0,
            "ticks": ""
           }
          },
          "colorscale": {
           "diverging": [
            [
             0,
             "#8e0152"
            ],
            [
             0.1,
             "#c51b7d"
            ],
            [
             0.2,
             "#de77ae"
            ],
            [
             0.3,
             "#f1b6da"
            ],
            [
             0.4,
             "#fde0ef"
            ],
            [
             0.5,
             "#f7f7f7"
            ],
            [
             0.6,
             "#e6f5d0"
            ],
            [
             0.7,
             "#b8e186"
            ],
            [
             0.8,
             "#7fbc41"
            ],
            [
             0.9,
             "#4d9221"
            ],
            [
             1,
             "#276419"
            ]
           ],
           "sequential": [
            [
             0,
             "#0d0887"
            ],
            [
             0.1111111111111111,
             "#46039f"
            ],
            [
             0.2222222222222222,
             "#7201a8"
            ],
            [
             0.3333333333333333,
             "#9c179e"
            ],
            [
             0.4444444444444444,
             "#bd3786"
            ],
            [
             0.5555555555555556,
             "#d8576b"
            ],
            [
             0.6666666666666666,
             "#ed7953"
            ],
            [
             0.7777777777777778,
             "#fb9f3a"
            ],
            [
             0.8888888888888888,
             "#fdca26"
            ],
            [
             1,
             "#f0f921"
            ]
           ],
           "sequentialminus": [
            [
             0,
             "#0d0887"
            ],
            [
             0.1111111111111111,
             "#46039f"
            ],
            [
             0.2222222222222222,
             "#7201a8"
            ],
            [
             0.3333333333333333,
             "#9c179e"
            ],
            [
             0.4444444444444444,
             "#bd3786"
            ],
            [
             0.5555555555555556,
             "#d8576b"
            ],
            [
             0.6666666666666666,
             "#ed7953"
            ],
            [
             0.7777777777777778,
             "#fb9f3a"
            ],
            [
             0.8888888888888888,
             "#fdca26"
            ],
            [
             1,
             "#f0f921"
            ]
           ]
          },
          "colorway": [
           "#636efa",
           "#EF553B",
           "#00cc96",
           "#ab63fa",
           "#FFA15A",
           "#19d3f3",
           "#FF6692",
           "#B6E880",
           "#FF97FF",
           "#FECB52"
          ],
          "font": {
           "color": "#2a3f5f"
          },
          "geo": {
           "bgcolor": "white",
           "lakecolor": "white",
           "landcolor": "#E5ECF6",
           "showlakes": true,
           "showland": true,
           "subunitcolor": "white"
          },
          "hoverlabel": {
           "align": "left"
          },
          "hovermode": "closest",
          "mapbox": {
           "style": "light"
          },
          "paper_bgcolor": "white",
          "plot_bgcolor": "#E5ECF6",
          "polar": {
           "angularaxis": {
            "gridcolor": "white",
            "linecolor": "white",
            "ticks": ""
           },
           "bgcolor": "#E5ECF6",
           "radialaxis": {
            "gridcolor": "white",
            "linecolor": "white",
            "ticks": ""
           }
          },
          "scene": {
           "xaxis": {
            "backgroundcolor": "#E5ECF6",
            "gridcolor": "white",
            "gridwidth": 2,
            "linecolor": "white",
            "showbackground": true,
            "ticks": "",
            "zerolinecolor": "white"
           },
           "yaxis": {
            "backgroundcolor": "#E5ECF6",
            "gridcolor": "white",
            "gridwidth": 2,
            "linecolor": "white",
            "showbackground": true,
            "ticks": "",
            "zerolinecolor": "white"
           },
           "zaxis": {
            "backgroundcolor": "#E5ECF6",
            "gridcolor": "white",
            "gridwidth": 2,
            "linecolor": "white",
            "showbackground": true,
            "ticks": "",
            "zerolinecolor": "white"
           }
          },
          "shapedefaults": {
           "line": {
            "color": "#2a3f5f"
           }
          },
          "ternary": {
           "aaxis": {
            "gridcolor": "white",
            "linecolor": "white",
            "ticks": ""
           },
           "baxis": {
            "gridcolor": "white",
            "linecolor": "white",
            "ticks": ""
           },
           "bgcolor": "#E5ECF6",
           "caxis": {
            "gridcolor": "white",
            "linecolor": "white",
            "ticks": ""
           }
          },
          "title": {
           "x": 0.05
          },
          "xaxis": {
           "automargin": true,
           "gridcolor": "white",
           "linecolor": "white",
           "ticks": "",
           "title": {
            "standoff": 15
           },
           "zerolinecolor": "white",
           "zerolinewidth": 2
          },
          "yaxis": {
           "automargin": true,
           "gridcolor": "white",
           "linecolor": "white",
           "ticks": "",
           "title": {
            "standoff": 15
           },
           "zerolinecolor": "white",
           "zerolinewidth": 2
          }
         }
        },
        "title": {
         "text": "Trick"
        }
       }
      },
      "text/html": [
       "<div>\n",
       "        \n",
       "        \n",
       "            <div id=\"1103b214-5ff1-4f25-a46b-f42a23a7c5a1\" class=\"plotly-graph-div\" style=\"height:525px; width:100%;\"></div>\n",
       "            <script type=\"text/javascript\">\n",
       "                require([\"plotly\"], function(Plotly) {\n",
       "                    window.PLOTLYENV=window.PLOTLYENV || {};\n",
       "                    \n",
       "                if (document.getElementById(\"1103b214-5ff1-4f25-a46b-f42a23a7c5a1\")) {\n",
       "                    Plotly.newPlot(\n",
       "                        '1103b214-5ff1-4f25-a46b-f42a23a7c5a1',\n",
       "                        [{\"fill\": \"toself\", \"line\": {\"color\": \"grey\"}, \"r\": [94.23423423423424, 97.61104889884285, 96.85099846390169, 94.63806970509383, 89.23104148504052, 79.22549808569269, 35.78564940962761, 37.26759508146084], \"theta\": [\"opp_csat15\", \"csat15\", \"monsterkills\", \"monsterkillsownjungle\", \"totalgold\", \"earnedgold\", \"wardsplaced\", \"wpm\"], \"type\": \"scatterpolar\"}],\n",
       "                        {\"polar\": {\"radialaxis\": {\"range\": [0, 100], \"visible\": true}}, \"showlegend\": false, \"template\": {\"data\": {\"bar\": [{\"error_x\": {\"color\": \"#2a3f5f\"}, \"error_y\": {\"color\": \"#2a3f5f\"}, \"marker\": {\"line\": {\"color\": \"#E5ECF6\", \"width\": 0.5}}, \"type\": \"bar\"}], \"barpolar\": [{\"marker\": {\"line\": {\"color\": \"#E5ECF6\", \"width\": 0.5}}, \"type\": \"barpolar\"}], \"carpet\": [{\"aaxis\": {\"endlinecolor\": \"#2a3f5f\", \"gridcolor\": \"white\", \"linecolor\": \"white\", \"minorgridcolor\": \"white\", \"startlinecolor\": \"#2a3f5f\"}, \"baxis\": {\"endlinecolor\": \"#2a3f5f\", \"gridcolor\": \"white\", \"linecolor\": \"white\", \"minorgridcolor\": \"white\", \"startlinecolor\": \"#2a3f5f\"}, \"type\": \"carpet\"}], \"choropleth\": [{\"colorbar\": {\"outlinewidth\": 0, \"ticks\": \"\"}, \"type\": \"choropleth\"}], \"contour\": [{\"colorbar\": {\"outlinewidth\": 0, \"ticks\": \"\"}, \"colorscale\": [[0.0, \"#0d0887\"], [0.1111111111111111, \"#46039f\"], [0.2222222222222222, \"#7201a8\"], [0.3333333333333333, \"#9c179e\"], [0.4444444444444444, \"#bd3786\"], [0.5555555555555556, \"#d8576b\"], [0.6666666666666666, \"#ed7953\"], [0.7777777777777778, \"#fb9f3a\"], [0.8888888888888888, \"#fdca26\"], [1.0, \"#f0f921\"]], \"type\": \"contour\"}], \"contourcarpet\": [{\"colorbar\": {\"outlinewidth\": 0, \"ticks\": \"\"}, \"type\": \"contourcarpet\"}], \"heatmap\": [{\"colorbar\": {\"outlinewidth\": 0, \"ticks\": \"\"}, \"colorscale\": [[0.0, \"#0d0887\"], [0.1111111111111111, \"#46039f\"], [0.2222222222222222, \"#7201a8\"], [0.3333333333333333, \"#9c179e\"], [0.4444444444444444, \"#bd3786\"], [0.5555555555555556, \"#d8576b\"], [0.6666666666666666, \"#ed7953\"], [0.7777777777777778, \"#fb9f3a\"], [0.8888888888888888, \"#fdca26\"], [1.0, \"#f0f921\"]], \"type\": \"heatmap\"}], \"heatmapgl\": [{\"colorbar\": {\"outlinewidth\": 0, \"ticks\": \"\"}, \"colorscale\": [[0.0, \"#0d0887\"], [0.1111111111111111, \"#46039f\"], [0.2222222222222222, \"#7201a8\"], [0.3333333333333333, \"#9c179e\"], [0.4444444444444444, \"#bd3786\"], [0.5555555555555556, \"#d8576b\"], [0.6666666666666666, \"#ed7953\"], [0.7777777777777778, \"#fb9f3a\"], [0.8888888888888888, \"#fdca26\"], [1.0, \"#f0f921\"]], \"type\": \"heatmapgl\"}], \"histogram\": [{\"marker\": {\"colorbar\": {\"outlinewidth\": 0, \"ticks\": \"\"}}, \"type\": \"histogram\"}], \"histogram2d\": [{\"colorbar\": {\"outlinewidth\": 0, \"ticks\": \"\"}, \"colorscale\": [[0.0, \"#0d0887\"], [0.1111111111111111, \"#46039f\"], [0.2222222222222222, \"#7201a8\"], [0.3333333333333333, \"#9c179e\"], [0.4444444444444444, \"#bd3786\"], [0.5555555555555556, \"#d8576b\"], [0.6666666666666666, \"#ed7953\"], [0.7777777777777778, \"#fb9f3a\"], [0.8888888888888888, \"#fdca26\"], [1.0, \"#f0f921\"]], \"type\": \"histogram2d\"}], \"histogram2dcontour\": [{\"colorbar\": {\"outlinewidth\": 0, \"ticks\": \"\"}, \"colorscale\": [[0.0, \"#0d0887\"], [0.1111111111111111, \"#46039f\"], [0.2222222222222222, \"#7201a8\"], [0.3333333333333333, \"#9c179e\"], [0.4444444444444444, \"#bd3786\"], [0.5555555555555556, \"#d8576b\"], [0.6666666666666666, \"#ed7953\"], [0.7777777777777778, \"#fb9f3a\"], [0.8888888888888888, \"#fdca26\"], [1.0, \"#f0f921\"]], \"type\": \"histogram2dcontour\"}], \"mesh3d\": [{\"colorbar\": {\"outlinewidth\": 0, \"ticks\": \"\"}, \"type\": \"mesh3d\"}], \"parcoords\": [{\"line\": {\"colorbar\": {\"outlinewidth\": 0, \"ticks\": \"\"}}, \"type\": \"parcoords\"}], \"pie\": [{\"automargin\": true, \"type\": \"pie\"}], \"scatter\": [{\"marker\": {\"colorbar\": {\"outlinewidth\": 0, \"ticks\": \"\"}}, \"type\": \"scatter\"}], \"scatter3d\": [{\"line\": {\"colorbar\": {\"outlinewidth\": 0, \"ticks\": \"\"}}, \"marker\": {\"colorbar\": {\"outlinewidth\": 0, \"ticks\": \"\"}}, \"type\": \"scatter3d\"}], \"scattercarpet\": [{\"marker\": {\"colorbar\": {\"outlinewidth\": 0, \"ticks\": \"\"}}, \"type\": \"scattercarpet\"}], \"scattergeo\": [{\"marker\": {\"colorbar\": {\"outlinewidth\": 0, \"ticks\": \"\"}}, \"type\": \"scattergeo\"}], \"scattergl\": [{\"marker\": {\"colorbar\": {\"outlinewidth\": 0, \"ticks\": \"\"}}, \"type\": \"scattergl\"}], \"scattermapbox\": [{\"marker\": {\"colorbar\": {\"outlinewidth\": 0, \"ticks\": \"\"}}, \"type\": \"scattermapbox\"}], \"scatterpolar\": [{\"marker\": {\"colorbar\": {\"outlinewidth\": 0, \"ticks\": \"\"}}, \"type\": \"scatterpolar\"}], \"scatterpolargl\": [{\"marker\": {\"colorbar\": {\"outlinewidth\": 0, \"ticks\": \"\"}}, \"type\": \"scatterpolargl\"}], \"scatterternary\": [{\"marker\": {\"colorbar\": {\"outlinewidth\": 0, \"ticks\": \"\"}}, \"type\": \"scatterternary\"}], \"surface\": [{\"colorbar\": {\"outlinewidth\": 0, \"ticks\": \"\"}, \"colorscale\": [[0.0, \"#0d0887\"], [0.1111111111111111, \"#46039f\"], [0.2222222222222222, \"#7201a8\"], [0.3333333333333333, \"#9c179e\"], [0.4444444444444444, \"#bd3786\"], [0.5555555555555556, \"#d8576b\"], [0.6666666666666666, \"#ed7953\"], [0.7777777777777778, \"#fb9f3a\"], [0.8888888888888888, \"#fdca26\"], [1.0, \"#f0f921\"]], \"type\": \"surface\"}], \"table\": [{\"cells\": {\"fill\": {\"color\": \"#EBF0F8\"}, \"line\": {\"color\": \"white\"}}, \"header\": {\"fill\": {\"color\": \"#C8D4E3\"}, \"line\": {\"color\": \"white\"}}, \"type\": \"table\"}]}, \"layout\": {\"annotationdefaults\": {\"arrowcolor\": \"#2a3f5f\", \"arrowhead\": 0, \"arrowwidth\": 1}, \"coloraxis\": {\"colorbar\": {\"outlinewidth\": 0, \"ticks\": \"\"}}, \"colorscale\": {\"diverging\": [[0, \"#8e0152\"], [0.1, \"#c51b7d\"], [0.2, \"#de77ae\"], [0.3, \"#f1b6da\"], [0.4, \"#fde0ef\"], [0.5, \"#f7f7f7\"], [0.6, \"#e6f5d0\"], [0.7, \"#b8e186\"], [0.8, \"#7fbc41\"], [0.9, \"#4d9221\"], [1, \"#276419\"]], \"sequential\": [[0.0, \"#0d0887\"], [0.1111111111111111, \"#46039f\"], [0.2222222222222222, \"#7201a8\"], [0.3333333333333333, \"#9c179e\"], [0.4444444444444444, \"#bd3786\"], [0.5555555555555556, \"#d8576b\"], [0.6666666666666666, \"#ed7953\"], [0.7777777777777778, \"#fb9f3a\"], [0.8888888888888888, \"#fdca26\"], [1.0, \"#f0f921\"]], \"sequentialminus\": [[0.0, \"#0d0887\"], [0.1111111111111111, \"#46039f\"], [0.2222222222222222, \"#7201a8\"], [0.3333333333333333, \"#9c179e\"], [0.4444444444444444, \"#bd3786\"], [0.5555555555555556, \"#d8576b\"], [0.6666666666666666, \"#ed7953\"], [0.7777777777777778, \"#fb9f3a\"], [0.8888888888888888, \"#fdca26\"], [1.0, \"#f0f921\"]]}, \"colorway\": [\"#636efa\", \"#EF553B\", \"#00cc96\", \"#ab63fa\", \"#FFA15A\", \"#19d3f3\", \"#FF6692\", \"#B6E880\", \"#FF97FF\", \"#FECB52\"], \"font\": {\"color\": \"#2a3f5f\"}, \"geo\": {\"bgcolor\": \"white\", \"lakecolor\": \"white\", \"landcolor\": \"#E5ECF6\", \"showlakes\": true, \"showland\": true, \"subunitcolor\": \"white\"}, \"hoverlabel\": {\"align\": \"left\"}, \"hovermode\": \"closest\", \"mapbox\": {\"style\": \"light\"}, \"paper_bgcolor\": \"white\", \"plot_bgcolor\": \"#E5ECF6\", \"polar\": {\"angularaxis\": {\"gridcolor\": \"white\", \"linecolor\": \"white\", \"ticks\": \"\"}, \"bgcolor\": \"#E5ECF6\", \"radialaxis\": {\"gridcolor\": \"white\", \"linecolor\": \"white\", \"ticks\": \"\"}}, \"scene\": {\"xaxis\": {\"backgroundcolor\": \"#E5ECF6\", \"gridcolor\": \"white\", \"gridwidth\": 2, \"linecolor\": \"white\", \"showbackground\": true, \"ticks\": \"\", \"zerolinecolor\": \"white\"}, \"yaxis\": {\"backgroundcolor\": \"#E5ECF6\", \"gridcolor\": \"white\", \"gridwidth\": 2, \"linecolor\": \"white\", \"showbackground\": true, \"ticks\": \"\", \"zerolinecolor\": \"white\"}, \"zaxis\": {\"backgroundcolor\": \"#E5ECF6\", \"gridcolor\": \"white\", \"gridwidth\": 2, \"linecolor\": \"white\", \"showbackground\": true, \"ticks\": \"\", \"zerolinecolor\": \"white\"}}, \"shapedefaults\": {\"line\": {\"color\": \"#2a3f5f\"}}, \"ternary\": {\"aaxis\": {\"gridcolor\": \"white\", \"linecolor\": \"white\", \"ticks\": \"\"}, \"baxis\": {\"gridcolor\": \"white\", \"linecolor\": \"white\", \"ticks\": \"\"}, \"bgcolor\": \"#E5ECF6\", \"caxis\": {\"gridcolor\": \"white\", \"linecolor\": \"white\", \"ticks\": \"\"}}, \"title\": {\"x\": 0.05}, \"xaxis\": {\"automargin\": true, \"gridcolor\": \"white\", \"linecolor\": \"white\", \"ticks\": \"\", \"title\": {\"standoff\": 15}, \"zerolinecolor\": \"white\", \"zerolinewidth\": 2}, \"yaxis\": {\"automargin\": true, \"gridcolor\": \"white\", \"linecolor\": \"white\", \"ticks\": \"\", \"title\": {\"standoff\": 15}, \"zerolinecolor\": \"white\", \"zerolinewidth\": 2}}}, \"title\": {\"text\": \"Trick\"}},\n",
       "                        {\"responsive\": true}\n",
       "                    ).then(function(){\n",
       "                            \n",
       "var gd = document.getElementById('1103b214-5ff1-4f25-a46b-f42a23a7c5a1');\n",
       "var x = new MutationObserver(function (mutations, observer) {{\n",
       "        var display = window.getComputedStyle(gd).display;\n",
       "        if (!display || display === 'none') {{\n",
       "            console.log([gd, 'removed!']);\n",
       "            Plotly.purge(gd);\n",
       "            observer.disconnect();\n",
       "        }}\n",
       "}});\n",
       "\n",
       "// Listen for the removal of the full notebook cells\n",
       "var notebookContainer = gd.closest('#notebook-container');\n",
       "if (notebookContainer) {{\n",
       "    x.observe(notebookContainer, {childList: true});\n",
       "}}\n",
       "\n",
       "// Listen for the clearing of the current output cell\n",
       "var outputEl = gd.closest('.output');\n",
       "if (outputEl) {{\n",
       "    x.observe(outputEl, {childList: true});\n",
       "}}\n",
       "\n",
       "                        })\n",
       "                };\n",
       "                });\n",
       "            </script>\n",
       "        </div>"
      ]
     },
     "metadata": {},
     "output_type": "display_data"
    }
   ],
   "source": [
    "simple_radar_graph('Trick', color='grey', players=players, role='jng')"
   ]
  },
  {
   "cell_type": "code",
   "execution_count": 19,
   "metadata": {},
   "outputs": [
    {
     "data": {
      "application/vnd.plotly.v1+json": {
       "config": {
        "linkText": "Export to plot.ly",
        "plotlyServerURL": "https://plot.ly",
        "showLink": false
       },
       "data": [
        {
         "fill": "toself",
         "line": {
          "color": "grey"
         },
         "name": "G2 Esports",
         "r": [
          null,
          null,
          null,
          null,
          null,
          null,
          null,
          null
         ],
         "theta": [
          "opp_csat15",
          "csat15",
          "monsterkills",
          "monsterkillsownjungle",
          "totalgold",
          "earnedgold",
          "wardsplaced",
          "wpm"
         ],
         "type": "scatterpolar"
        },
        {
         "fill": "toself",
         "line": {
          "color": "orange"
         },
         "name": "Fnatic",
         "r": [
          null,
          null,
          null,
          null,
          null,
          null,
          null,
          null
         ],
         "theta": [
          "opp_csat15",
          "csat15",
          "monsterkills",
          "monsterkillsownjungle",
          "totalgold",
          "earnedgold",
          "wardsplaced",
          "wpm"
         ],
         "type": "scatterpolar"
        }
       ],
       "layout": {
        "polar": {
         "radialaxis": {
          "range": [
           0,
           100
          ],
          "visible": true
         }
        },
        "showlegend": false,
        "template": {
         "data": {
          "bar": [
           {
            "error_x": {
             "color": "#2a3f5f"
            },
            "error_y": {
             "color": "#2a3f5f"
            },
            "marker": {
             "line": {
              "color": "#E5ECF6",
              "width": 0.5
             }
            },
            "type": "bar"
           }
          ],
          "barpolar": [
           {
            "marker": {
             "line": {
              "color": "#E5ECF6",
              "width": 0.5
             }
            },
            "type": "barpolar"
           }
          ],
          "carpet": [
           {
            "aaxis": {
             "endlinecolor": "#2a3f5f",
             "gridcolor": "white",
             "linecolor": "white",
             "minorgridcolor": "white",
             "startlinecolor": "#2a3f5f"
            },
            "baxis": {
             "endlinecolor": "#2a3f5f",
             "gridcolor": "white",
             "linecolor": "white",
             "minorgridcolor": "white",
             "startlinecolor": "#2a3f5f"
            },
            "type": "carpet"
           }
          ],
          "choropleth": [
           {
            "colorbar": {
             "outlinewidth": 0,
             "ticks": ""
            },
            "type": "choropleth"
           }
          ],
          "contour": [
           {
            "colorbar": {
             "outlinewidth": 0,
             "ticks": ""
            },
            "colorscale": [
             [
              0,
              "#0d0887"
             ],
             [
              0.1111111111111111,
              "#46039f"
             ],
             [
              0.2222222222222222,
              "#7201a8"
             ],
             [
              0.3333333333333333,
              "#9c179e"
             ],
             [
              0.4444444444444444,
              "#bd3786"
             ],
             [
              0.5555555555555556,
              "#d8576b"
             ],
             [
              0.6666666666666666,
              "#ed7953"
             ],
             [
              0.7777777777777778,
              "#fb9f3a"
             ],
             [
              0.8888888888888888,
              "#fdca26"
             ],
             [
              1,
              "#f0f921"
             ]
            ],
            "type": "contour"
           }
          ],
          "contourcarpet": [
           {
            "colorbar": {
             "outlinewidth": 0,
             "ticks": ""
            },
            "type": "contourcarpet"
           }
          ],
          "heatmap": [
           {
            "colorbar": {
             "outlinewidth": 0,
             "ticks": ""
            },
            "colorscale": [
             [
              0,
              "#0d0887"
             ],
             [
              0.1111111111111111,
              "#46039f"
             ],
             [
              0.2222222222222222,
              "#7201a8"
             ],
             [
              0.3333333333333333,
              "#9c179e"
             ],
             [
              0.4444444444444444,
              "#bd3786"
             ],
             [
              0.5555555555555556,
              "#d8576b"
             ],
             [
              0.6666666666666666,
              "#ed7953"
             ],
             [
              0.7777777777777778,
              "#fb9f3a"
             ],
             [
              0.8888888888888888,
              "#fdca26"
             ],
             [
              1,
              "#f0f921"
             ]
            ],
            "type": "heatmap"
           }
          ],
          "heatmapgl": [
           {
            "colorbar": {
             "outlinewidth": 0,
             "ticks": ""
            },
            "colorscale": [
             [
              0,
              "#0d0887"
             ],
             [
              0.1111111111111111,
              "#46039f"
             ],
             [
              0.2222222222222222,
              "#7201a8"
             ],
             [
              0.3333333333333333,
              "#9c179e"
             ],
             [
              0.4444444444444444,
              "#bd3786"
             ],
             [
              0.5555555555555556,
              "#d8576b"
             ],
             [
              0.6666666666666666,
              "#ed7953"
             ],
             [
              0.7777777777777778,
              "#fb9f3a"
             ],
             [
              0.8888888888888888,
              "#fdca26"
             ],
             [
              1,
              "#f0f921"
             ]
            ],
            "type": "heatmapgl"
           }
          ],
          "histogram": [
           {
            "marker": {
             "colorbar": {
              "outlinewidth": 0,
              "ticks": ""
             }
            },
            "type": "histogram"
           }
          ],
          "histogram2d": [
           {
            "colorbar": {
             "outlinewidth": 0,
             "ticks": ""
            },
            "colorscale": [
             [
              0,
              "#0d0887"
             ],
             [
              0.1111111111111111,
              "#46039f"
             ],
             [
              0.2222222222222222,
              "#7201a8"
             ],
             [
              0.3333333333333333,
              "#9c179e"
             ],
             [
              0.4444444444444444,
              "#bd3786"
             ],
             [
              0.5555555555555556,
              "#d8576b"
             ],
             [
              0.6666666666666666,
              "#ed7953"
             ],
             [
              0.7777777777777778,
              "#fb9f3a"
             ],
             [
              0.8888888888888888,
              "#fdca26"
             ],
             [
              1,
              "#f0f921"
             ]
            ],
            "type": "histogram2d"
           }
          ],
          "histogram2dcontour": [
           {
            "colorbar": {
             "outlinewidth": 0,
             "ticks": ""
            },
            "colorscale": [
             [
              0,
              "#0d0887"
             ],
             [
              0.1111111111111111,
              "#46039f"
             ],
             [
              0.2222222222222222,
              "#7201a8"
             ],
             [
              0.3333333333333333,
              "#9c179e"
             ],
             [
              0.4444444444444444,
              "#bd3786"
             ],
             [
              0.5555555555555556,
              "#d8576b"
             ],
             [
              0.6666666666666666,
              "#ed7953"
             ],
             [
              0.7777777777777778,
              "#fb9f3a"
             ],
             [
              0.8888888888888888,
              "#fdca26"
             ],
             [
              1,
              "#f0f921"
             ]
            ],
            "type": "histogram2dcontour"
           }
          ],
          "mesh3d": [
           {
            "colorbar": {
             "outlinewidth": 0,
             "ticks": ""
            },
            "type": "mesh3d"
           }
          ],
          "parcoords": [
           {
            "line": {
             "colorbar": {
              "outlinewidth": 0,
              "ticks": ""
             }
            },
            "type": "parcoords"
           }
          ],
          "pie": [
           {
            "automargin": true,
            "type": "pie"
           }
          ],
          "scatter": [
           {
            "marker": {
             "colorbar": {
              "outlinewidth": 0,
              "ticks": ""
             }
            },
            "type": "scatter"
           }
          ],
          "scatter3d": [
           {
            "line": {
             "colorbar": {
              "outlinewidth": 0,
              "ticks": ""
             }
            },
            "marker": {
             "colorbar": {
              "outlinewidth": 0,
              "ticks": ""
             }
            },
            "type": "scatter3d"
           }
          ],
          "scattercarpet": [
           {
            "marker": {
             "colorbar": {
              "outlinewidth": 0,
              "ticks": ""
             }
            },
            "type": "scattercarpet"
           }
          ],
          "scattergeo": [
           {
            "marker": {
             "colorbar": {
              "outlinewidth": 0,
              "ticks": ""
             }
            },
            "type": "scattergeo"
           }
          ],
          "scattergl": [
           {
            "marker": {
             "colorbar": {
              "outlinewidth": 0,
              "ticks": ""
             }
            },
            "type": "scattergl"
           }
          ],
          "scattermapbox": [
           {
            "marker": {
             "colorbar": {
              "outlinewidth": 0,
              "ticks": ""
             }
            },
            "type": "scattermapbox"
           }
          ],
          "scatterpolar": [
           {
            "marker": {
             "colorbar": {
              "outlinewidth": 0,
              "ticks": ""
             }
            },
            "type": "scatterpolar"
           }
          ],
          "scatterpolargl": [
           {
            "marker": {
             "colorbar": {
              "outlinewidth": 0,
              "ticks": ""
             }
            },
            "type": "scatterpolargl"
           }
          ],
          "scatterternary": [
           {
            "marker": {
             "colorbar": {
              "outlinewidth": 0,
              "ticks": ""
             }
            },
            "type": "scatterternary"
           }
          ],
          "surface": [
           {
            "colorbar": {
             "outlinewidth": 0,
             "ticks": ""
            },
            "colorscale": [
             [
              0,
              "#0d0887"
             ],
             [
              0.1111111111111111,
              "#46039f"
             ],
             [
              0.2222222222222222,
              "#7201a8"
             ],
             [
              0.3333333333333333,
              "#9c179e"
             ],
             [
              0.4444444444444444,
              "#bd3786"
             ],
             [
              0.5555555555555556,
              "#d8576b"
             ],
             [
              0.6666666666666666,
              "#ed7953"
             ],
             [
              0.7777777777777778,
              "#fb9f3a"
             ],
             [
              0.8888888888888888,
              "#fdca26"
             ],
             [
              1,
              "#f0f921"
             ]
            ],
            "type": "surface"
           }
          ],
          "table": [
           {
            "cells": {
             "fill": {
              "color": "#EBF0F8"
             },
             "line": {
              "color": "white"
             }
            },
            "header": {
             "fill": {
              "color": "#C8D4E3"
             },
             "line": {
              "color": "white"
             }
            },
            "type": "table"
           }
          ]
         },
         "layout": {
          "annotationdefaults": {
           "arrowcolor": "#2a3f5f",
           "arrowhead": 0,
           "arrowwidth": 1
          },
          "coloraxis": {
           "colorbar": {
            "outlinewidth": 0,
            "ticks": ""
           }
          },
          "colorscale": {
           "diverging": [
            [
             0,
             "#8e0152"
            ],
            [
             0.1,
             "#c51b7d"
            ],
            [
             0.2,
             "#de77ae"
            ],
            [
             0.3,
             "#f1b6da"
            ],
            [
             0.4,
             "#fde0ef"
            ],
            [
             0.5,
             "#f7f7f7"
            ],
            [
             0.6,
             "#e6f5d0"
            ],
            [
             0.7,
             "#b8e186"
            ],
            [
             0.8,
             "#7fbc41"
            ],
            [
             0.9,
             "#4d9221"
            ],
            [
             1,
             "#276419"
            ]
           ],
           "sequential": [
            [
             0,
             "#0d0887"
            ],
            [
             0.1111111111111111,
             "#46039f"
            ],
            [
             0.2222222222222222,
             "#7201a8"
            ],
            [
             0.3333333333333333,
             "#9c179e"
            ],
            [
             0.4444444444444444,
             "#bd3786"
            ],
            [
             0.5555555555555556,
             "#d8576b"
            ],
            [
             0.6666666666666666,
             "#ed7953"
            ],
            [
             0.7777777777777778,
             "#fb9f3a"
            ],
            [
             0.8888888888888888,
             "#fdca26"
            ],
            [
             1,
             "#f0f921"
            ]
           ],
           "sequentialminus": [
            [
             0,
             "#0d0887"
            ],
            [
             0.1111111111111111,
             "#46039f"
            ],
            [
             0.2222222222222222,
             "#7201a8"
            ],
            [
             0.3333333333333333,
             "#9c179e"
            ],
            [
             0.4444444444444444,
             "#bd3786"
            ],
            [
             0.5555555555555556,
             "#d8576b"
            ],
            [
             0.6666666666666666,
             "#ed7953"
            ],
            [
             0.7777777777777778,
             "#fb9f3a"
            ],
            [
             0.8888888888888888,
             "#fdca26"
            ],
            [
             1,
             "#f0f921"
            ]
           ]
          },
          "colorway": [
           "#636efa",
           "#EF553B",
           "#00cc96",
           "#ab63fa",
           "#FFA15A",
           "#19d3f3",
           "#FF6692",
           "#B6E880",
           "#FF97FF",
           "#FECB52"
          ],
          "font": {
           "color": "#2a3f5f"
          },
          "geo": {
           "bgcolor": "white",
           "lakecolor": "white",
           "landcolor": "#E5ECF6",
           "showlakes": true,
           "showland": true,
           "subunitcolor": "white"
          },
          "hoverlabel": {
           "align": "left"
          },
          "hovermode": "closest",
          "mapbox": {
           "style": "light"
          },
          "paper_bgcolor": "white",
          "plot_bgcolor": "#E5ECF6",
          "polar": {
           "angularaxis": {
            "gridcolor": "white",
            "linecolor": "white",
            "ticks": ""
           },
           "bgcolor": "#E5ECF6",
           "radialaxis": {
            "gridcolor": "white",
            "linecolor": "white",
            "ticks": ""
           }
          },
          "scene": {
           "xaxis": {
            "backgroundcolor": "#E5ECF6",
            "gridcolor": "white",
            "gridwidth": 2,
            "linecolor": "white",
            "showbackground": true,
            "ticks": "",
            "zerolinecolor": "white"
           },
           "yaxis": {
            "backgroundcolor": "#E5ECF6",
            "gridcolor": "white",
            "gridwidth": 2,
            "linecolor": "white",
            "showbackground": true,
            "ticks": "",
            "zerolinecolor": "white"
           },
           "zaxis": {
            "backgroundcolor": "#E5ECF6",
            "gridcolor": "white",
            "gridwidth": 2,
            "linecolor": "white",
            "showbackground": true,
            "ticks": "",
            "zerolinecolor": "white"
           }
          },
          "shapedefaults": {
           "line": {
            "color": "#2a3f5f"
           }
          },
          "ternary": {
           "aaxis": {
            "gridcolor": "white",
            "linecolor": "white",
            "ticks": ""
           },
           "baxis": {
            "gridcolor": "white",
            "linecolor": "white",
            "ticks": ""
           },
           "bgcolor": "#E5ECF6",
           "caxis": {
            "gridcolor": "white",
            "linecolor": "white",
            "ticks": ""
           }
          },
          "title": {
           "x": 0.05
          },
          "xaxis": {
           "automargin": true,
           "gridcolor": "white",
           "linecolor": "white",
           "ticks": "",
           "title": {
            "standoff": 15
           },
           "zerolinecolor": "white",
           "zerolinewidth": 2
          },
          "yaxis": {
           "automargin": true,
           "gridcolor": "white",
           "linecolor": "white",
           "ticks": "",
           "title": {
            "standoff": 15
           },
           "zerolinecolor": "white",
           "zerolinewidth": 2
          }
         }
        },
        "title": {
         "text": "G2 Esports vs Fnatic"
        }
       }
      },
      "text/html": [
       "<div>\n",
       "        \n",
       "        \n",
       "            <div id=\"a891b224-04ab-4340-b653-35f6ee26ad8f\" class=\"plotly-graph-div\" style=\"height:525px; width:100%;\"></div>\n",
       "            <script type=\"text/javascript\">\n",
       "                require([\"plotly\"], function(Plotly) {\n",
       "                    window.PLOTLYENV=window.PLOTLYENV || {};\n",
       "                    \n",
       "                if (document.getElementById(\"a891b224-04ab-4340-b653-35f6ee26ad8f\")) {\n",
       "                    Plotly.newPlot(\n",
       "                        'a891b224-04ab-4340-b653-35f6ee26ad8f',\n",
       "                        [{\"fill\": \"toself\", \"line\": {\"color\": \"grey\"}, \"name\": \"G2 Esports\", \"r\": [null, null, null, null, null, null, null, null], \"theta\": [\"opp_csat15\", \"csat15\", \"monsterkills\", \"monsterkillsownjungle\", \"totalgold\", \"earnedgold\", \"wardsplaced\", \"wpm\"], \"type\": \"scatterpolar\"}, {\"fill\": \"toself\", \"line\": {\"color\": \"orange\"}, \"name\": \"Fnatic\", \"r\": [null, null, null, null, null, null, null, null], \"theta\": [\"opp_csat15\", \"csat15\", \"monsterkills\", \"monsterkillsownjungle\", \"totalgold\", \"earnedgold\", \"wardsplaced\", \"wpm\"], \"type\": \"scatterpolar\"}],\n",
       "                        {\"polar\": {\"radialaxis\": {\"range\": [0, 100], \"visible\": true}}, \"showlegend\": false, \"template\": {\"data\": {\"bar\": [{\"error_x\": {\"color\": \"#2a3f5f\"}, \"error_y\": {\"color\": \"#2a3f5f\"}, \"marker\": {\"line\": {\"color\": \"#E5ECF6\", \"width\": 0.5}}, \"type\": \"bar\"}], \"barpolar\": [{\"marker\": {\"line\": {\"color\": \"#E5ECF6\", \"width\": 0.5}}, \"type\": \"barpolar\"}], \"carpet\": [{\"aaxis\": {\"endlinecolor\": \"#2a3f5f\", \"gridcolor\": \"white\", \"linecolor\": \"white\", \"minorgridcolor\": \"white\", \"startlinecolor\": \"#2a3f5f\"}, \"baxis\": {\"endlinecolor\": \"#2a3f5f\", \"gridcolor\": \"white\", \"linecolor\": \"white\", \"minorgridcolor\": \"white\", \"startlinecolor\": \"#2a3f5f\"}, \"type\": \"carpet\"}], \"choropleth\": [{\"colorbar\": {\"outlinewidth\": 0, \"ticks\": \"\"}, \"type\": \"choropleth\"}], \"contour\": [{\"colorbar\": {\"outlinewidth\": 0, \"ticks\": \"\"}, \"colorscale\": [[0.0, \"#0d0887\"], [0.1111111111111111, \"#46039f\"], [0.2222222222222222, \"#7201a8\"], [0.3333333333333333, \"#9c179e\"], [0.4444444444444444, \"#bd3786\"], [0.5555555555555556, \"#d8576b\"], [0.6666666666666666, \"#ed7953\"], [0.7777777777777778, \"#fb9f3a\"], [0.8888888888888888, \"#fdca26\"], [1.0, \"#f0f921\"]], \"type\": \"contour\"}], \"contourcarpet\": [{\"colorbar\": {\"outlinewidth\": 0, \"ticks\": \"\"}, \"type\": \"contourcarpet\"}], \"heatmap\": [{\"colorbar\": {\"outlinewidth\": 0, \"ticks\": \"\"}, \"colorscale\": [[0.0, \"#0d0887\"], [0.1111111111111111, \"#46039f\"], [0.2222222222222222, \"#7201a8\"], [0.3333333333333333, \"#9c179e\"], [0.4444444444444444, \"#bd3786\"], [0.5555555555555556, \"#d8576b\"], [0.6666666666666666, \"#ed7953\"], [0.7777777777777778, \"#fb9f3a\"], [0.8888888888888888, \"#fdca26\"], [1.0, \"#f0f921\"]], \"type\": \"heatmap\"}], \"heatmapgl\": [{\"colorbar\": {\"outlinewidth\": 0, \"ticks\": \"\"}, \"colorscale\": [[0.0, \"#0d0887\"], [0.1111111111111111, \"#46039f\"], [0.2222222222222222, \"#7201a8\"], [0.3333333333333333, \"#9c179e\"], [0.4444444444444444, \"#bd3786\"], [0.5555555555555556, \"#d8576b\"], [0.6666666666666666, \"#ed7953\"], [0.7777777777777778, \"#fb9f3a\"], [0.8888888888888888, \"#fdca26\"], [1.0, \"#f0f921\"]], \"type\": \"heatmapgl\"}], \"histogram\": [{\"marker\": {\"colorbar\": {\"outlinewidth\": 0, \"ticks\": \"\"}}, \"type\": \"histogram\"}], \"histogram2d\": [{\"colorbar\": {\"outlinewidth\": 0, \"ticks\": \"\"}, \"colorscale\": [[0.0, \"#0d0887\"], [0.1111111111111111, \"#46039f\"], [0.2222222222222222, \"#7201a8\"], [0.3333333333333333, \"#9c179e\"], [0.4444444444444444, \"#bd3786\"], [0.5555555555555556, \"#d8576b\"], [0.6666666666666666, \"#ed7953\"], [0.7777777777777778, \"#fb9f3a\"], [0.8888888888888888, \"#fdca26\"], [1.0, \"#f0f921\"]], \"type\": \"histogram2d\"}], \"histogram2dcontour\": [{\"colorbar\": {\"outlinewidth\": 0, \"ticks\": \"\"}, \"colorscale\": [[0.0, \"#0d0887\"], [0.1111111111111111, \"#46039f\"], [0.2222222222222222, \"#7201a8\"], [0.3333333333333333, \"#9c179e\"], [0.4444444444444444, \"#bd3786\"], [0.5555555555555556, \"#d8576b\"], [0.6666666666666666, \"#ed7953\"], [0.7777777777777778, \"#fb9f3a\"], [0.8888888888888888, \"#fdca26\"], [1.0, \"#f0f921\"]], \"type\": \"histogram2dcontour\"}], \"mesh3d\": [{\"colorbar\": {\"outlinewidth\": 0, \"ticks\": \"\"}, \"type\": \"mesh3d\"}], \"parcoords\": [{\"line\": {\"colorbar\": {\"outlinewidth\": 0, \"ticks\": \"\"}}, \"type\": \"parcoords\"}], \"pie\": [{\"automargin\": true, \"type\": \"pie\"}], \"scatter\": [{\"marker\": {\"colorbar\": {\"outlinewidth\": 0, \"ticks\": \"\"}}, \"type\": \"scatter\"}], \"scatter3d\": [{\"line\": {\"colorbar\": {\"outlinewidth\": 0, \"ticks\": \"\"}}, \"marker\": {\"colorbar\": {\"outlinewidth\": 0, \"ticks\": \"\"}}, \"type\": \"scatter3d\"}], \"scattercarpet\": [{\"marker\": {\"colorbar\": {\"outlinewidth\": 0, \"ticks\": \"\"}}, \"type\": \"scattercarpet\"}], \"scattergeo\": [{\"marker\": {\"colorbar\": {\"outlinewidth\": 0, \"ticks\": \"\"}}, \"type\": \"scattergeo\"}], \"scattergl\": [{\"marker\": {\"colorbar\": {\"outlinewidth\": 0, \"ticks\": \"\"}}, \"type\": \"scattergl\"}], \"scattermapbox\": [{\"marker\": {\"colorbar\": {\"outlinewidth\": 0, \"ticks\": \"\"}}, \"type\": \"scattermapbox\"}], \"scatterpolar\": [{\"marker\": {\"colorbar\": {\"outlinewidth\": 0, \"ticks\": \"\"}}, \"type\": \"scatterpolar\"}], \"scatterpolargl\": [{\"marker\": {\"colorbar\": {\"outlinewidth\": 0, \"ticks\": \"\"}}, \"type\": \"scatterpolargl\"}], \"scatterternary\": [{\"marker\": {\"colorbar\": {\"outlinewidth\": 0, \"ticks\": \"\"}}, \"type\": \"scatterternary\"}], \"surface\": [{\"colorbar\": {\"outlinewidth\": 0, \"ticks\": \"\"}, \"colorscale\": [[0.0, \"#0d0887\"], [0.1111111111111111, \"#46039f\"], [0.2222222222222222, \"#7201a8\"], [0.3333333333333333, \"#9c179e\"], [0.4444444444444444, \"#bd3786\"], [0.5555555555555556, \"#d8576b\"], [0.6666666666666666, \"#ed7953\"], [0.7777777777777778, \"#fb9f3a\"], [0.8888888888888888, \"#fdca26\"], [1.0, \"#f0f921\"]], \"type\": \"surface\"}], \"table\": [{\"cells\": {\"fill\": {\"color\": \"#EBF0F8\"}, \"line\": {\"color\": \"white\"}}, \"header\": {\"fill\": {\"color\": \"#C8D4E3\"}, \"line\": {\"color\": \"white\"}}, \"type\": \"table\"}]}, \"layout\": {\"annotationdefaults\": {\"arrowcolor\": \"#2a3f5f\", \"arrowhead\": 0, \"arrowwidth\": 1}, \"coloraxis\": {\"colorbar\": {\"outlinewidth\": 0, \"ticks\": \"\"}}, \"colorscale\": {\"diverging\": [[0, \"#8e0152\"], [0.1, \"#c51b7d\"], [0.2, \"#de77ae\"], [0.3, \"#f1b6da\"], [0.4, \"#fde0ef\"], [0.5, \"#f7f7f7\"], [0.6, \"#e6f5d0\"], [0.7, \"#b8e186\"], [0.8, \"#7fbc41\"], [0.9, \"#4d9221\"], [1, \"#276419\"]], \"sequential\": [[0.0, \"#0d0887\"], [0.1111111111111111, \"#46039f\"], [0.2222222222222222, \"#7201a8\"], [0.3333333333333333, \"#9c179e\"], [0.4444444444444444, \"#bd3786\"], [0.5555555555555556, \"#d8576b\"], [0.6666666666666666, \"#ed7953\"], [0.7777777777777778, \"#fb9f3a\"], [0.8888888888888888, \"#fdca26\"], [1.0, \"#f0f921\"]], \"sequentialminus\": [[0.0, \"#0d0887\"], [0.1111111111111111, \"#46039f\"], [0.2222222222222222, \"#7201a8\"], [0.3333333333333333, \"#9c179e\"], [0.4444444444444444, \"#bd3786\"], [0.5555555555555556, \"#d8576b\"], [0.6666666666666666, \"#ed7953\"], [0.7777777777777778, \"#fb9f3a\"], [0.8888888888888888, \"#fdca26\"], [1.0, \"#f0f921\"]]}, \"colorway\": [\"#636efa\", \"#EF553B\", \"#00cc96\", \"#ab63fa\", \"#FFA15A\", \"#19d3f3\", \"#FF6692\", \"#B6E880\", \"#FF97FF\", \"#FECB52\"], \"font\": {\"color\": \"#2a3f5f\"}, \"geo\": {\"bgcolor\": \"white\", \"lakecolor\": \"white\", \"landcolor\": \"#E5ECF6\", \"showlakes\": true, \"showland\": true, \"subunitcolor\": \"white\"}, \"hoverlabel\": {\"align\": \"left\"}, \"hovermode\": \"closest\", \"mapbox\": {\"style\": \"light\"}, \"paper_bgcolor\": \"white\", \"plot_bgcolor\": \"#E5ECF6\", \"polar\": {\"angularaxis\": {\"gridcolor\": \"white\", \"linecolor\": \"white\", \"ticks\": \"\"}, \"bgcolor\": \"#E5ECF6\", \"radialaxis\": {\"gridcolor\": \"white\", \"linecolor\": \"white\", \"ticks\": \"\"}}, \"scene\": {\"xaxis\": {\"backgroundcolor\": \"#E5ECF6\", \"gridcolor\": \"white\", \"gridwidth\": 2, \"linecolor\": \"white\", \"showbackground\": true, \"ticks\": \"\", \"zerolinecolor\": \"white\"}, \"yaxis\": {\"backgroundcolor\": \"#E5ECF6\", \"gridcolor\": \"white\", \"gridwidth\": 2, \"linecolor\": \"white\", \"showbackground\": true, \"ticks\": \"\", \"zerolinecolor\": \"white\"}, \"zaxis\": {\"backgroundcolor\": \"#E5ECF6\", \"gridcolor\": \"white\", \"gridwidth\": 2, \"linecolor\": \"white\", \"showbackground\": true, \"ticks\": \"\", \"zerolinecolor\": \"white\"}}, \"shapedefaults\": {\"line\": {\"color\": \"#2a3f5f\"}}, \"ternary\": {\"aaxis\": {\"gridcolor\": \"white\", \"linecolor\": \"white\", \"ticks\": \"\"}, \"baxis\": {\"gridcolor\": \"white\", \"linecolor\": \"white\", \"ticks\": \"\"}, \"bgcolor\": \"#E5ECF6\", \"caxis\": {\"gridcolor\": \"white\", \"linecolor\": \"white\", \"ticks\": \"\"}}, \"title\": {\"x\": 0.05}, \"xaxis\": {\"automargin\": true, \"gridcolor\": \"white\", \"linecolor\": \"white\", \"ticks\": \"\", \"title\": {\"standoff\": 15}, \"zerolinecolor\": \"white\", \"zerolinewidth\": 2}, \"yaxis\": {\"automargin\": true, \"gridcolor\": \"white\", \"linecolor\": \"white\", \"ticks\": \"\", \"title\": {\"standoff\": 15}, \"zerolinecolor\": \"white\", \"zerolinewidth\": 2}}}, \"title\": {\"text\": \"G2 Esports vs Fnatic\"}},\n",
       "                        {\"responsive\": true}\n",
       "                    ).then(function(){\n",
       "                            \n",
       "var gd = document.getElementById('a891b224-04ab-4340-b653-35f6ee26ad8f');\n",
       "var x = new MutationObserver(function (mutations, observer) {{\n",
       "        var display = window.getComputedStyle(gd).display;\n",
       "        if (!display || display === 'none') {{\n",
       "            console.log([gd, 'removed!']);\n",
       "            Plotly.purge(gd);\n",
       "            observer.disconnect();\n",
       "        }}\n",
       "}});\n",
       "\n",
       "// Listen for the removal of the full notebook cells\n",
       "var notebookContainer = gd.closest('#notebook-container');\n",
       "if (notebookContainer) {{\n",
       "    x.observe(notebookContainer, {childList: true});\n",
       "}}\n",
       "\n",
       "// Listen for the clearing of the current output cell\n",
       "var outputEl = gd.closest('.output');\n",
       "if (outputEl) {{\n",
       "    x.observe(outputEl, {childList: true});\n",
       "}}\n",
       "\n",
       "                        })\n",
       "                };\n",
       "                });\n",
       "            </script>\n",
       "        </div>"
      ]
     },
     "metadata": {},
     "output_type": "display_data"
    }
   ],
   "source": [
    "teamvs_radar_graph('G2 Esports','Fnatic', color1='grey', color2='orange', teams=teams)\n",
    "#lo de teams no va bé"
   ]
  },
  {
   "cell_type": "code",
   "execution_count": 20,
   "metadata": {},
   "outputs": [],
   "source": [
    "\n",
    "\n",
    "#team_name = 'G2 Esports'\n",
    "#print('{} average game length on win : {} minutes'.format(team_name,data[(data.player.isna) & (data.team == team_name) & (data.result == 1)]['gamelength'].mean()))\n",
    "#print('{} average game length on lose : {} minutes'.format(team_name,data[(data.player.isna) & (data.team == team_name) & (data.result == 0)]['gamelength'].mean()))\n",
    "\n",
    "#team_name = 'Fnatic'\n",
    "#print('\\n{} average game length on win : {} minutes'.format(team_name,data[(data.player.isna) & (data.team == team_name) & (data.result == 1)]['gamelength'].mean()))\n",
    "#print('{} average game length on lose : {} minutes'.format(team_name,data[(data.player.isna) & (data.team == team_name) & (data.result == 0)]['gamelength'].mean()))\n",
    "\n"
   ]
  },
  {
   "cell_type": "code",
   "execution_count": 21,
   "metadata": {},
   "outputs": [
    {
     "name": "stdout",
     "output_type": "stream",
     "text": [
      "Number of different champions overall : 102\n"
     ]
    }
   ],
   "source": [
    "\n",
    "\n",
    "graph_data = data[(data.player != 'Team')]\n",
    "print('Number of different champions overall : {}'.format(len(graph_data['champion'].unique())))\n",
    "\n"
   ]
  },
  {
   "cell_type": "code",
   "execution_count": 22,
   "metadata": {},
   "outputs": [
    {
     "data": {
      "image/png": "[encoded data removed]",
      "text/plain": [
       "<Figure size 432x288 with 1 Axes>"
      ]
     },
     "metadata": {
      "needs_background": "light"
     },
     "output_type": "display_data"
    },
    {
     "name": "stdout",
     "output_type": "stream",
     "text": [
      "Number of different champions in AD Carry : 18\n"
     ]
    }
   ],
   "source": [
    "\n",
    "\n",
    "graph_data = data[(data.player != 'Team') & (data.position == 'bot')]\n",
    "sns.countplot(y=\"champion\",data=graph_data, order=graph_data['champion'].value_counts().index)\n",
    "plt.title('Champion pick rate in AD Carry')\n",
    "plt.show()\n",
    "\n",
    "print('Number of different champions in AD Carry : {}'.format(len(graph_data['champion'].unique())))\n",
    "\n"
   ]
  },
  {
   "cell_type": "code",
   "execution_count": 23,
   "metadata": {},
   "outputs": [],
   "source": [
    "champion_list = ['Aatrox', 'Elise', 'Qiyana', 'Senna', 'Nautilus', 'Ornn',\n",
    "       'Lee Sin', 'Mordekaiser', 'Aphelios', 'Braum', \"Rek'Sai\",\n",
    "       \"Vel'koz\", 'Cassiopeia', 'Miss Fortune', 'Leona', 'Irelia',\n",
    "       'Gragas', 'Gangplank', 'Jarvan IV', 'LeBlanc', 'Yasuo', 'Varus',\n",
    "       'Xayah', 'Swain', 'Diana', 'Rakan', 'Rumble', 'Zoe', 'Taliyah',\n",
    "       'Pantheon', 'Olaf', 'Vladimir', 'Tahm Kench', 'Gnar', 'Renekton',\n",
    "       'Ryze', 'Nocturne', 'Orianna', 'Tristana', 'Syndra', 'Sett',\n",
    "       'Azir', 'Soraka', 'Lucian', 'Thresh', 'Morgana', 'Camille',\n",
    "       'Ezreal', 'Rengar', 'Sylas', 'Bard', 'Urgot', \"Cho'gath\",\n",
    "       'Lissandra', 'Draven', \"Kai'Sa\", 'Veigar', 'Karthus', 'Yuumi',\n",
    "       'Sejuani', 'Kassadin', 'Singed', 'Sona', 'Ekko', 'Pyke', 'Viktor',\n",
    "       'Vayne', 'Nidalee', 'Kled', 'Zac', 'Kalista', 'Taric', 'Karma',\n",
    "       'Ziggs', 'Poppy', 'Kennen', 'Trundle', 'Corki', 'Akali', 'Lulu',\n",
    "       'Galio', 'Janna', 'Maokai', 'Blitzcrank', 'Jayce', 'Sion', 'Neeko',\n",
    "       'Malphite', 'Kindred', 'Jax', 'Evelynn', 'Graves', 'Jhin', 'Shen',\n",
    "       'Shyvana', 'Zed', 'Teemo', 'Quinn', 'Annie', 'Zilean', \"Kog'Maw\"]"
   ]
  },
  {
   "cell_type": "code",
   "execution_count": 24,
   "metadata": {},
   "outputs": [],
   "source": [
    "champion_names = data.champion.unique()\n",
    "champions = pd.DataFrame(data[(data.champion == 'Gnar')].mean())\n",
    "champions = champions.transpose()\n",
    "champions.rename(index={0:'Gnar'}, inplace=True)\n",
    "champion_app = data['champion']\n",
    "for champion in champion_names:\n",
    "    if champion !=  'Gnar':\n",
    "        p = pd.DataFrame((data[(data.champion == champion)].mean())).transpose()\n",
    "        p.rename(index={0: champion}, inplace=True)\n",
    "        champions = pd.concat([champions, p], sort=False)\n",
    "        for player in player_list:\n",
    "            p = pd.DataFrame((data[(data.player == player)].mean())).transpose()\n",
    "            p.rename(index={0: player}, inplace=True)\n",
    "            players = pd.concat([players, p], sort=False)\n",
    "        \n",
    "        \n",
    "        \n",
    "champions['Played'] = champion_app.value_counts()        \n",
    "champions_mean = pd.DataFrame(champions.mean()).transpose()\n",
    "champions_max = pd.DataFrame(champions.max()).transpose()\n",
    "champions_min = pd.DataFrame(champions.min()).transpose()\n",
    "champions_median = pd.DataFrame(champions.median()).transpose()\n",
    "\n",
    "# !!!!!!!!!!! stats provisionals, s'haurien d'adaptar per rol/team , etc\n",
    "labels = ['opp_csat15','csat15','monsterkills','monsterkillsownjungle','totalgold','earnedgold','wardsplaced','wpm']\n",
    "# update player positions as they had been lost\n",
    "\n",
    "for champion in champion_list:\n",
    "    if champion != 'Team':\n",
    "        champions.loc[champion, 'position'] = data[data.champion == champion].position.values[0]\n",
    "        champions.loc[champion, 'team'] = data[data.champion == champion].team.values[0]\n",
    "\n"
   ]
  },
  {
   "cell_type": "code",
   "execution_count": 25,
   "metadata": {},
   "outputs": [
    {
     "data": {
      "text/plain": [
       "Index(['game', 'patch', 'playerid', 'gamelength', 'result', 'kills', 'deaths',\n",
       "       'assists', 'teamkills', 'teamdeaths', 'doublekills', 'triplekills',\n",
       "       'quadrakills', 'pentakills', 'firstblood', 'firstbloodkill',\n",
       "       'firstbloodassist', 'firstbloodvictim', 'team kpm', 'ckpm',\n",
       "       'firstdragon', 'dragons', 'opp_dragons', 'elementaldrakes',\n",
       "       'opp_elementaldrakes', 'infernals', 'mountains', 'clouds', 'oceans',\n",
       "       'dragons (type unknown)', 'elders', 'opp_elders', 'heralds',\n",
       "       'opp_heralds', 'firstbaron', 'barons', 'opp_barons', 'firsttower',\n",
       "       'towers', 'opp_towers', 'firstmidtower', 'firsttothreetowers',\n",
       "       'inhibitors', 'opp_inhibitors', 'damagetochampions', 'dpm',\n",
       "       'damageshare', 'wardsplaced', 'wpm', 'wardskilled', 'wcpm',\n",
       "       'controlwardsbought', 'visionscore', 'vspm', 'totalgold', 'earnedgold',\n",
       "       'earned gpm', 'earnedgoldshare', 'goldspent', 'gspd', 'total cs',\n",
       "       'minionkills', 'monsterkills', 'monsterkillsownjungle',\n",
       "       'monsterkillsenemyjungle', 'cspm', 'goldat10', 'xpat10', 'csat10',\n",
       "       'opp_goldat10', 'opp_xpat10', 'opp_csat10', 'golddiffat10',\n",
       "       'xpdiffat10', 'csdiffat10', 'goldat15', 'xpat15', 'csat15',\n",
       "       'opp_goldat15', 'opp_xpat15', 'opp_csat15', 'golddiffat15',\n",
       "       'xpdiffat15', 'csdiffat15', 'gameid', 'url', 'league', 'split', 'date',\n",
       "       'side', 'position', 'player', 'team', 'champion', 'ban1', 'ban2',\n",
       "       'ban3', 'ban4', 'ban5', 'Played'],\n",
       "      dtype='object')"
      ]
     },
     "execution_count": 25,
     "metadata": {},
     "output_type": "execute_result"
    }
   ],
   "source": [
    "champions.columns"
   ]
  },
  {
   "cell_type": "markdown",
   "metadata": {},
   "source": [
    "## Clean some data! drop not meaningful rows or with NaN numbers and one invalid observation"
   ]
  },
  {
   "cell_type": "code",
   "execution_count": 26,
   "metadata": {},
   "outputs": [],
   "source": [
    "drop_list = ['game', 'patch', 'playerid', 'opp_dragons', 'elementaldrakes','opp_elementaldrakes', 'infernals', 'mountains', 'clouds', 'oceans','dragons (type unknown)', 'elders', 'opp_elders', 'heralds','opp_heralds', 'firstbaron', 'barons', 'opp_barons', 'firsttower','towers', 'opp_towers', 'firstmidtower', 'firsttothreetowers', 'inhibitors', 'opp_inhibitors','wardsplaced', 'wpm', 'wardskilled', 'wcpm', 'controlwardsbought', 'visionscore', 'vspm','goldspent', 'gspd', 'gameid', 'url', 'league', 'split', 'date', 'side','player', 'team', 'champion', 'ban1', 'ban2', 'ban3', 'ban4', 'ban5']\n",
    "champions =champions.drop(drop_list, axis=1)\n",
    "\n",
    "champions= champions[champions.position != 'Team']"
   ]
  },
  {
   "cell_type": "markdown",
   "metadata": {},
   "source": [
    "## Show champions played more than 3 times ordered by a certain variable"
   ]
  },
  {
   "cell_type": "code",
   "execution_count": 27,
   "metadata": {},
   "outputs": [
    {
     "data": {
      "text/html": [
       "<div>\n",
       "<style scoped>\n",
       "    .dataframe tbody tr th:only-of-type {\n",
       "        vertical-align: middle;\n",
       "    }\n",
       "\n",
       "    .dataframe tbody tr th {\n",
       "        vertical-align: top;\n",
       "    }\n",
       "\n",
       "    .dataframe thead th {\n",
       "        text-align: right;\n",
       "    }\n",
       "</style>\n",
       "<table border=\"1\" class=\"dataframe\">\n",
       "  <thead>\n",
       "    <tr style=\"text-align: right;\">\n",
       "      <th></th>\n",
       "      <th>gamelength</th>\n",
       "      <th>result</th>\n",
       "      <th>kills</th>\n",
       "      <th>deaths</th>\n",
       "      <th>assists</th>\n",
       "      <th>teamkills</th>\n",
       "      <th>teamdeaths</th>\n",
       "      <th>doublekills</th>\n",
       "      <th>triplekills</th>\n",
       "      <th>quadrakills</th>\n",
       "      <th>...</th>\n",
       "      <th>xpat15</th>\n",
       "      <th>csat15</th>\n",
       "      <th>opp_goldat15</th>\n",
       "      <th>opp_xpat15</th>\n",
       "      <th>opp_csat15</th>\n",
       "      <th>golddiffat15</th>\n",
       "      <th>xpdiffat15</th>\n",
       "      <th>csdiffat15</th>\n",
       "      <th>position</th>\n",
       "      <th>Played</th>\n",
       "    </tr>\n",
       "  </thead>\n",
       "  <tbody>\n",
       "    <tr>\n",
       "      <td>Kalista</td>\n",
       "      <td>1948.111111</td>\n",
       "      <td>0.777778</td>\n",
       "      <td>5.666667</td>\n",
       "      <td>2.222222</td>\n",
       "      <td>7.333333</td>\n",
       "      <td>19.111111</td>\n",
       "      <td>13.666667</td>\n",
       "      <td>0.888889</td>\n",
       "      <td>0.00</td>\n",
       "      <td>0.0</td>\n",
       "      <td>...</td>\n",
       "      <td>5892.750000</td>\n",
       "      <td>132.625000</td>\n",
       "      <td>5573.125000</td>\n",
       "      <td>5584.125000</td>\n",
       "      <td>124.375000</td>\n",
       "      <td>1055.750000</td>\n",
       "      <td>308.625000</td>\n",
       "      <td>8.250000</td>\n",
       "      <td>bot</td>\n",
       "      <td>9.0</td>\n",
       "    </tr>\n",
       "    <tr>\n",
       "      <td>Lucian</td>\n",
       "      <td>1995.750000</td>\n",
       "      <td>0.750000</td>\n",
       "      <td>6.000000</td>\n",
       "      <td>2.500000</td>\n",
       "      <td>5.500000</td>\n",
       "      <td>16.250000</td>\n",
       "      <td>11.750000</td>\n",
       "      <td>0.750000</td>\n",
       "      <td>0.25</td>\n",
       "      <td>0.0</td>\n",
       "      <td>...</td>\n",
       "      <td>7567.250000</td>\n",
       "      <td>144.750000</td>\n",
       "      <td>4676.500000</td>\n",
       "      <td>6525.250000</td>\n",
       "      <td>110.250000</td>\n",
       "      <td>1646.750000</td>\n",
       "      <td>1042.000000</td>\n",
       "      <td>34.500000</td>\n",
       "      <td>mid</td>\n",
       "      <td>4.0</td>\n",
       "    </tr>\n",
       "    <tr>\n",
       "      <td>Ziggs</td>\n",
       "      <td>1929.250000</td>\n",
       "      <td>0.250000</td>\n",
       "      <td>3.750000</td>\n",
       "      <td>5.000000</td>\n",
       "      <td>7.500000</td>\n",
       "      <td>16.500000</td>\n",
       "      <td>22.000000</td>\n",
       "      <td>0.000000</td>\n",
       "      <td>0.00</td>\n",
       "      <td>0.0</td>\n",
       "      <td>...</td>\n",
       "      <td>6053.000000</td>\n",
       "      <td>116.500000</td>\n",
       "      <td>5404.000000</td>\n",
       "      <td>6402.500000</td>\n",
       "      <td>105.500000</td>\n",
       "      <td>657.750000</td>\n",
       "      <td>-349.500000</td>\n",
       "      <td>11.000000</td>\n",
       "      <td>mid</td>\n",
       "      <td>4.0</td>\n",
       "    </tr>\n",
       "    <tr>\n",
       "      <td>Tristana</td>\n",
       "      <td>1988.571429</td>\n",
       "      <td>0.857143</td>\n",
       "      <td>4.714286</td>\n",
       "      <td>1.000000</td>\n",
       "      <td>5.857143</td>\n",
       "      <td>15.142857</td>\n",
       "      <td>8.428571</td>\n",
       "      <td>0.714286</td>\n",
       "      <td>0.00</td>\n",
       "      <td>0.0</td>\n",
       "      <td>...</td>\n",
       "      <td>7157.142857</td>\n",
       "      <td>139.857143</td>\n",
       "      <td>5171.285714</td>\n",
       "      <td>6947.142857</td>\n",
       "      <td>134.285714</td>\n",
       "      <td>846.857143</td>\n",
       "      <td>210.000000</td>\n",
       "      <td>5.571429</td>\n",
       "      <td>mid</td>\n",
       "      <td>7.0</td>\n",
       "    </tr>\n",
       "    <tr>\n",
       "      <td>Draven</td>\n",
       "      <td>2059.000000</td>\n",
       "      <td>0.200000</td>\n",
       "      <td>2.200000</td>\n",
       "      <td>2.000000</td>\n",
       "      <td>4.800000</td>\n",
       "      <td>9.000000</td>\n",
       "      <td>16.400000</td>\n",
       "      <td>0.000000</td>\n",
       "      <td>0.00</td>\n",
       "      <td>0.0</td>\n",
       "      <td>...</td>\n",
       "      <td>5503.800000</td>\n",
       "      <td>138.800000</td>\n",
       "      <td>6053.800000</td>\n",
       "      <td>5718.200000</td>\n",
       "      <td>129.200000</td>\n",
       "      <td>-40.200000</td>\n",
       "      <td>-214.400000</td>\n",
       "      <td>9.600000</td>\n",
       "      <td>bot</td>\n",
       "      <td>5.0</td>\n",
       "    </tr>\n",
       "    <tr>\n",
       "      <td>...</td>\n",
       "      <td>...</td>\n",
       "      <td>...</td>\n",
       "      <td>...</td>\n",
       "      <td>...</td>\n",
       "      <td>...</td>\n",
       "      <td>...</td>\n",
       "      <td>...</td>\n",
       "      <td>...</td>\n",
       "      <td>...</td>\n",
       "      <td>...</td>\n",
       "      <td>...</td>\n",
       "      <td>...</td>\n",
       "      <td>...</td>\n",
       "      <td>...</td>\n",
       "      <td>...</td>\n",
       "      <td>...</td>\n",
       "      <td>...</td>\n",
       "      <td>...</td>\n",
       "      <td>...</td>\n",
       "      <td>...</td>\n",
       "      <td>...</td>\n",
       "    </tr>\n",
       "    <tr>\n",
       "      <td>Tahm Kench</td>\n",
       "      <td>1991.576923</td>\n",
       "      <td>0.423077</td>\n",
       "      <td>0.500000</td>\n",
       "      <td>3.153846</td>\n",
       "      <td>5.692308</td>\n",
       "      <td>11.000000</td>\n",
       "      <td>13.692308</td>\n",
       "      <td>0.000000</td>\n",
       "      <td>0.00</td>\n",
       "      <td>0.0</td>\n",
       "      <td>...</td>\n",
       "      <td>4000.807692</td>\n",
       "      <td>28.884615</td>\n",
       "      <td>3463.923077</td>\n",
       "      <td>3888.192308</td>\n",
       "      <td>24.461538</td>\n",
       "      <td>-4.538462</td>\n",
       "      <td>112.615385</td>\n",
       "      <td>4.423077</td>\n",
       "      <td>sup</td>\n",
       "      <td>26.0</td>\n",
       "    </tr>\n",
       "    <tr>\n",
       "      <td>Braum</td>\n",
       "      <td>2090.421053</td>\n",
       "      <td>0.447368</td>\n",
       "      <td>0.447368</td>\n",
       "      <td>2.342105</td>\n",
       "      <td>7.578947</td>\n",
       "      <td>10.868421</td>\n",
       "      <td>11.736842</td>\n",
       "      <td>0.000000</td>\n",
       "      <td>0.00</td>\n",
       "      <td>0.0</td>\n",
       "      <td>...</td>\n",
       "      <td>3763.868421</td>\n",
       "      <td>20.052632</td>\n",
       "      <td>3360.368421</td>\n",
       "      <td>3696.842105</td>\n",
       "      <td>21.763158</td>\n",
       "      <td>-5.447368</td>\n",
       "      <td>67.026316</td>\n",
       "      <td>-1.710526</td>\n",
       "      <td>sup</td>\n",
       "      <td>38.0</td>\n",
       "    </tr>\n",
       "    <tr>\n",
       "      <td>Rakan</td>\n",
       "      <td>1992.870968</td>\n",
       "      <td>0.483871</td>\n",
       "      <td>0.935484</td>\n",
       "      <td>2.419355</td>\n",
       "      <td>8.161290</td>\n",
       "      <td>13.000000</td>\n",
       "      <td>12.483871</td>\n",
       "      <td>0.000000</td>\n",
       "      <td>0.00</td>\n",
       "      <td>0.0</td>\n",
       "      <td>...</td>\n",
       "      <td>3722.387097</td>\n",
       "      <td>19.645161</td>\n",
       "      <td>3449.322581</td>\n",
       "      <td>3920.451613</td>\n",
       "      <td>22.838710</td>\n",
       "      <td>-95.741935</td>\n",
       "      <td>-198.064516</td>\n",
       "      <td>-3.193548</td>\n",
       "      <td>sup</td>\n",
       "      <td>31.0</td>\n",
       "    </tr>\n",
       "    <tr>\n",
       "      <td>Yuumi</td>\n",
       "      <td>1906.846154</td>\n",
       "      <td>0.615385</td>\n",
       "      <td>0.461538</td>\n",
       "      <td>1.307692</td>\n",
       "      <td>9.538462</td>\n",
       "      <td>10.923077</td>\n",
       "      <td>10.615385</td>\n",
       "      <td>0.076923</td>\n",
       "      <td>0.00</td>\n",
       "      <td>0.0</td>\n",
       "      <td>...</td>\n",
       "      <td>4124.000000</td>\n",
       "      <td>8.076923</td>\n",
       "      <td>3824.461538</td>\n",
       "      <td>4041.153846</td>\n",
       "      <td>42.230769</td>\n",
       "      <td>-548.923077</td>\n",
       "      <td>82.846154</td>\n",
       "      <td>-34.153846</td>\n",
       "      <td>sup</td>\n",
       "      <td>13.0</td>\n",
       "    </tr>\n",
       "    <tr>\n",
       "      <td>Blitzcrank</td>\n",
       "      <td>1972.333333</td>\n",
       "      <td>0.333333</td>\n",
       "      <td>0.666667</td>\n",
       "      <td>5.333333</td>\n",
       "      <td>7.000000</td>\n",
       "      <td>13.333333</td>\n",
       "      <td>18.000000</td>\n",
       "      <td>0.000000</td>\n",
       "      <td>0.00</td>\n",
       "      <td>0.0</td>\n",
       "      <td>...</td>\n",
       "      <td>3305.000000</td>\n",
       "      <td>17.666667</td>\n",
       "      <td>3504.000000</td>\n",
       "      <td>3929.333333</td>\n",
       "      <td>19.666667</td>\n",
       "      <td>-396.000000</td>\n",
       "      <td>-624.333333</td>\n",
       "      <td>-2.000000</td>\n",
       "      <td>sup</td>\n",
       "      <td>3.0</td>\n",
       "    </tr>\n",
       "  </tbody>\n",
       "</table>\n",
       "<p>72 rows × 52 columns</p>\n",
       "</div>"
      ],
      "text/plain": [
       "             gamelength    result     kills    deaths   assists  teamkills  \\\n",
       "Kalista     1948.111111  0.777778  5.666667  2.222222  7.333333  19.111111   \n",
       "Lucian      1995.750000  0.750000  6.000000  2.500000  5.500000  16.250000   \n",
       "Ziggs       1929.250000  0.250000  3.750000  5.000000  7.500000  16.500000   \n",
       "Tristana    1988.571429  0.857143  4.714286  1.000000  5.857143  15.142857   \n",
       "Draven      2059.000000  0.200000  2.200000  2.000000  4.800000   9.000000   \n",
       "...                 ...       ...       ...       ...       ...        ...   \n",
       "Tahm Kench  1991.576923  0.423077  0.500000  3.153846  5.692308  11.000000   \n",
       "Braum       2090.421053  0.447368  0.447368  2.342105  7.578947  10.868421   \n",
       "Rakan       1992.870968  0.483871  0.935484  2.419355  8.161290  13.000000   \n",
       "Yuumi       1906.846154  0.615385  0.461538  1.307692  9.538462  10.923077   \n",
       "Blitzcrank  1972.333333  0.333333  0.666667  5.333333  7.000000  13.333333   \n",
       "\n",
       "            teamdeaths  doublekills  triplekills  quadrakills  ...  \\\n",
       "Kalista      13.666667     0.888889         0.00          0.0  ...   \n",
       "Lucian       11.750000     0.750000         0.25          0.0  ...   \n",
       "Ziggs        22.000000     0.000000         0.00          0.0  ...   \n",
       "Tristana      8.428571     0.714286         0.00          0.0  ...   \n",
       "Draven       16.400000     0.000000         0.00          0.0  ...   \n",
       "...                ...          ...          ...          ...  ...   \n",
       "Tahm Kench   13.692308     0.000000         0.00          0.0  ...   \n",
       "Braum        11.736842     0.000000         0.00          0.0  ...   \n",
       "Rakan        12.483871     0.000000         0.00          0.0  ...   \n",
       "Yuumi        10.615385     0.076923         0.00          0.0  ...   \n",
       "Blitzcrank   18.000000     0.000000         0.00          0.0  ...   \n",
       "\n",
       "                 xpat15      csat15  opp_goldat15   opp_xpat15  opp_csat15  \\\n",
       "Kalista     5892.750000  132.625000   5573.125000  5584.125000  124.375000   \n",
       "Lucian      7567.250000  144.750000   4676.500000  6525.250000  110.250000   \n",
       "Ziggs       6053.000000  116.500000   5404.000000  6402.500000  105.500000   \n",
       "Tristana    7157.142857  139.857143   5171.285714  6947.142857  134.285714   \n",
       "Draven      5503.800000  138.800000   6053.800000  5718.200000  129.200000   \n",
       "...                 ...         ...           ...          ...         ...   \n",
       "Tahm Kench  4000.807692   28.884615   3463.923077  3888.192308   24.461538   \n",
       "Braum       3763.868421   20.052632   3360.368421  3696.842105   21.763158   \n",
       "Rakan       3722.387097   19.645161   3449.322581  3920.451613   22.838710   \n",
       "Yuumi       4124.000000    8.076923   3824.461538  4041.153846   42.230769   \n",
       "Blitzcrank  3305.000000   17.666667   3504.000000  3929.333333   19.666667   \n",
       "\n",
       "            golddiffat15   xpdiffat15  csdiffat15  position  Played  \n",
       "Kalista      1055.750000   308.625000    8.250000       bot     9.0  \n",
       "Lucian       1646.750000  1042.000000   34.500000       mid     4.0  \n",
       "Ziggs         657.750000  -349.500000   11.000000       mid     4.0  \n",
       "Tristana      846.857143   210.000000    5.571429       mid     7.0  \n",
       "Draven        -40.200000  -214.400000    9.600000       bot     5.0  \n",
       "...                  ...          ...         ...       ...     ...  \n",
       "Tahm Kench     -4.538462   112.615385    4.423077       sup    26.0  \n",
       "Braum          -5.447368    67.026316   -1.710526       sup    38.0  \n",
       "Rakan         -95.741935  -198.064516   -3.193548       sup    31.0  \n",
       "Yuumi        -548.923077    82.846154  -34.153846       sup    13.0  \n",
       "Blitzcrank   -396.000000  -624.333333   -2.000000       sup     3.0  \n",
       "\n",
       "[72 rows x 52 columns]"
      ]
     },
     "execution_count": 27,
     "metadata": {},
     "output_type": "execute_result"
    }
   ],
   "source": [
    "played_3 =  champions['Played']>=3\n",
    "champions[played_3].sort_values(by=['goldat15'], ascending=False)\n"
   ]
  },
  {
   "cell_type": "markdown",
   "metadata": {},
   "source": [
    "## Function for comparing champions"
   ]
  },
  {
   "cell_type": "code",
   "execution_count": 28,
   "metadata": {},
   "outputs": [],
   "source": [
    "def vs_champion_radar_graph(champion_name1, champion_name2, color1='orange', color2='lightgray',title=None, players=players,role='ADC'):\n",
    "    champion_max = pd.DataFrame(champions[champions.position == role].max()).transpose()\n",
    "    \n",
    "    if not title:\n",
    "         title='{} vs {}'.format(champion_name1, champion_name2)\n",
    "    \n",
    "    x1 = pd.DataFrame(champions.loc[champion_name1, labels]).transpose()\n",
    "    x2 = pd.DataFrame(champions.loc[champion_name2, labels]).transpose()\n",
    "    # MEDIAN : x3 = pd.DataFrame(players[players.position == role].median()).transpose()\n",
    "    \n",
    "    \"\"\"\n",
    "        MEDIAN\n",
    "        go.Scatterpolar(\n",
    "      name = player_name2,\n",
    "      r = [(x3['wards'].values[0] / player_max['wards'].values[0]) * 100,(x3['dmgtochamps'].values[0] / player_max['dmgtochamps'].values[0]) * 100,100 * (x3['totalgold'].values[0] / player_max['totalgold'].values[0]),100 * (x3['k'].values[0] / player_max['k'].values[0]),100 * (x3['d'].values[0] / player_max['d'].values[0]),100 * (x3['a'].values[0] / player_max['a'].values[0]),100 * (x3[\"wards\"].values[0] / player_max['wards'].values[0])],\n",
    "      theta = ['Wards','Damages to champs', 'Total gold','Kills','Deaths','Assists','Wards'],\n",
    "      fill = 'toself',\n",
    "         line =  dict(\n",
    "                color = 'black'\n",
    "            )\n",
    "        ),\n",
    "        \n",
    "    add as 1st element in array below if you want\n",
    "    \"\"\"\n",
    "   \n",
    "    \n",
    "    data = [go.Scatterpolar(\n",
    "      name = champion_name1,\n",
    "      r = [(x1['opp_csat15'].values[0] / player_max['opp_csat15'].values[0]) * 100,(x1['csat15'].values[0] / player_max['csat15'].values[0]) * 100,100 * (x1['monsterkills'].values[0] / player_max['monsterkills'].values[0]),100 * (x1['monsterkillsownjungle'].values[0] / player_max['monsterkillsownjungle'].values[0]),100 * (x1['totalgold'].values[0] / player_max['totalgold'].values[0]),100 * (x1['earnedgold'].values[0] / player_max['earnedgold'].values[0]),100 * (x1[\"wardsplaced\"].values[0] / player_max['wardsplaced'].values[0]),100 * (x1[\"wpm\"].values[0] / player_max['wpm'].values[0])],\n",
    "      #theta =['First Blood', 'Game length', 'Kills', 'Deaths', 'Damages to champs','Total gold','First Baron','Herald','First tower','First mid outer tower','First to three towers','Gold difference at 15', 'First Blood'],\n",
    "      theta = ['opp_csat15','csat15','monsterkills','monsterkillsownjungle','totalgold','earnedgold','wardsplaced','wpm'],\n",
    "      fill = 'toself',\n",
    "         line =  dict(\n",
    "                color = color1\n",
    "            )\n",
    "    ),\n",
    "           \n",
    "    go.Scatterpolar(\n",
    "      name = champion_name2,\n",
    "      r = [(x2['opp_csat15'].values[0] / player_max['opp_csat15'].values[0]) * 100,(x2['csat15'].values[0] / player_max['csat15'].values[0]) * 100,100 * (x2['monsterkills'].values[0] / player_max['monsterkills'].values[0]),100 * (x2['monsterkillsownjungle'].values[0] / player_max['monsterkillsownjungle'].values[0]),100 * (x2['totalgold'].values[0] / player_max['totalgold'].values[0]),100 * (x2['earnedgold'].values[0] / player_max['earnedgold'].values[0]),100 * (x2[\"wardsplaced\"].values[0] / player_max['wardsplaced'].values[0]),100 * (x2[\"wpm\"].values[0] / player_max['wpm'].values[0])],\n",
    "      #theta =['First Blood', 'Game length', 'Kills', 'Deaths', 'Damages to champs','Total gold','First Baron','Herald','First tower','First mid outer tower','First to three towers','Gold difference at 15', 'First Blood'],\n",
    "      theta = ['opp_csat15','csat15','monsterkills','monsterkillsownjungle','totalgold','earnedgold','wardsplaced','wpm'],\n",
    "      fill = 'toself',\n",
    "         line =  dict(\n",
    "                color = color2\n",
    "            )\n",
    "    )\n",
    "           \n",
    "    ]\n",
    "\n",
    "    layout = go.Layout(\n",
    "      polar = dict(\n",
    "        radialaxis = dict(\n",
    "          visible = True,\n",
    "          range = [0, 100]\n",
    "        )\n",
    "      ),\n",
    "      showlegend = False,\n",
    "      title = \"{}\".format(title)\n",
    "    )\n",
    "    fig = go.Figure(data=data, layout=layout)\n",
    "    \n",
    "\n",
    "    return iplot(fig, filename = \"Radar\")\n"
   ]
  },
  {
   "cell_type": "code",
   "execution_count": 29,
   "metadata": {},
   "outputs": [
    {
     "data": {
      "application/vnd.plotly.v1+json": {
       "config": {
        "linkText": "Export to plot.ly",
        "plotlyServerURL": "https://plot.ly",
        "showLink": false
       },
       "data": [
        {
         "fill": "toself",
         "line": {
          "color": "blue"
         },
         "name": "Ezreal",
         "r": [
          81.86621785588477,
          92.86215899882957,
          17.995391705069128,
          20.65415549597855,
          88.50134948595917,
          88.41144814451177,
          null,
          null
         ],
         "theta": [
          "opp_csat15",
          "csat15",
          "monsterkills",
          "monsterkillsownjungle",
          "totalgold",
          "earnedgold",
          "wardsplaced",
          "wpm"
         ],
         "type": "scatterpolar"
        },
        {
         "fill": "toself",
         "line": {
          "color": "black"
         },
         "name": "Miss Fortune",
         "r": [
          91.82746878547105,
          91.10748476936466,
          26.12327188940092,
          25.375335120643435,
          93.00057172878424,
          93.67668662291548,
          null,
          null
         ],
         "theta": [
          "opp_csat15",
          "csat15",
          "monsterkills",
          "monsterkillsownjungle",
          "totalgold",
          "earnedgold",
          "wardsplaced",
          "wpm"
         ],
         "type": "scatterpolar"
        }
       ],
       "layout": {
        "polar": {
         "radialaxis": {
          "range": [
           0,
           100
          ],
          "visible": true
         }
        },
        "showlegend": false,
        "template": {
         "data": {
          "bar": [
           {
            "error_x": {
             "color": "#2a3f5f"
            },
            "error_y": {
             "color": "#2a3f5f"
            },
            "marker": {
             "line": {
              "color": "#E5ECF6",
              "width": 0.5
             }
            },
            "type": "bar"
           }
          ],
          "barpolar": [
           {
            "marker": {
             "line": {
              "color": "#E5ECF6",
              "width": 0.5
             }
            },
            "type": "barpolar"
           }
          ],
          "carpet": [
           {
            "aaxis": {
             "endlinecolor": "#2a3f5f",
             "gridcolor": "white",
             "linecolor": "white",
             "minorgridcolor": "white",
             "startlinecolor": "#2a3f5f"
            },
            "baxis": {
             "endlinecolor": "#2a3f5f",
             "gridcolor": "white",
             "linecolor": "white",
             "minorgridcolor": "white",
             "startlinecolor": "#2a3f5f"
            },
            "type": "carpet"
           }
          ],
          "choropleth": [
           {
            "colorbar": {
             "outlinewidth": 0,
             "ticks": ""
            },
            "type": "choropleth"
           }
          ],
          "contour": [
           {
            "colorbar": {
             "outlinewidth": 0,
             "ticks": ""
            },
            "colorscale": [
             [
              0,
              "#0d0887"
             ],
             [
              0.1111111111111111,
              "#46039f"
             ],
             [
              0.2222222222222222,
              "#7201a8"
             ],
             [
              0.3333333333333333,
              "#9c179e"
             ],
             [
              0.4444444444444444,
              "#bd3786"
             ],
             [
              0.5555555555555556,
              "#d8576b"
             ],
             [
              0.6666666666666666,
              "#ed7953"
             ],
             [
              0.7777777777777778,
              "#fb9f3a"
             ],
             [
              0.8888888888888888,
              "#fdca26"
             ],
             [
              1,
              "#f0f921"
             ]
            ],
            "type": "contour"
           }
          ],
          "contourcarpet": [
           {
            "colorbar": {
             "outlinewidth": 0,
             "ticks": ""
            },
            "type": "contourcarpet"
           }
          ],
          "heatmap": [
           {
            "colorbar": {
             "outlinewidth": 0,
             "ticks": ""
            },
            "colorscale": [
             [
              0,
              "#0d0887"
             ],
             [
              0.1111111111111111,
              "#46039f"
             ],
             [
              0.2222222222222222,
              "#7201a8"
             ],
             [
              0.3333333333333333,
              "#9c179e"
             ],
             [
              0.4444444444444444,
              "#bd3786"
             ],
             [
              0.5555555555555556,
              "#d8576b"
             ],
             [
              0.6666666666666666,
              "#ed7953"
             ],
             [
              0.7777777777777778,
              "#fb9f3a"
             ],
             [
              0.8888888888888888,
              "#fdca26"
             ],
             [
              1,
              "#f0f921"
             ]
            ],
            "type": "heatmap"
           }
          ],
          "heatmapgl": [
           {
            "colorbar": {
             "outlinewidth": 0,
             "ticks": ""
            },
            "colorscale": [
             [
              0,
              "#0d0887"
             ],
             [
              0.1111111111111111,
              "#46039f"
             ],
             [
              0.2222222222222222,
              "#7201a8"
             ],
             [
              0.3333333333333333,
              "#9c179e"
             ],
             [
              0.4444444444444444,
              "#bd3786"
             ],
             [
              0.5555555555555556,
              "#d8576b"
             ],
             [
              0.6666666666666666,
              "#ed7953"
             ],
             [
              0.7777777777777778,
              "#fb9f3a"
             ],
             [
              0.8888888888888888,
              "#fdca26"
             ],
             [
              1,
              "#f0f921"
             ]
            ],
            "type": "heatmapgl"
           }
          ],
          "histogram": [
           {
            "marker": {
             "colorbar": {
              "outlinewidth": 0,
              "ticks": ""
             }
            },
            "type": "histogram"
           }
          ],
          "histogram2d": [
           {
            "colorbar": {
             "outlinewidth": 0,
             "ticks": ""
            },
            "colorscale": [
             [
              0,
              "#0d0887"
             ],
             [
              0.1111111111111111,
              "#46039f"
             ],
             [
              0.2222222222222222,
              "#7201a8"
             ],
             [
              0.3333333333333333,
              "#9c179e"
             ],
             [
              0.4444444444444444,
              "#bd3786"
             ],
             [
              0.5555555555555556,
              "#d8576b"
             ],
             [
              0.6666666666666666,
              "#ed7953"
             ],
             [
              0.7777777777777778,
              "#fb9f3a"
             ],
             [
              0.8888888888888888,
              "#fdca26"
             ],
             [
              1,
              "#f0f921"
             ]
            ],
            "type": "histogram2d"
           }
          ],
          "histogram2dcontour": [
           {
            "colorbar": {
             "outlinewidth": 0,
             "ticks": ""
            },
            "colorscale": [
             [
              0,
              "#0d0887"
             ],
             [
              0.1111111111111111,
              "#46039f"
             ],
             [
              0.2222222222222222,
              "#7201a8"
             ],
             [
              0.3333333333333333,
              "#9c179e"
             ],
             [
              0.4444444444444444,
              "#bd3786"
             ],
             [
              0.5555555555555556,
              "#d8576b"
             ],
             [
              0.6666666666666666,
              "#ed7953"
             ],
             [
              0.7777777777777778,
              "#fb9f3a"
             ],
             [
              0.8888888888888888,
              "#fdca26"
             ],
             [
              1,
              "#f0f921"
             ]
            ],
            "type": "histogram2dcontour"
           }
          ],
          "mesh3d": [
           {
            "colorbar": {
             "outlinewidth": 0,
             "ticks": ""
            },
            "type": "mesh3d"
           }
          ],
          "parcoords": [
           {
            "line": {
             "colorbar": {
              "outlinewidth": 0,
              "ticks": ""
             }
            },
            "type": "parcoords"
           }
          ],
          "pie": [
           {
            "automargin": true,
            "type": "pie"
           }
          ],
          "scatter": [
           {
            "marker": {
             "colorbar": {
              "outlinewidth": 0,
              "ticks": ""
             }
            },
            "type": "scatter"
           }
          ],
          "scatter3d": [
           {
            "line": {
             "colorbar": {
              "outlinewidth": 0,
              "ticks": ""
             }
            },
            "marker": {
             "colorbar": {
              "outlinewidth": 0,
              "ticks": ""
             }
            },
            "type": "scatter3d"
           }
          ],
          "scattercarpet": [
           {
            "marker": {
             "colorbar": {
              "outlinewidth": 0,
              "ticks": ""
             }
            },
            "type": "scattercarpet"
           }
          ],
          "scattergeo": [
           {
            "marker": {
             "colorbar": {
              "outlinewidth": 0,
              "ticks": ""
             }
            },
            "type": "scattergeo"
           }
          ],
          "scattergl": [
           {
            "marker": {
             "colorbar": {
              "outlinewidth": 0,
              "ticks": ""
             }
            },
            "type": "scattergl"
           }
          ],
          "scattermapbox": [
           {
            "marker": {
             "colorbar": {
              "outlinewidth": 0,
              "ticks": ""
             }
            },
            "type": "scattermapbox"
           }
          ],
          "scatterpolar": [
           {
            "marker": {
             "colorbar": {
              "outlinewidth": 0,
              "ticks": ""
             }
            },
            "type": "scatterpolar"
           }
          ],
          "scatterpolargl": [
           {
            "marker": {
             "colorbar": {
              "outlinewidth": 0,
              "ticks": ""
             }
            },
            "type": "scatterpolargl"
           }
          ],
          "scatterternary": [
           {
            "marker": {
             "colorbar": {
              "outlinewidth": 0,
              "ticks": ""
             }
            },
            "type": "scatterternary"
           }
          ],
          "surface": [
           {
            "colorbar": {
             "outlinewidth": 0,
             "ticks": ""
            },
            "colorscale": [
             [
              0,
              "#0d0887"
             ],
             [
              0.1111111111111111,
              "#46039f"
             ],
             [
              0.2222222222222222,
              "#7201a8"
             ],
             [
              0.3333333333333333,
              "#9c179e"
             ],
             [
              0.4444444444444444,
              "#bd3786"
             ],
             [
              0.5555555555555556,
              "#d8576b"
             ],
             [
              0.6666666666666666,
              "#ed7953"
             ],
             [
              0.7777777777777778,
              "#fb9f3a"
             ],
             [
              0.8888888888888888,
              "#fdca26"
             ],
             [
              1,
              "#f0f921"
             ]
            ],
            "type": "surface"
           }
          ],
          "table": [
           {
            "cells": {
             "fill": {
              "color": "#EBF0F8"
             },
             "line": {
              "color": "white"
             }
            },
            "header": {
             "fill": {
              "color": "#C8D4E3"
             },
             "line": {
              "color": "white"
             }
            },
            "type": "table"
           }
          ]
         },
         "layout": {
          "annotationdefaults": {
           "arrowcolor": "#2a3f5f",
           "arrowhead": 0,
           "arrowwidth": 1
          },
          "coloraxis": {
           "colorbar": {
            "outlinewidth": 0,
            "ticks": ""
           }
          },
          "colorscale": {
           "diverging": [
            [
             0,
             "#8e0152"
            ],
            [
             0.1,
             "#c51b7d"
            ],
            [
             0.2,
             "#de77ae"
            ],
            [
             0.3,
             "#f1b6da"
            ],
            [
             0.4,
             "#fde0ef"
            ],
            [
             0.5,
             "#f7f7f7"
            ],
            [
             0.6,
             "#e6f5d0"
            ],
            [
             0.7,
             "#b8e186"
            ],
            [
             0.8,
             "#7fbc41"
            ],
            [
             0.9,
             "#4d9221"
            ],
            [
             1,
             "#276419"
            ]
           ],
           "sequential": [
            [
             0,
             "#0d0887"
            ],
            [
             0.1111111111111111,
             "#46039f"
            ],
            [
             0.2222222222222222,
             "#7201a8"
            ],
            [
             0.3333333333333333,
             "#9c179e"
            ],
            [
             0.4444444444444444,
             "#bd3786"
            ],
            [
             0.5555555555555556,
             "#d8576b"
            ],
            [
             0.6666666666666666,
             "#ed7953"
            ],
            [
             0.7777777777777778,
             "#fb9f3a"
            ],
            [
             0.8888888888888888,
             "#fdca26"
            ],
            [
             1,
             "#f0f921"
            ]
           ],
           "sequentialminus": [
            [
             0,
             "#0d0887"
            ],
            [
             0.1111111111111111,
             "#46039f"
            ],
            [
             0.2222222222222222,
             "#7201a8"
            ],
            [
             0.3333333333333333,
             "#9c179e"
            ],
            [
             0.4444444444444444,
             "#bd3786"
            ],
            [
             0.5555555555555556,
             "#d8576b"
            ],
            [
             0.6666666666666666,
             "#ed7953"
            ],
            [
             0.7777777777777778,
             "#fb9f3a"
            ],
            [
             0.8888888888888888,
             "#fdca26"
            ],
            [
             1,
             "#f0f921"
            ]
           ]
          },
          "colorway": [
           "#636efa",
           "#EF553B",
           "#00cc96",
           "#ab63fa",
           "#FFA15A",
           "#19d3f3",
           "#FF6692",
           "#B6E880",
           "#FF97FF",
           "#FECB52"
          ],
          "font": {
           "color": "#2a3f5f"
          },
          "geo": {
           "bgcolor": "white",
           "lakecolor": "white",
           "landcolor": "#E5ECF6",
           "showlakes": true,
           "showland": true,
           "subunitcolor": "white"
          },
          "hoverlabel": {
           "align": "left"
          },
          "hovermode": "closest",
          "mapbox": {
           "style": "light"
          },
          "paper_bgcolor": "white",
          "plot_bgcolor": "#E5ECF6",
          "polar": {
           "angularaxis": {
            "gridcolor": "white",
            "linecolor": "white",
            "ticks": ""
           },
           "bgcolor": "#E5ECF6",
           "radialaxis": {
            "gridcolor": "white",
            "linecolor": "white",
            "ticks": ""
           }
          },
          "scene": {
           "xaxis": {
            "backgroundcolor": "#E5ECF6",
            "gridcolor": "white",
            "gridwidth": 2,
            "linecolor": "white",
            "showbackground": true,
            "ticks": "",
            "zerolinecolor": "white"
           },
           "yaxis": {
            "backgroundcolor": "#E5ECF6",
            "gridcolor": "white",
            "gridwidth": 2,
            "linecolor": "white",
            "showbackground": true,
            "ticks": "",
            "zerolinecolor": "white"
           },
           "zaxis": {
            "backgroundcolor": "#E5ECF6",
            "gridcolor": "white",
            "gridwidth": 2,
            "linecolor": "white",
            "showbackground": true,
            "ticks": "",
            "zerolinecolor": "white"
           }
          },
          "shapedefaults": {
           "line": {
            "color": "#2a3f5f"
           }
          },
          "ternary": {
           "aaxis": {
            "gridcolor": "white",
            "linecolor": "white",
            "ticks": ""
           },
           "baxis": {
            "gridcolor": "white",
            "linecolor": "white",
            "ticks": ""
           },
           "bgcolor": "#E5ECF6",
           "caxis": {
            "gridcolor": "white",
            "linecolor": "white",
            "ticks": ""
           }
          },
          "title": {
           "x": 0.05
          },
          "xaxis": {
           "automargin": true,
           "gridcolor": "white",
           "linecolor": "white",
           "ticks": "",
           "title": {
            "standoff": 15
           },
           "zerolinecolor": "white",
           "zerolinewidth": 2
          },
          "yaxis": {
           "automargin": true,
           "gridcolor": "white",
           "linecolor": "white",
           "ticks": "",
           "title": {
            "standoff": 15
           },
           "zerolinecolor": "white",
           "zerolinewidth": 2
          }
         }
        },
        "title": {
         "text": "Ezreal vs Miss Fortune"
        }
       }
      },
      "text/html": [
       "<div>\n",
       "        \n",
       "        \n",
       "            <div id=\"9fbfb878-522a-4672-a308-9adc0d1aa316\" class=\"plotly-graph-div\" style=\"height:525px; width:100%;\"></div>\n",
       "            <script type=\"text/javascript\">\n",
       "                require([\"plotly\"], function(Plotly) {\n",
       "                    window.PLOTLYENV=window.PLOTLYENV || {};\n",
       "                    \n",
       "                if (document.getElementById(\"9fbfb878-522a-4672-a308-9adc0d1aa316\")) {\n",
       "                    Plotly.newPlot(\n",
       "                        '9fbfb878-522a-4672-a308-9adc0d1aa316',\n",
       "                        [{\"fill\": \"toself\", \"line\": {\"color\": \"blue\"}, \"name\": \"Ezreal\", \"r\": [81.86621785588477, 92.86215899882957, 17.995391705069128, 20.65415549597855, 88.50134948595917, 88.41144814451177, null, null], \"theta\": [\"opp_csat15\", \"csat15\", \"monsterkills\", \"monsterkillsownjungle\", \"totalgold\", \"earnedgold\", \"wardsplaced\", \"wpm\"], \"type\": \"scatterpolar\"}, {\"fill\": \"toself\", \"line\": {\"color\": \"black\"}, \"name\": \"Miss Fortune\", \"r\": [91.82746878547105, 91.10748476936466, 26.12327188940092, 25.375335120643435, 93.00057172878424, 93.67668662291548, null, null], \"theta\": [\"opp_csat15\", \"csat15\", \"monsterkills\", \"monsterkillsownjungle\", \"totalgold\", \"earnedgold\", \"wardsplaced\", \"wpm\"], \"type\": \"scatterpolar\"}],\n",
       "                        {\"polar\": {\"radialaxis\": {\"range\": [0, 100], \"visible\": true}}, \"showlegend\": false, \"template\": {\"data\": {\"bar\": [{\"error_x\": {\"color\": \"#2a3f5f\"}, \"error_y\": {\"color\": \"#2a3f5f\"}, \"marker\": {\"line\": {\"color\": \"#E5ECF6\", \"width\": 0.5}}, \"type\": \"bar\"}], \"barpolar\": [{\"marker\": {\"line\": {\"color\": \"#E5ECF6\", \"width\": 0.5}}, \"type\": \"barpolar\"}], \"carpet\": [{\"aaxis\": {\"endlinecolor\": \"#2a3f5f\", \"gridcolor\": \"white\", \"linecolor\": \"white\", \"minorgridcolor\": \"white\", \"startlinecolor\": \"#2a3f5f\"}, \"baxis\": {\"endlinecolor\": \"#2a3f5f\", \"gridcolor\": \"white\", \"linecolor\": \"white\", \"minorgridcolor\": \"white\", \"startlinecolor\": \"#2a3f5f\"}, \"type\": \"carpet\"}], \"choropleth\": [{\"colorbar\": {\"outlinewidth\": 0, \"ticks\": \"\"}, \"type\": \"choropleth\"}], \"contour\": [{\"colorbar\": {\"outlinewidth\": 0, \"ticks\": \"\"}, \"colorscale\": [[0.0, \"#0d0887\"], [0.1111111111111111, \"#46039f\"], [0.2222222222222222, \"#7201a8\"], [0.3333333333333333, \"#9c179e\"], [0.4444444444444444, \"#bd3786\"], [0.5555555555555556, \"#d8576b\"], [0.6666666666666666, \"#ed7953\"], [0.7777777777777778, \"#fb9f3a\"], [0.8888888888888888, \"#fdca26\"], [1.0, \"#f0f921\"]], \"type\": \"contour\"}], \"contourcarpet\": [{\"colorbar\": {\"outlinewidth\": 0, \"ticks\": \"\"}, \"type\": \"contourcarpet\"}], \"heatmap\": [{\"colorbar\": {\"outlinewidth\": 0, \"ticks\": \"\"}, \"colorscale\": [[0.0, \"#0d0887\"], [0.1111111111111111, \"#46039f\"], [0.2222222222222222, \"#7201a8\"], [0.3333333333333333, \"#9c179e\"], [0.4444444444444444, \"#bd3786\"], [0.5555555555555556, \"#d8576b\"], [0.6666666666666666, \"#ed7953\"], [0.7777777777777778, \"#fb9f3a\"], [0.8888888888888888, \"#fdca26\"], [1.0, \"#f0f921\"]], \"type\": \"heatmap\"}], \"heatmapgl\": [{\"colorbar\": {\"outlinewidth\": 0, \"ticks\": \"\"}, \"colorscale\": [[0.0, \"#0d0887\"], [0.1111111111111111, \"#46039f\"], [0.2222222222222222, \"#7201a8\"], [0.3333333333333333, \"#9c179e\"], [0.4444444444444444, \"#bd3786\"], [0.5555555555555556, \"#d8576b\"], [0.6666666666666666, \"#ed7953\"], [0.7777777777777778, \"#fb9f3a\"], [0.8888888888888888, \"#fdca26\"], [1.0, \"#f0f921\"]], \"type\": \"heatmapgl\"}], \"histogram\": [{\"marker\": {\"colorbar\": {\"outlinewidth\": 0, \"ticks\": \"\"}}, \"type\": \"histogram\"}], \"histogram2d\": [{\"colorbar\": {\"outlinewidth\": 0, \"ticks\": \"\"}, \"colorscale\": [[0.0, \"#0d0887\"], [0.1111111111111111, \"#46039f\"], [0.2222222222222222, \"#7201a8\"], [0.3333333333333333, \"#9c179e\"], [0.4444444444444444, \"#bd3786\"], [0.5555555555555556, \"#d8576b\"], [0.6666666666666666, \"#ed7953\"], [0.7777777777777778, \"#fb9f3a\"], [0.8888888888888888, \"#fdca26\"], [1.0, \"#f0f921\"]], \"type\": \"histogram2d\"}], \"histogram2dcontour\": [{\"colorbar\": {\"outlinewidth\": 0, \"ticks\": \"\"}, \"colorscale\": [[0.0, \"#0d0887\"], [0.1111111111111111, \"#46039f\"], [0.2222222222222222, \"#7201a8\"], [0.3333333333333333, \"#9c179e\"], [0.4444444444444444, \"#bd3786\"], [0.5555555555555556, \"#d8576b\"], [0.6666666666666666, \"#ed7953\"], [0.7777777777777778, \"#fb9f3a\"], [0.8888888888888888, \"#fdca26\"], [1.0, \"#f0f921\"]], \"type\": \"histogram2dcontour\"}], \"mesh3d\": [{\"colorbar\": {\"outlinewidth\": 0, \"ticks\": \"\"}, \"type\": \"mesh3d\"}], \"parcoords\": [{\"line\": {\"colorbar\": {\"outlinewidth\": 0, \"ticks\": \"\"}}, \"type\": \"parcoords\"}], \"pie\": [{\"automargin\": true, \"type\": \"pie\"}], \"scatter\": [{\"marker\": {\"colorbar\": {\"outlinewidth\": 0, \"ticks\": \"\"}}, \"type\": \"scatter\"}], \"scatter3d\": [{\"line\": {\"colorbar\": {\"outlinewidth\": 0, \"ticks\": \"\"}}, \"marker\": {\"colorbar\": {\"outlinewidth\": 0, \"ticks\": \"\"}}, \"type\": \"scatter3d\"}], \"scattercarpet\": [{\"marker\": {\"colorbar\": {\"outlinewidth\": 0, \"ticks\": \"\"}}, \"type\": \"scattercarpet\"}], \"scattergeo\": [{\"marker\": {\"colorbar\": {\"outlinewidth\": 0, \"ticks\": \"\"}}, \"type\": \"scattergeo\"}], \"scattergl\": [{\"marker\": {\"colorbar\": {\"outlinewidth\": 0, \"ticks\": \"\"}}, \"type\": \"scattergl\"}], \"scattermapbox\": [{\"marker\": {\"colorbar\": {\"outlinewidth\": 0, \"ticks\": \"\"}}, \"type\": \"scattermapbox\"}], \"scatterpolar\": [{\"marker\": {\"colorbar\": {\"outlinewidth\": 0, \"ticks\": \"\"}}, \"type\": \"scatterpolar\"}], \"scatterpolargl\": [{\"marker\": {\"colorbar\": {\"outlinewidth\": 0, \"ticks\": \"\"}}, \"type\": \"scatterpolargl\"}], \"scatterternary\": [{\"marker\": {\"colorbar\": {\"outlinewidth\": 0, \"ticks\": \"\"}}, \"type\": \"scatterternary\"}], \"surface\": [{\"colorbar\": {\"outlinewidth\": 0, \"ticks\": \"\"}, \"colorscale\": [[0.0, \"#0d0887\"], [0.1111111111111111, \"#46039f\"], [0.2222222222222222, \"#7201a8\"], [0.3333333333333333, \"#9c179e\"], [0.4444444444444444, \"#bd3786\"], [0.5555555555555556, \"#d8576b\"], [0.6666666666666666, \"#ed7953\"], [0.7777777777777778, \"#fb9f3a\"], [0.8888888888888888, \"#fdca26\"], [1.0, \"#f0f921\"]], \"type\": \"surface\"}], \"table\": [{\"cells\": {\"fill\": {\"color\": \"#EBF0F8\"}, \"line\": {\"color\": \"white\"}}, \"header\": {\"fill\": {\"color\": \"#C8D4E3\"}, \"line\": {\"color\": \"white\"}}, \"type\": \"table\"}]}, \"layout\": {\"annotationdefaults\": {\"arrowcolor\": \"#2a3f5f\", \"arrowhead\": 0, \"arrowwidth\": 1}, \"coloraxis\": {\"colorbar\": {\"outlinewidth\": 0, \"ticks\": \"\"}}, \"colorscale\": {\"diverging\": [[0, \"#8e0152\"], [0.1, \"#c51b7d\"], [0.2, \"#de77ae\"], [0.3, \"#f1b6da\"], [0.4, \"#fde0ef\"], [0.5, \"#f7f7f7\"], [0.6, \"#e6f5d0\"], [0.7, \"#b8e186\"], [0.8, \"#7fbc41\"], [0.9, \"#4d9221\"], [1, \"#276419\"]], \"sequential\": [[0.0, \"#0d0887\"], [0.1111111111111111, \"#46039f\"], [0.2222222222222222, \"#7201a8\"], [0.3333333333333333, \"#9c179e\"], [0.4444444444444444, \"#bd3786\"], [0.5555555555555556, \"#d8576b\"], [0.6666666666666666, \"#ed7953\"], [0.7777777777777778, \"#fb9f3a\"], [0.8888888888888888, \"#fdca26\"], [1.0, \"#f0f921\"]], \"sequentialminus\": [[0.0, \"#0d0887\"], [0.1111111111111111, \"#46039f\"], [0.2222222222222222, \"#7201a8\"], [0.3333333333333333, \"#9c179e\"], [0.4444444444444444, \"#bd3786\"], [0.5555555555555556, \"#d8576b\"], [0.6666666666666666, \"#ed7953\"], [0.7777777777777778, \"#fb9f3a\"], [0.8888888888888888, \"#fdca26\"], [1.0, \"#f0f921\"]]}, \"colorway\": [\"#636efa\", \"#EF553B\", \"#00cc96\", \"#ab63fa\", \"#FFA15A\", \"#19d3f3\", \"#FF6692\", \"#B6E880\", \"#FF97FF\", \"#FECB52\"], \"font\": {\"color\": \"#2a3f5f\"}, \"geo\": {\"bgcolor\": \"white\", \"lakecolor\": \"white\", \"landcolor\": \"#E5ECF6\", \"showlakes\": true, \"showland\": true, \"subunitcolor\": \"white\"}, \"hoverlabel\": {\"align\": \"left\"}, \"hovermode\": \"closest\", \"mapbox\": {\"style\": \"light\"}, \"paper_bgcolor\": \"white\", \"plot_bgcolor\": \"#E5ECF6\", \"polar\": {\"angularaxis\": {\"gridcolor\": \"white\", \"linecolor\": \"white\", \"ticks\": \"\"}, \"bgcolor\": \"#E5ECF6\", \"radialaxis\": {\"gridcolor\": \"white\", \"linecolor\": \"white\", \"ticks\": \"\"}}, \"scene\": {\"xaxis\": {\"backgroundcolor\": \"#E5ECF6\", \"gridcolor\": \"white\", \"gridwidth\": 2, \"linecolor\": \"white\", \"showbackground\": true, \"ticks\": \"\", \"zerolinecolor\": \"white\"}, \"yaxis\": {\"backgroundcolor\": \"#E5ECF6\", \"gridcolor\": \"white\", \"gridwidth\": 2, \"linecolor\": \"white\", \"showbackground\": true, \"ticks\": \"\", \"zerolinecolor\": \"white\"}, \"zaxis\": {\"backgroundcolor\": \"#E5ECF6\", \"gridcolor\": \"white\", \"gridwidth\": 2, \"linecolor\": \"white\", \"showbackground\": true, \"ticks\": \"\", \"zerolinecolor\": \"white\"}}, \"shapedefaults\": {\"line\": {\"color\": \"#2a3f5f\"}}, \"ternary\": {\"aaxis\": {\"gridcolor\": \"white\", \"linecolor\": \"white\", \"ticks\": \"\"}, \"baxis\": {\"gridcolor\": \"white\", \"linecolor\": \"white\", \"ticks\": \"\"}, \"bgcolor\": \"#E5ECF6\", \"caxis\": {\"gridcolor\": \"white\", \"linecolor\": \"white\", \"ticks\": \"\"}}, \"title\": {\"x\": 0.05}, \"xaxis\": {\"automargin\": true, \"gridcolor\": \"white\", \"linecolor\": \"white\", \"ticks\": \"\", \"title\": {\"standoff\": 15}, \"zerolinecolor\": \"white\", \"zerolinewidth\": 2}, \"yaxis\": {\"automargin\": true, \"gridcolor\": \"white\", \"linecolor\": \"white\", \"ticks\": \"\", \"title\": {\"standoff\": 15}, \"zerolinecolor\": \"white\", \"zerolinewidth\": 2}}}, \"title\": {\"text\": \"Ezreal vs Miss Fortune\"}},\n",
       "                        {\"responsive\": true}\n",
       "                    ).then(function(){\n",
       "                            \n",
       "var gd = document.getElementById('9fbfb878-522a-4672-a308-9adc0d1aa316');\n",
       "var x = new MutationObserver(function (mutations, observer) {{\n",
       "        var display = window.getComputedStyle(gd).display;\n",
       "        if (!display || display === 'none') {{\n",
       "            console.log([gd, 'removed!']);\n",
       "            Plotly.purge(gd);\n",
       "            observer.disconnect();\n",
       "        }}\n",
       "}});\n",
       "\n",
       "// Listen for the removal of the full notebook cells\n",
       "var notebookContainer = gd.closest('#notebook-container');\n",
       "if (notebookContainer) {{\n",
       "    x.observe(notebookContainer, {childList: true});\n",
       "}}\n",
       "\n",
       "// Listen for the clearing of the current output cell\n",
       "var outputEl = gd.closest('.output');\n",
       "if (outputEl) {{\n",
       "    x.observe(outputEl, {childList: true});\n",
       "}}\n",
       "\n",
       "                        })\n",
       "                };\n",
       "                });\n",
       "            </script>\n",
       "        </div>"
      ]
     },
     "metadata": {},
     "output_type": "display_data"
    }
   ],
   "source": [
    "vs_champion_radar_graph('Ezreal',\"Miss Fortune\", color1='blue', color2='black',role='ADC')\n"
   ]
  },
  {
   "cell_type": "code",
   "execution_count": 30,
   "metadata": {},
   "outputs": [
    {
     "data": {
      "text/plain": [
       "(420, 100)"
      ]
     },
     "execution_count": 30,
     "metadata": {},
     "output_type": "execute_result"
    }
   ],
   "source": [
    "data_summer = pd.read_csv('2020summer.csv', delimiter = ',')\n",
    "dataS = pd.DataFrame(data_summer[(data_summer.league == 'LEC')])\n",
    "dataS.shape"
   ]
  },
  {
   "cell_type": "code",
   "execution_count": null,
   "metadata": {},
   "outputs": [],
   "source": []
  }
 ],
 "metadata": {
  "kernelspec": {
   "display_name": "Python 3",
   "language": "python",
   "name": "python3"
  },
  "language_info": {
   "codemirror_mode": {
    "name": "ipython",
    "version": 3
   },
   "file_extension": ".py",
   "mimetype": "text/x-python",
   "name": "python",
   "nbconvert_exporter": "python",
   "pygments_lexer": "ipython3",
   "version": "3.7.4"
  }
 },
 "nbformat": 4,
 "nbformat_minor": 2
}
